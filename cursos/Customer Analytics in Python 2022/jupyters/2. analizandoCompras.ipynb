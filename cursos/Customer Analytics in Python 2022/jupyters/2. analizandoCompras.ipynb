{
 "cells": [
  {
   "cell_type": "markdown",
   "id": "a0df81a0",
   "metadata": {},
   "source": [
    "# Analizando compras\n",
    "\n",
    "👋 En esta jupyter vamos a analizar a los clientes y sus compras referidas a **barras de chocolate**.\n",
    "\n",
    "La idea es tomar datos nuevos y segmentarlos en base a los segmentos que encontramos anteriormente. Luego intentaremos predecir qué marca de chocolate comprará la persona y qué cantidad.\n",
    "\n",
    "Utilizaremos los modelos *StandardScaler*, *PCA* y *KMeans* entrenados previamente."
   ]
  },
  {
   "cell_type": "code",
   "execution_count": 1,
   "id": "1917b374",
   "metadata": {},
   "outputs": [],
   "source": [
    "import numpy as np\n",
    "import pandas as pd\n",
    "import matplotlib.pyplot as plt\n",
    "import pickle\n",
    "import seaborn as sns\n",
    "sns.set() #seteamos sns como estilo por defecto\n",
    "\n",
    "from sklearn.preprocessing import StandardScaler\n",
    "from sklearn.cluster import KMeans\n",
    "from sklearn.decomposition import PCA"
   ]
  },
  {
   "cell_type": "code",
   "execution_count": 2,
   "id": "220a2b74",
   "metadata": {},
   "outputs": [],
   "source": [
    "## cargamos los datos\n",
    "df_compras = pd.read_csv(\"datasets/purchase_data.csv\")"
   ]
  },
  {
   "cell_type": "code",
   "execution_count": 3,
   "id": "de3cf6ee",
   "metadata": {},
   "outputs": [
    {
     "data": {
      "text/html": [
       "<div>\n",
       "<style scoped>\n",
       "    .dataframe tbody tr th:only-of-type {\n",
       "        vertical-align: middle;\n",
       "    }\n",
       "\n",
       "    .dataframe tbody tr th {\n",
       "        vertical-align: top;\n",
       "    }\n",
       "\n",
       "    .dataframe thead th {\n",
       "        text-align: right;\n",
       "    }\n",
       "</style>\n",
       "<table border=\"1\" class=\"dataframe\">\n",
       "  <thead>\n",
       "    <tr style=\"text-align: right;\">\n",
       "      <th></th>\n",
       "      <th>ID</th>\n",
       "      <th>Day</th>\n",
       "      <th>Incidence</th>\n",
       "      <th>Brand</th>\n",
       "      <th>Quantity</th>\n",
       "      <th>Last_Inc_Brand</th>\n",
       "      <th>Last_Inc_Quantity</th>\n",
       "      <th>Price_1</th>\n",
       "      <th>Price_2</th>\n",
       "      <th>Price_3</th>\n",
       "      <th>...</th>\n",
       "      <th>Promotion_3</th>\n",
       "      <th>Promotion_4</th>\n",
       "      <th>Promotion_5</th>\n",
       "      <th>Sex</th>\n",
       "      <th>Marital status</th>\n",
       "      <th>Age</th>\n",
       "      <th>Education</th>\n",
       "      <th>Income</th>\n",
       "      <th>Occupation</th>\n",
       "      <th>Settlement size</th>\n",
       "    </tr>\n",
       "  </thead>\n",
       "  <tbody>\n",
       "    <tr>\n",
       "      <th>0</th>\n",
       "      <td>200000001</td>\n",
       "      <td>1</td>\n",
       "      <td>0</td>\n",
       "      <td>0</td>\n",
       "      <td>0</td>\n",
       "      <td>0</td>\n",
       "      <td>0</td>\n",
       "      <td>1.59</td>\n",
       "      <td>1.87</td>\n",
       "      <td>2.01</td>\n",
       "      <td>...</td>\n",
       "      <td>0</td>\n",
       "      <td>0</td>\n",
       "      <td>0</td>\n",
       "      <td>0</td>\n",
       "      <td>0</td>\n",
       "      <td>47</td>\n",
       "      <td>1</td>\n",
       "      <td>110866</td>\n",
       "      <td>1</td>\n",
       "      <td>0</td>\n",
       "    </tr>\n",
       "    <tr>\n",
       "      <th>1</th>\n",
       "      <td>200000001</td>\n",
       "      <td>11</td>\n",
       "      <td>0</td>\n",
       "      <td>0</td>\n",
       "      <td>0</td>\n",
       "      <td>0</td>\n",
       "      <td>0</td>\n",
       "      <td>1.51</td>\n",
       "      <td>1.89</td>\n",
       "      <td>1.99</td>\n",
       "      <td>...</td>\n",
       "      <td>0</td>\n",
       "      <td>0</td>\n",
       "      <td>0</td>\n",
       "      <td>0</td>\n",
       "      <td>0</td>\n",
       "      <td>47</td>\n",
       "      <td>1</td>\n",
       "      <td>110866</td>\n",
       "      <td>1</td>\n",
       "      <td>0</td>\n",
       "    </tr>\n",
       "    <tr>\n",
       "      <th>2</th>\n",
       "      <td>200000001</td>\n",
       "      <td>12</td>\n",
       "      <td>0</td>\n",
       "      <td>0</td>\n",
       "      <td>0</td>\n",
       "      <td>0</td>\n",
       "      <td>0</td>\n",
       "      <td>1.51</td>\n",
       "      <td>1.89</td>\n",
       "      <td>1.99</td>\n",
       "      <td>...</td>\n",
       "      <td>0</td>\n",
       "      <td>0</td>\n",
       "      <td>0</td>\n",
       "      <td>0</td>\n",
       "      <td>0</td>\n",
       "      <td>47</td>\n",
       "      <td>1</td>\n",
       "      <td>110866</td>\n",
       "      <td>1</td>\n",
       "      <td>0</td>\n",
       "    </tr>\n",
       "    <tr>\n",
       "      <th>3</th>\n",
       "      <td>200000001</td>\n",
       "      <td>16</td>\n",
       "      <td>0</td>\n",
       "      <td>0</td>\n",
       "      <td>0</td>\n",
       "      <td>0</td>\n",
       "      <td>0</td>\n",
       "      <td>1.52</td>\n",
       "      <td>1.89</td>\n",
       "      <td>1.98</td>\n",
       "      <td>...</td>\n",
       "      <td>0</td>\n",
       "      <td>0</td>\n",
       "      <td>0</td>\n",
       "      <td>0</td>\n",
       "      <td>0</td>\n",
       "      <td>47</td>\n",
       "      <td>1</td>\n",
       "      <td>110866</td>\n",
       "      <td>1</td>\n",
       "      <td>0</td>\n",
       "    </tr>\n",
       "    <tr>\n",
       "      <th>4</th>\n",
       "      <td>200000001</td>\n",
       "      <td>18</td>\n",
       "      <td>0</td>\n",
       "      <td>0</td>\n",
       "      <td>0</td>\n",
       "      <td>0</td>\n",
       "      <td>0</td>\n",
       "      <td>1.52</td>\n",
       "      <td>1.89</td>\n",
       "      <td>1.99</td>\n",
       "      <td>...</td>\n",
       "      <td>0</td>\n",
       "      <td>0</td>\n",
       "      <td>0</td>\n",
       "      <td>0</td>\n",
       "      <td>0</td>\n",
       "      <td>47</td>\n",
       "      <td>1</td>\n",
       "      <td>110866</td>\n",
       "      <td>1</td>\n",
       "      <td>0</td>\n",
       "    </tr>\n",
       "  </tbody>\n",
       "</table>\n",
       "<p>5 rows × 24 columns</p>\n",
       "</div>"
      ],
      "text/plain": [
       "          ID  Day  Incidence  Brand  Quantity  Last_Inc_Brand  \\\n",
       "0  200000001    1          0      0         0               0   \n",
       "1  200000001   11          0      0         0               0   \n",
       "2  200000001   12          0      0         0               0   \n",
       "3  200000001   16          0      0         0               0   \n",
       "4  200000001   18          0      0         0               0   \n",
       "\n",
       "   Last_Inc_Quantity  Price_1  Price_2  Price_3  ...  Promotion_3  \\\n",
       "0                  0     1.59     1.87     2.01  ...            0   \n",
       "1                  0     1.51     1.89     1.99  ...            0   \n",
       "2                  0     1.51     1.89     1.99  ...            0   \n",
       "3                  0     1.52     1.89     1.98  ...            0   \n",
       "4                  0     1.52     1.89     1.99  ...            0   \n",
       "\n",
       "   Promotion_4  Promotion_5  Sex  Marital status  Age  Education  Income  \\\n",
       "0            0            0    0               0   47          1  110866   \n",
       "1            0            0    0               0   47          1  110866   \n",
       "2            0            0    0               0   47          1  110866   \n",
       "3            0            0    0               0   47          1  110866   \n",
       "4            0            0    0               0   47          1  110866   \n",
       "\n",
       "   Occupation  Settlement size  \n",
       "0           1                0  \n",
       "1           1                0  \n",
       "2           1                0  \n",
       "3           1                0  \n",
       "4           1                0  \n",
       "\n",
       "[5 rows x 24 columns]"
      ]
     },
     "execution_count": 3,
     "metadata": {},
     "output_type": "execute_result"
    }
   ],
   "source": [
    "df_compras.head()"
   ]
  },
  {
   "cell_type": "markdown",
   "id": "d595bf43",
   "metadata": {},
   "source": [
    "### Analizando columnas\n",
    "\n",
    "- *Incidence*: Hace referencia a si la persona compró algún ítem de la categoría (1) o no (0).\n",
    "- *Brand*: Marca de chocolate (de 1 a 5).\n",
    "- *Quantity*: Cantidad comprada.\n",
    "- *Last_Inc_Brand*: Muestra que marca compró en su última visita el cliente (de 1 a 5).\n",
    "- *Last_Inc_Quantity*: Muestra la cantidad de chocolate que compro en su última visita.\n",
    "\n",
    "- *Promotions*: Hace referencia a si se aplicaron o no promociones sobre la compra del cliente.\n",
    "- *Datos demográficos*: Las últimas 7 características (columnas) representan los datos demográficos analizados anteriormente."
   ]
  },
  {
   "cell_type": "code",
   "execution_count": 4,
   "id": "fc0e0c8f",
   "metadata": {},
   "outputs": [],
   "source": [
    "# df_compras.isnull().sum()"
   ]
  },
  {
   "cell_type": "markdown",
   "id": "a3a49e07",
   "metadata": {},
   "source": [
    "Podemos ver que no tenemos valores nulos en nuestro set de datos."
   ]
  },
  {
   "cell_type": "markdown",
   "id": "688b1f89",
   "metadata": {},
   "source": [
    "### Segmentando clientes nuevos\n",
    "\n",
    "Debemos notar que las últimas 7 columnas poseen la misma información que hemos utilizado anteriormente para segmentar los clientes. De hecho, utilizaremos estas columnas y los modelos guardados para segmentarlos."
   ]
  },
  {
   "cell_type": "code",
   "execution_count": 5,
   "id": "1ee903ab",
   "metadata": {},
   "outputs": [],
   "source": [
    "## cargamos modelos\n",
    "\n",
    "scaler = pickle.load(open(\"models/scaler.pickle\",\"rb\"))\n",
    "pca = pickle.load(open(\"models/pca.pickle\",\"rb\"))\n",
    "kmeans_pca = pickle.load(open(\"models/kmeans_pca.pickle\", \"rb\"))"
   ]
  },
  {
   "cell_type": "markdown",
   "id": "ea5c2c0b",
   "metadata": {},
   "source": [
    "#### Estandarizando, aplicando PCA y segmentando\n",
    "\n",
    "Ahora vamos a aplicar el PCA entrenado a los datos correspondientes a las últimas siete columnas del dataframe que hemos cargado. Luego aplicaremos estos datos transformados al modelo Kmeans para segmentar los clientes. Antes debemos aplicar el *scaler* a los datos."
   ]
  },
  {
   "cell_type": "code",
   "execution_count": 6,
   "id": "5dc75e78",
   "metadata": {},
   "outputs": [],
   "source": [
    "## nos quedamos con las columnas para procesar los segmentos\n",
    "segmentos_features = df_compras[[\"Sex\", \"Marital status\",\"Age\", \"Education\", \"Income\", \"Occupation\",\"Settlement size\"]]"
   ]
  },
  {
   "cell_type": "code",
   "execution_count": 7,
   "id": "d37555de",
   "metadata": {},
   "outputs": [],
   "source": [
    "## Estandarizamos los datos\n",
    "df_compras_std = scaler.transform(segmentos_features)"
   ]
  },
  {
   "cell_type": "code",
   "execution_count": 8,
   "id": "f49d4656",
   "metadata": {},
   "outputs": [],
   "source": [
    "## Aplicamos PCA\n",
    "df_compras_std_pca = pca.transform(df_compras_std)"
   ]
  },
  {
   "cell_type": "code",
   "execution_count": 9,
   "id": "3553bf1b",
   "metadata": {},
   "outputs": [],
   "source": [
    "## Segmentamos los clientes usando KMeans\n",
    "labels_segmentos = kmeans_pca.predict(df_compras_std_pca)"
   ]
  },
  {
   "cell_type": "code",
   "execution_count": 10,
   "id": "c29c8962",
   "metadata": {},
   "outputs": [],
   "source": [
    "df_compras_segmentados = df_compras.copy() #predictors"
   ]
  },
  {
   "cell_type": "code",
   "execution_count": 11,
   "id": "dc9ff9ec",
   "metadata": {},
   "outputs": [],
   "source": [
    "#Agregamos una columna con los segmentos encontrados por KMeans\n",
    "df_compras_segmentados[\"Segmento\"] = labels_segmentos"
   ]
  },
  {
   "cell_type": "markdown",
   "id": "5464630b",
   "metadata": {},
   "source": [
    "#### Guardando dataframe con segmentos\n",
    "\n",
    "A continuación guardaremos el dataframe con los segmentos encontrados para poder usarlo más adelante."
   ]
  },
  {
   "cell_type": "code",
   "execution_count": 12,
   "id": "5c6027e3",
   "metadata": {},
   "outputs": [],
   "source": [
    "df_compras_segmentados.to_csv(\"datasets/purchase_data_segmentado.csv\", index = False)"
   ]
  },
  {
   "cell_type": "markdown",
   "id": "3d312411",
   "metadata": {},
   "source": [
    "## Análisis *descriptivo* de los segmentos\n",
    "\n",
    "### Análisis de datos por *cliente*\n",
    "\n",
    "Analizaremos que tan seguido cada grupo va de compras, cuánto dinero gastan y que productos compraron.\n",
    "\n",
    "Debemos notar que tenemos varias compras por individuo. La idea es poder obtener un resumen o *summary* de cada cliente, para así poder estudiar a cada cliente de manera individual. Vamos a generar un nuevo dataframe que contenga información resumida de cada cliente."
   ]
  },
  {
   "cell_type": "code",
   "execution_count": 13,
   "id": "4b4f54c8",
   "metadata": {},
   "outputs": [],
   "source": [
    "#Contabilizamos la cantidad de veces que un cliente entro a la tienda\n",
    "temporal1 = df_compras_segmentados[[\"ID\",\"Incidence\"]].groupby([\"ID\"], as_index = False).count()\n",
    "temporal1 = temporal1.set_index(\"ID\")\n",
    "temporal1 = temporal1.rename(columns = {\"Incidence\": \"N. visitas\"})"
   ]
  },
  {
   "cell_type": "code",
   "execution_count": 14,
   "id": "b089a272",
   "metadata": {},
   "outputs": [
    {
     "data": {
      "text/html": [
       "<div>\n",
       "<style scoped>\n",
       "    .dataframe tbody tr th:only-of-type {\n",
       "        vertical-align: middle;\n",
       "    }\n",
       "\n",
       "    .dataframe tbody tr th {\n",
       "        vertical-align: top;\n",
       "    }\n",
       "\n",
       "    .dataframe thead th {\n",
       "        text-align: right;\n",
       "    }\n",
       "</style>\n",
       "<table border=\"1\" class=\"dataframe\">\n",
       "  <thead>\n",
       "    <tr style=\"text-align: right;\">\n",
       "      <th></th>\n",
       "      <th>N. visitas</th>\n",
       "    </tr>\n",
       "    <tr>\n",
       "      <th>ID</th>\n",
       "      <th></th>\n",
       "    </tr>\n",
       "  </thead>\n",
       "  <tbody>\n",
       "    <tr>\n",
       "      <th>200000001</th>\n",
       "      <td>101</td>\n",
       "    </tr>\n",
       "    <tr>\n",
       "      <th>200000002</th>\n",
       "      <td>87</td>\n",
       "    </tr>\n",
       "    <tr>\n",
       "      <th>200000003</th>\n",
       "      <td>97</td>\n",
       "    </tr>\n",
       "    <tr>\n",
       "      <th>200000004</th>\n",
       "      <td>85</td>\n",
       "    </tr>\n",
       "    <tr>\n",
       "      <th>200000005</th>\n",
       "      <td>111</td>\n",
       "    </tr>\n",
       "  </tbody>\n",
       "</table>\n",
       "</div>"
      ],
      "text/plain": [
       "           N. visitas\n",
       "ID                   \n",
       "200000001         101\n",
       "200000002          87\n",
       "200000003          97\n",
       "200000004          85\n",
       "200000005         111"
      ]
     },
     "execution_count": 14,
     "metadata": {},
     "output_type": "execute_result"
    }
   ],
   "source": [
    "temporal1.head()"
   ]
  },
  {
   "cell_type": "markdown",
   "id": "22df3ce1",
   "metadata": {},
   "source": [
    "#### Cantidad de veces que un cliente compró un producto\n",
    "\n",
    "Estamos interesados en saber las veces que un cliente ha comprado un producto al entrar a la tienda. Esto nos servirá como un indicador de la probabilidad de que cuando ingrese a la tienda, compre un producto, y además, si comprará o no un chocolate, eventualmente qué marca comprará y finalmente en qué cantidad.\n",
    "\n",
    "La columna **incidence** posee el valor $1$ si hubo una compra de algúna barra de chocolate o $0$ en otro caso.\n",
    "\n",
    "Por lo tanto, para saber la cantidad de veces que un cliente ha comprado un chocolate, lo único que tenemos que hacer es sumar la columna."
   ]
  },
  {
   "cell_type": "code",
   "execution_count": 15,
   "id": "5d05b8ac",
   "metadata": {},
   "outputs": [],
   "source": [
    "temporal2 = df_compras_segmentados[[\"ID\",\"Incidence\"]].groupby(\"ID\",as_index = False).sum()\n",
    "temporal2 = temporal2.set_index(\"ID\")\n",
    "temporal2 = temporal2.rename(columns = {\"Incidence\":\"N. compras\"})"
   ]
  },
  {
   "cell_type": "code",
   "execution_count": 16,
   "id": "87e68118",
   "metadata": {},
   "outputs": [
    {
     "data": {
      "text/html": [
       "<div>\n",
       "<style scoped>\n",
       "    .dataframe tbody tr th:only-of-type {\n",
       "        vertical-align: middle;\n",
       "    }\n",
       "\n",
       "    .dataframe tbody tr th {\n",
       "        vertical-align: top;\n",
       "    }\n",
       "\n",
       "    .dataframe thead th {\n",
       "        text-align: right;\n",
       "    }\n",
       "</style>\n",
       "<table border=\"1\" class=\"dataframe\">\n",
       "  <thead>\n",
       "    <tr style=\"text-align: right;\">\n",
       "      <th></th>\n",
       "      <th>N. compras</th>\n",
       "    </tr>\n",
       "    <tr>\n",
       "      <th>ID</th>\n",
       "      <th></th>\n",
       "    </tr>\n",
       "  </thead>\n",
       "  <tbody>\n",
       "    <tr>\n",
       "      <th>200000001</th>\n",
       "      <td>9</td>\n",
       "    </tr>\n",
       "    <tr>\n",
       "      <th>200000002</th>\n",
       "      <td>11</td>\n",
       "    </tr>\n",
       "    <tr>\n",
       "      <th>200000003</th>\n",
       "      <td>10</td>\n",
       "    </tr>\n",
       "    <tr>\n",
       "      <th>200000004</th>\n",
       "      <td>11</td>\n",
       "    </tr>\n",
       "    <tr>\n",
       "      <th>200000005</th>\n",
       "      <td>13</td>\n",
       "    </tr>\n",
       "  </tbody>\n",
       "</table>\n",
       "</div>"
      ],
      "text/plain": [
       "           N. compras\n",
       "ID                   \n",
       "200000001           9\n",
       "200000002          11\n",
       "200000003          10\n",
       "200000004          11\n",
       "200000005          13"
      ]
     },
     "execution_count": 16,
     "metadata": {},
     "output_type": "execute_result"
    }
   ],
   "source": [
    "temporal2.head()"
   ]
  },
  {
   "cell_type": "code",
   "execution_count": 17,
   "id": "d5cba356",
   "metadata": {},
   "outputs": [
    {
     "data": {
      "text/html": [
       "<div>\n",
       "<style scoped>\n",
       "    .dataframe tbody tr th:only-of-type {\n",
       "        vertical-align: middle;\n",
       "    }\n",
       "\n",
       "    .dataframe tbody tr th {\n",
       "        vertical-align: top;\n",
       "    }\n",
       "\n",
       "    .dataframe thead th {\n",
       "        text-align: right;\n",
       "    }\n",
       "</style>\n",
       "<table border=\"1\" class=\"dataframe\">\n",
       "  <thead>\n",
       "    <tr style=\"text-align: right;\">\n",
       "      <th></th>\n",
       "      <th>N. visitas</th>\n",
       "      <th>N. compras</th>\n",
       "    </tr>\n",
       "    <tr>\n",
       "      <th>ID</th>\n",
       "      <th></th>\n",
       "      <th></th>\n",
       "    </tr>\n",
       "  </thead>\n",
       "  <tbody>\n",
       "    <tr>\n",
       "      <th>200000001</th>\n",
       "      <td>101</td>\n",
       "      <td>9</td>\n",
       "    </tr>\n",
       "    <tr>\n",
       "      <th>200000002</th>\n",
       "      <td>87</td>\n",
       "      <td>11</td>\n",
       "    </tr>\n",
       "    <tr>\n",
       "      <th>200000003</th>\n",
       "      <td>97</td>\n",
       "      <td>10</td>\n",
       "    </tr>\n",
       "    <tr>\n",
       "      <th>200000004</th>\n",
       "      <td>85</td>\n",
       "      <td>11</td>\n",
       "    </tr>\n",
       "    <tr>\n",
       "      <th>200000005</th>\n",
       "      <td>111</td>\n",
       "      <td>13</td>\n",
       "    </tr>\n",
       "  </tbody>\n",
       "</table>\n",
       "</div>"
      ],
      "text/plain": [
       "           N. visitas  N. compras\n",
       "ID                               \n",
       "200000001         101           9\n",
       "200000002          87          11\n",
       "200000003          97          10\n",
       "200000004          85          11\n",
       "200000005         111          13"
      ]
     },
     "execution_count": 17,
     "metadata": {},
     "output_type": "execute_result"
    }
   ],
   "source": [
    "## combinamos ambos dataframes\n",
    "temporal3 = temporal1.join(temporal2)\n",
    "temporal3.head()"
   ]
  },
  {
   "cell_type": "markdown",
   "id": "7473a5d4",
   "metadata": {},
   "source": [
    "Ahora tenemos un nuevo dataframe que posee la cantidad de veces que un cliente ha visitado la tienda y el número de compras realizado en esas visitas."
   ]
  },
  {
   "cell_type": "markdown",
   "id": "3832c652",
   "metadata": {},
   "source": [
    "##### Frecuencia promedio de compra por cada cliente\n",
    "\n",
    "Esto es sencillo de calcular ya que es la cantidad de veces que el cliente compró chocolate divido las veces que entro a la tienda."
   ]
  },
  {
   "cell_type": "code",
   "execution_count": 18,
   "id": "996f567f",
   "metadata": {},
   "outputs": [
    {
     "data": {
      "text/html": [
       "<div>\n",
       "<style scoped>\n",
       "    .dataframe tbody tr th:only-of-type {\n",
       "        vertical-align: middle;\n",
       "    }\n",
       "\n",
       "    .dataframe tbody tr th {\n",
       "        vertical-align: top;\n",
       "    }\n",
       "\n",
       "    .dataframe thead th {\n",
       "        text-align: right;\n",
       "    }\n",
       "</style>\n",
       "<table border=\"1\" class=\"dataframe\">\n",
       "  <thead>\n",
       "    <tr style=\"text-align: right;\">\n",
       "      <th></th>\n",
       "      <th>N. visitas</th>\n",
       "      <th>N. compras</th>\n",
       "      <th>Frec_prom_compra</th>\n",
       "    </tr>\n",
       "    <tr>\n",
       "      <th>ID</th>\n",
       "      <th></th>\n",
       "      <th></th>\n",
       "      <th></th>\n",
       "    </tr>\n",
       "  </thead>\n",
       "  <tbody>\n",
       "    <tr>\n",
       "      <th>200000001</th>\n",
       "      <td>101</td>\n",
       "      <td>9</td>\n",
       "      <td>0.089109</td>\n",
       "    </tr>\n",
       "    <tr>\n",
       "      <th>200000002</th>\n",
       "      <td>87</td>\n",
       "      <td>11</td>\n",
       "      <td>0.126437</td>\n",
       "    </tr>\n",
       "    <tr>\n",
       "      <th>200000003</th>\n",
       "      <td>97</td>\n",
       "      <td>10</td>\n",
       "      <td>0.103093</td>\n",
       "    </tr>\n",
       "    <tr>\n",
       "      <th>200000004</th>\n",
       "      <td>85</td>\n",
       "      <td>11</td>\n",
       "      <td>0.129412</td>\n",
       "    </tr>\n",
       "    <tr>\n",
       "      <th>200000005</th>\n",
       "      <td>111</td>\n",
       "      <td>13</td>\n",
       "      <td>0.117117</td>\n",
       "    </tr>\n",
       "  </tbody>\n",
       "</table>\n",
       "</div>"
      ],
      "text/plain": [
       "           N. visitas  N. compras  Frec_prom_compra\n",
       "ID                                                 \n",
       "200000001         101           9          0.089109\n",
       "200000002          87          11          0.126437\n",
       "200000003          97          10          0.103093\n",
       "200000004          85          11          0.129412\n",
       "200000005         111          13          0.117117"
      ]
     },
     "execution_count": 18,
     "metadata": {},
     "output_type": "execute_result"
    }
   ],
   "source": [
    "temporal3[\"Frec_prom_compra\"] = temporal3[\"N. compras\"]/temporal3[\"N. visitas\"]\n",
    "temporal3.head()"
   ]
  },
  {
   "cell_type": "markdown",
   "id": "17773fbe",
   "metadata": {},
   "source": [
    "Ahora agregaremos una columna para saber a qué segmento (que hemos predicho con KMeans y PCA) pertenece cada cliente."
   ]
  },
  {
   "cell_type": "code",
   "execution_count": 19,
   "id": "64ed4ea5",
   "metadata": {},
   "outputs": [
    {
     "data": {
      "text/html": [
       "<div>\n",
       "<style scoped>\n",
       "    .dataframe tbody tr th:only-of-type {\n",
       "        vertical-align: middle;\n",
       "    }\n",
       "\n",
       "    .dataframe tbody tr th {\n",
       "        vertical-align: top;\n",
       "    }\n",
       "\n",
       "    .dataframe thead th {\n",
       "        text-align: right;\n",
       "    }\n",
       "</style>\n",
       "<table border=\"1\" class=\"dataframe\">\n",
       "  <thead>\n",
       "    <tr style=\"text-align: right;\">\n",
       "      <th></th>\n",
       "      <th>N. visitas</th>\n",
       "      <th>N. compras</th>\n",
       "      <th>Frec_prom_compra</th>\n",
       "      <th>Segmento</th>\n",
       "    </tr>\n",
       "    <tr>\n",
       "      <th>ID</th>\n",
       "      <th></th>\n",
       "      <th></th>\n",
       "      <th></th>\n",
       "      <th></th>\n",
       "    </tr>\n",
       "  </thead>\n",
       "  <tbody>\n",
       "    <tr>\n",
       "      <th>200000001</th>\n",
       "      <td>101</td>\n",
       "      <td>9</td>\n",
       "      <td>0.089109</td>\n",
       "      <td>2</td>\n",
       "    </tr>\n",
       "    <tr>\n",
       "      <th>200000002</th>\n",
       "      <td>87</td>\n",
       "      <td>11</td>\n",
       "      <td>0.126437</td>\n",
       "      <td>3</td>\n",
       "    </tr>\n",
       "    <tr>\n",
       "      <th>200000003</th>\n",
       "      <td>97</td>\n",
       "      <td>10</td>\n",
       "      <td>0.103093</td>\n",
       "      <td>2</td>\n",
       "    </tr>\n",
       "    <tr>\n",
       "      <th>200000004</th>\n",
       "      <td>85</td>\n",
       "      <td>11</td>\n",
       "      <td>0.129412</td>\n",
       "      <td>2</td>\n",
       "    </tr>\n",
       "    <tr>\n",
       "      <th>200000005</th>\n",
       "      <td>111</td>\n",
       "      <td>13</td>\n",
       "      <td>0.117117</td>\n",
       "      <td>1</td>\n",
       "    </tr>\n",
       "  </tbody>\n",
       "</table>\n",
       "</div>"
      ],
      "text/plain": [
       "           N. visitas  N. compras  Frec_prom_compra  Segmento\n",
       "ID                                                           \n",
       "200000001         101           9          0.089109         2\n",
       "200000002          87          11          0.126437         3\n",
       "200000003          97          10          0.103093         2\n",
       "200000004          85          11          0.129412         2\n",
       "200000005         111          13          0.117117         1"
      ]
     },
     "execution_count": 19,
     "metadata": {},
     "output_type": "execute_result"
    }
   ],
   "source": [
    "temporal4 = df_compras_segmentados[[\"ID\",\"Segmento\"]].groupby(\"ID\",as_index = False).mean().astype('int')\n",
    "temporal4 = temporal4.set_index(\"ID\")\n",
    "df_compra_cliente = temporal3.join(temporal4)\n",
    "df_compra_cliente.head()"
   ]
  },
  {
   "cell_type": "markdown",
   "id": "231f548b",
   "metadata": {},
   "source": [
    "### Analizando proporciones de los segmentos\n",
    "\n",
    "Podríamos poder analizar el comportamiento de cada cliente. No obstante, tenemos pocos datos.\n",
    "\n",
    "Lo que podemos hacer es estudiar a cada segmento.\n",
    "\n",
    "Calculemos las **proporciones de compra por segmento**."
   ]
  },
  {
   "cell_type": "code",
   "execution_count": 20,
   "id": "bc7d4c9b",
   "metadata": {},
   "outputs": [
    {
     "data": {
      "text/html": [
       "<div>\n",
       "<style scoped>\n",
       "    .dataframe tbody tr th:only-of-type {\n",
       "        vertical-align: middle;\n",
       "    }\n",
       "\n",
       "    .dataframe tbody tr th {\n",
       "        vertical-align: top;\n",
       "    }\n",
       "\n",
       "    .dataframe thead th {\n",
       "        text-align: right;\n",
       "    }\n",
       "</style>\n",
       "<table border=\"1\" class=\"dataframe\">\n",
       "  <thead>\n",
       "    <tr style=\"text-align: right;\">\n",
       "      <th></th>\n",
       "      <th>Proporciones Segmento</th>\n",
       "    </tr>\n",
       "    <tr>\n",
       "      <th>Segmento</th>\n",
       "      <th></th>\n",
       "    </tr>\n",
       "  </thead>\n",
       "  <tbody>\n",
       "    <tr>\n",
       "      <th>0</th>\n",
       "      <td>0.206</td>\n",
       "    </tr>\n",
       "    <tr>\n",
       "      <th>1</th>\n",
       "      <td>0.220</td>\n",
       "    </tr>\n",
       "    <tr>\n",
       "      <th>2</th>\n",
       "      <td>0.378</td>\n",
       "    </tr>\n",
       "    <tr>\n",
       "      <th>3</th>\n",
       "      <td>0.196</td>\n",
       "    </tr>\n",
       "  </tbody>\n",
       "</table>\n",
       "</div>"
      ],
      "text/plain": [
       "          Proporciones Segmento\n",
       "Segmento                       \n",
       "0                         0.206\n",
       "1                         0.220\n",
       "2                         0.378\n",
       "3                         0.196"
      ]
     },
     "execution_count": 20,
     "metadata": {},
     "output_type": "execute_result"
    }
   ],
   "source": [
    "propor_segmen = df_compra_cliente[[\"N. compras\", \"Segmento\"]].groupby(\"Segmento\").count()/df_compra_cliente.shape[0]\n",
    "propor_segmen = propor_segmen.rename(columns = {\"N. compras\":\"Proporciones Segmento\"})\n",
    "propor_segmen"
   ]
  },
  {
   "cell_type": "code",
   "execution_count": 21,
   "id": "38fdfad5",
   "metadata": {},
   "outputs": [
    {
     "data": {
      "image/png": "[encoded data removed]",
      "text/plain": [
       "<Figure size 720x504 with 1 Axes>"
      ]
     },
     "metadata": {},
     "output_type": "display_data"
    }
   ],
   "source": [
    "plt.figure(figsize = (10,7))\n",
    "_, _, autotexts = plt.pie(propor_segmen[\"Proporciones Segmento\"],\n",
    "                            labels = [\"Estándar\", \"Enfocados en Trabajar\", \"Baja oportunidad\", \"Acomodados\"],\n",
    "                            autopct = \"%1.1f%%\",\n",
    "                             colors = (\"r\",\"g\",\"b\",\"y\"))\n",
    "\n",
    "for ins in autotexts:\n",
    "    ins.set_color('white')\n",
    "    ins.set_fontsize(14)\n",
    "    \n",
    "plt.title(\"Proporciones de compra para cada segmento de cliente\", fontsize = 15)\n",
    "plt.show()"
   ]
  },
  {
   "cell_type": "markdown",
   "id": "af86e67a",
   "metadata": {},
   "source": [
    "#### Frecuencia de visitas por segmento\n",
    "\n",
    "Vamos a ver,\n",
    "\n",
    "- cuan a menudo las personas de un segmento visitan la tienda,\n",
    "- cuan a menudo compran barras de chocolate,\n",
    "- cuan seguido compran relativo al número de visitas.\n",
    "\n",
    "Para poder responder esto, vamos a encontrar los valores medios y los desvíos estándard *por segmento* de nuestro dataframe. La *media* muestra el *comportamiento* de cada segmento. Por otro lado, el desvío estándar muestra que tan *homogeneo* cada segmento es."
   ]
  },
  {
   "cell_type": "code",
   "execution_count": 22,
   "id": "437e55ef",
   "metadata": {},
   "outputs": [
    {
     "data": {
      "text/html": [
       "<div>\n",
       "<style scoped>\n",
       "    .dataframe tbody tr th:only-of-type {\n",
       "        vertical-align: middle;\n",
       "    }\n",
       "\n",
       "    .dataframe tbody tr th {\n",
       "        vertical-align: top;\n",
       "    }\n",
       "\n",
       "    .dataframe thead th {\n",
       "        text-align: right;\n",
       "    }\n",
       "</style>\n",
       "<table border=\"1\" class=\"dataframe\">\n",
       "  <thead>\n",
       "    <tr style=\"text-align: right;\">\n",
       "      <th></th>\n",
       "      <th>N. visitas</th>\n",
       "      <th>N. compras</th>\n",
       "      <th>Frec_prom_compra</th>\n",
       "    </tr>\n",
       "    <tr>\n",
       "      <th>Segmento</th>\n",
       "      <th></th>\n",
       "      <th></th>\n",
       "      <th></th>\n",
       "    </tr>\n",
       "  </thead>\n",
       "  <tbody>\n",
       "    <tr>\n",
       "      <th>Estándar</th>\n",
       "      <td>117.699029</td>\n",
       "      <td>24.902913</td>\n",
       "      <td>0.212773</td>\n",
       "    </tr>\n",
       "    <tr>\n",
       "      <th>Enfocados en trabajar</th>\n",
       "      <td>123.454545</td>\n",
       "      <td>39.827273</td>\n",
       "      <td>0.283102</td>\n",
       "    </tr>\n",
       "    <tr>\n",
       "      <th>Baja oportunidad</th>\n",
       "      <td>113.730159</td>\n",
       "      <td>22.756614</td>\n",
       "      <td>0.201588</td>\n",
       "    </tr>\n",
       "    <tr>\n",
       "      <th>Acomodados</th>\n",
       "      <td>117.295918</td>\n",
       "      <td>34.602041</td>\n",
       "      <td>0.284478</td>\n",
       "    </tr>\n",
       "  </tbody>\n",
       "</table>\n",
       "</div>"
      ],
      "text/plain": [
       "                       N. visitas  N. compras  Frec_prom_compra\n",
       "Segmento                                                       \n",
       "Estándar               117.699029   24.902913          0.212773\n",
       "Enfocados en trabajar  123.454545   39.827273          0.283102\n",
       "Baja oportunidad       113.730159   22.756614          0.201588\n",
       "Acomodados             117.295918   34.602041          0.284478"
      ]
     },
     "execution_count": 22,
     "metadata": {},
     "output_type": "execute_result"
    }
   ],
   "source": [
    "media_segmentos = df_compra_cliente.groupby([\"Segmento\"]).mean()\n",
    "media_segmentos = media_segmentos.rename({0: \"Estándar\",\n",
    "                                          1: \"Enfocados en trabajar\",\n",
    "                                          2: \"Baja oportunidad\",\n",
    "                                          3: \"Acomodados\"})\n",
    "media_segmentos"
   ]
  },
  {
   "cell_type": "code",
   "execution_count": 23,
   "id": "aebf8b63",
   "metadata": {},
   "outputs": [
    {
     "data": {
      "text/html": [
       "<div>\n",
       "<style scoped>\n",
       "    .dataframe tbody tr th:only-of-type {\n",
       "        vertical-align: middle;\n",
       "    }\n",
       "\n",
       "    .dataframe tbody tr th {\n",
       "        vertical-align: top;\n",
       "    }\n",
       "\n",
       "    .dataframe thead th {\n",
       "        text-align: right;\n",
       "    }\n",
       "</style>\n",
       "<table border=\"1\" class=\"dataframe\">\n",
       "  <thead>\n",
       "    <tr style=\"text-align: right;\">\n",
       "      <th></th>\n",
       "      <th>N. visitas</th>\n",
       "      <th>N. compras</th>\n",
       "      <th>Frec_prom_compra</th>\n",
       "    </tr>\n",
       "    <tr>\n",
       "      <th>Segmento</th>\n",
       "      <th></th>\n",
       "      <th></th>\n",
       "      <th></th>\n",
       "    </tr>\n",
       "  </thead>\n",
       "  <tbody>\n",
       "    <tr>\n",
       "      <th>Estándar</th>\n",
       "      <td>19.039605</td>\n",
       "      <td>16.774464</td>\n",
       "      <td>0.126603</td>\n",
       "    </tr>\n",
       "    <tr>\n",
       "      <th>Enfocados en trabajar</th>\n",
       "      <td>44.864656</td>\n",
       "      <td>53.744530</td>\n",
       "      <td>0.200056</td>\n",
       "    </tr>\n",
       "    <tr>\n",
       "      <th>Baja oportunidad</th>\n",
       "      <td>16.410498</td>\n",
       "      <td>13.815040</td>\n",
       "      <td>0.120335</td>\n",
       "    </tr>\n",
       "    <tr>\n",
       "      <th>Acomodados</th>\n",
       "      <td>20.716152</td>\n",
       "      <td>25.900579</td>\n",
       "      <td>0.171787</td>\n",
       "    </tr>\n",
       "  </tbody>\n",
       "</table>\n",
       "</div>"
      ],
      "text/plain": [
       "                       N. visitas  N. compras  Frec_prom_compra\n",
       "Segmento                                                       \n",
       "Estándar                19.039605   16.774464          0.126603\n",
       "Enfocados en trabajar   44.864656   53.744530          0.200056\n",
       "Baja oportunidad        16.410498   13.815040          0.120335\n",
       "Acomodados              20.716152   25.900579          0.171787"
      ]
     },
     "execution_count": 23,
     "metadata": {},
     "output_type": "execute_result"
    }
   ],
   "source": [
    "## encontramos el desvío estandar\n",
    "std_segmentos = df_compra_cliente.groupby([\"Segmento\"]).std()\n",
    "std_segmentos = std_segmentos.rename({0: \"Estándar\",\n",
    "                                      1: \"Enfocados en trabajar\",\n",
    "                                      2: \"Baja oportunidad\",\n",
    "                                      3: \"Acomodados\"})\n",
    "std_segmentos"
   ]
  },
  {
   "cell_type": "markdown",
   "id": "602724b9",
   "metadata": {},
   "source": [
    "##### Frecuencia de personas en cada segmento visitando la tienda"
   ]
  },
  {
   "cell_type": "code",
   "execution_count": 24,
   "id": "2a1dc1b0",
   "metadata": {},
   "outputs": [
    {
     "data": {
      "image/png": "[encoded data removed]",
      "text/plain": [
       "<Figure size 720x504 with 1 Axes>"
      ]
     },
     "metadata": {
      "needs_background": "light"
     },
     "output_type": "display_data"
    }
   ],
   "source": [
    "plt.figure(figsize = (10,7))\n",
    "\n",
    "plt.title(\"Frecuencia media y std de visitas para cada segmento\", fontsize = 14)\n",
    "plt.bar(x = range(0,4), tick_label = (\"Estándar\",\"Enfocados en trabajar\",\"Baja oportunidad\",\"Acomodados\"),\n",
    "       height = media_segmentos[\"N. visitas\"], yerr = std_segmentos[\"N. visitas\"],\n",
    "       color = (\"r\",\"g\",\"b\",\"y\"))\n",
    "plt.xlabel(\"Segmentos\")\n",
    "plt.ylabel(\"Media de visitas\")\n",
    "\n",
    "plt.show()"
   ]
  },
  {
   "cell_type": "markdown",
   "id": "32c97d72",
   "metadata": {},
   "source": [
    "##### Frecuencia de compras por segmento"
   ]
  },
  {
   "cell_type": "code",
   "execution_count": 25,
   "id": "ea674846",
   "metadata": {},
   "outputs": [
    {
     "data": {
      "image/png": "[encoded data removed]",
      "text/plain": [
       "<Figure size 720x504 with 1 Axes>"
      ]
     },
     "metadata": {
      "needs_background": "light"
     },
     "output_type": "display_data"
    }
   ],
   "source": [
    "plt.figure(figsize = (10,7))\n",
    "\n",
    "plt.title(\"Frecuencia media y std de visitas para cada segmento\", fontsize = 14)\n",
    "plt.bar(x = range(0,4), tick_label = (\"Estándar\",\"Enfocados en trabajar\",\"Baja oportunidad\",\"Acomodados\"),\n",
    "       height = media_segmentos[\"N. compras\"], yerr = std_segmentos[\"N. compras\"],\n",
    "       color = (\"r\",\"g\",\"b\",\"y\"))\n",
    "plt.xlabel(\"Segmentos\")\n",
    "plt.ylabel(\"Media de compras\")\n",
    "\n",
    "plt.show()"
   ]
  },
  {
   "cell_type": "markdown",
   "id": "dbb9bda0",
   "metadata": {},
   "source": [
    "Podemos ver que las personas que están dentro del segmento estándar son las que más compras realizan. No obstante, su desvío estándar es elevado. Esto puede ser debido a que un grupo de personas dentro de este segmento compra muy a menudo y otro grupo compra con mucho menos frecuencia, o bien, la forma de gastar el dinero es diferente entre estas personas dentro del segmento."
   ]
  },
  {
   "cell_type": "code",
   "execution_count": 26,
   "id": "3a759bf0",
   "metadata": {},
   "outputs": [
    {
     "data": {
      "image/png": "[encoded data removed]",
      "text/plain": [
       "<Figure size 720x504 with 1 Axes>"
      ]
     },
     "metadata": {
      "needs_background": "light"
     },
     "output_type": "display_data"
    }
   ],
   "source": [
    "## Número promedio de compras por segmento\n",
    "plt.figure(figsize = (10,7))\n",
    "\n",
    "plt.title(\"Frecuencia media y std de visitas para cada segmento\", fontsize = 14)\n",
    "plt.bar(x = range(0,4), tick_label = (\"Estándar\",\"Enfocados en trabajar\",\"Baja oportunidad\",\"Acomodados\"),\n",
    "       height = media_segmentos[\"Frec_prom_compra\"], yerr = std_segmentos[\"Frec_prom_compra\"],\n",
    "       color = (\"r\",\"g\",\"b\",\"y\"))\n",
    "plt.xlabel(\"Segmentos\")\n",
    "plt.ylabel(\"Incidencia de compras\")\n",
    "\n",
    "plt.show()"
   ]
  },
  {
   "cell_type": "markdown",
   "id": "3765c7e4",
   "metadata": {},
   "source": [
    "### Selección de marcas por segmento\n",
    "\n",
    "Vamos a analizar las preferencias de cada marca por segmento.\n",
    "\n",
    "La columna *incidence* es la que nos dice si un cliente compró o no un chocolate, por lo tanto, filtraremos el dataset cuando *incidence == 1*.\n",
    "\n",
    "Además, deberemos generar *dummy variables* correspondiente a cada una de las 5 marcas de chocolote que tenemos. Recordemos que estas dummies nos permiten formar una matriz en donde tendremos ceros en todas las marcas que no se corresponden al chocolate comprado y un uno al chocolate comprado."
   ]
  },
  {
   "cell_type": "code",
   "execution_count": 27,
   "id": "2c26b32a",
   "metadata": {},
   "outputs": [],
   "source": [
    "df_compras_incidencia = df_compras_segmentados[df_compras_segmentados[\"Incidence\"] == 1] "
   ]
  },
  {
   "cell_type": "code",
   "execution_count": 28,
   "id": "2a8f9402",
   "metadata": {},
   "outputs": [],
   "source": [
    "dummies_marcas = pd.get_dummies(df_compras_incidencia[\"Brand\"], prefix = \"Marca\", prefix_sep = \"_\")\n",
    "dummies_marcas[\"Segmento\"], dummies_marcas[\"ID\"] = df_compras_incidencia[\"Segmento\"], df_compras_incidencia[\"ID\"]"
   ]
  },
  {
   "cell_type": "code",
   "execution_count": 29,
   "id": "208965f1",
   "metadata": {},
   "outputs": [],
   "source": [
    "# dummies_marcas.head()"
   ]
  },
  {
   "cell_type": "code",
   "execution_count": 30,
   "id": "c65c7f65",
   "metadata": {},
   "outputs": [],
   "source": [
    "temp = dummies_marcas.groupby([\"ID\"], as_index = True).mean()\n",
    "# temp.head()"
   ]
  },
  {
   "cell_type": "markdown",
   "id": "12d51539",
   "metadata": {},
   "source": [
    "**NOTA**: Cuando agrupamos por ID y seteamos los ID como índices lo que hacemos es obtener **cuanto en promedio un cliente elige cierta marca**.\n",
    "\n",
    "Haremos algo similar pero por segmentos."
   ]
  },
  {
   "cell_type": "code",
   "execution_count": 31,
   "id": "9f9c691a",
   "metadata": {},
   "outputs": [
    {
     "data": {
      "text/html": [
       "<div>\n",
       "<style scoped>\n",
       "    .dataframe tbody tr th:only-of-type {\n",
       "        vertical-align: middle;\n",
       "    }\n",
       "\n",
       "    .dataframe tbody tr th {\n",
       "        vertical-align: top;\n",
       "    }\n",
       "\n",
       "    .dataframe thead th {\n",
       "        text-align: right;\n",
       "    }\n",
       "</style>\n",
       "<table border=\"1\" class=\"dataframe\">\n",
       "  <thead>\n",
       "    <tr style=\"text-align: right;\">\n",
       "      <th></th>\n",
       "      <th>Marca_1</th>\n",
       "      <th>Marca_2</th>\n",
       "      <th>Marca_3</th>\n",
       "      <th>Marca_4</th>\n",
       "      <th>Marca_5</th>\n",
       "    </tr>\n",
       "    <tr>\n",
       "      <th>Segmento</th>\n",
       "      <th></th>\n",
       "      <th></th>\n",
       "      <th></th>\n",
       "      <th></th>\n",
       "      <th></th>\n",
       "    </tr>\n",
       "  </thead>\n",
       "  <tbody>\n",
       "    <tr>\n",
       "      <th>0.0</th>\n",
       "      <td>0.251186</td>\n",
       "      <td>0.396502</td>\n",
       "      <td>0.156481</td>\n",
       "      <td>0.059474</td>\n",
       "      <td>0.136357</td>\n",
       "    </tr>\n",
       "    <tr>\n",
       "      <th>1.0</th>\n",
       "      <td>0.072871</td>\n",
       "      <td>0.146808</td>\n",
       "      <td>0.039976</td>\n",
       "      <td>0.112395</td>\n",
       "      <td>0.627951</td>\n",
       "    </tr>\n",
       "    <tr>\n",
       "      <th>2.0</th>\n",
       "      <td>0.137567</td>\n",
       "      <td>0.681190</td>\n",
       "      <td>0.020923</td>\n",
       "      <td>0.061548</td>\n",
       "      <td>0.098772</td>\n",
       "    </tr>\n",
       "    <tr>\n",
       "      <th>3.0</th>\n",
       "      <td>0.041928</td>\n",
       "      <td>0.117422</td>\n",
       "      <td>0.030610</td>\n",
       "      <td>0.613623</td>\n",
       "      <td>0.196417</td>\n",
       "    </tr>\n",
       "  </tbody>\n",
       "</table>\n",
       "</div>"
      ],
      "text/plain": [
       "           Marca_1   Marca_2   Marca_3   Marca_4   Marca_5\n",
       "Segmento                                                  \n",
       "0.0       0.251186  0.396502  0.156481  0.059474  0.136357\n",
       "1.0       0.072871  0.146808  0.039976  0.112395  0.627951\n",
       "2.0       0.137567  0.681190  0.020923  0.061548  0.098772\n",
       "3.0       0.041928  0.117422  0.030610  0.613623  0.196417"
      ]
     },
     "execution_count": 31,
     "metadata": {},
     "output_type": "execute_result"
    }
   ],
   "source": [
    "promedio_marca_elegidas_segmentos = temp.groupby([\"Segmento\"], as_index = True).mean()\n",
    "promedio_marca_elegidas_segmentos"
   ]
  },
  {
   "cell_type": "markdown",
   "id": "c6a70a0d",
   "metadata": {},
   "source": [
    "#### Heatmap\n",
    "\n",
    "Crearemos un **heatmap** para ver las preferencias de marcas para cada segmento."
   ]
  },
  {
   "cell_type": "code",
   "execution_count": 32,
   "id": "d42ce56d",
   "metadata": {},
   "outputs": [
    {
     "data": {
      "image/png": "[encoded data removed]",
      "text/plain": [
       "<Figure size 720x504 with 2 Axes>"
      ]
     },
     "metadata": {
      "needs_background": "light"
     },
     "output_type": "display_data"
    }
   ],
   "source": [
    "plt.figure(figsize = (10,7))\n",
    "\n",
    "sns.heatmap(promedio_marca_elegidas_segmentos, vmin = 0, vmax = 1,\n",
    "           cmap = \"Greens\", annot = True)\n",
    "\n",
    "plt.yticks([0,1,2,3], [\"Estándar\",\"Enfocados en Trabajar\",\"Baja oportunidad\",\"Acomodados\"],\n",
    "           rotation = 0, fontsize = 12)\n",
    "plt.title(\"Selección promedio de marcas por segmento\", fontsize = 16)\n",
    "plt.show()"
   ]
  },
  {
   "cell_type": "markdown",
   "id": "dd5c5824",
   "metadata": {},
   "source": [
    "Los valores que vemos dentro del *heatmap* corresponden a las **proporciones promedio de marcas selecionadas por cada segmento**.\n",
    "\n",
    "Es importante tener en cuenta que las marcas van de *más barata a más cara*.\n",
    "\n",
    "**Análisis**\n",
    "\n",
    "- El segmento *Baja oportunidad* evidentemente tiene una fuerte inclinación por la marca dos, casi el 70% de las personas dentro de este segmento elige la marca 2. Ahora bien, la marca 2 no es la más barata, lo que nos da la pauta de que a pesar de ser un segmento de oportunidades bajas, no siempre se inclinan por el producto barato.\n",
    "- Las personas dentro del segmento *estándar* tienen preferencia por la marca 2, y en menor medida por la 1 y la 3. Claramente no compran la marca 4.\n",
    "- El segmento de *acomodados* disfruta de marcas caras, pero no de la más cara. Tal vez para este grupo se enfoca en darse gustos en otros productos y/o son un poco más austeros.\n",
    "- Las personas dentro de *enfocados en trabajar* claramente tienen una predisposición por comprar la Marca 5, la cual es la más cara. Podríamos pensar que disfrutan de darse un \"*lujo*\". ¿Es posible aumentar el precio de esta marca un poco y aún mantener una proporción de compra similar en este segmento? Si esto es posible, entonces podríamos estar en una oportunidad de aumentar ganancias.\n",
    "\n",
    "Ahora bien, esta forma de analizar los datos no nos dice nada acerca de cómo estas preferencias afectan las ganancias. Por lo tanto, analicemos cuanta ganancia obtenemos por segmento."
   ]
  },
  {
   "cell_type": "markdown",
   "id": "40ce3148",
   "metadata": {},
   "source": [
    "## Ganancias por segmentos\n",
    "\n",
    "Ahora vamos a realizar un **análisis exploratorio** de las ganancias por cada marca de barra de chocolate.\n",
    "\n",
    "Para esto, voy a generar un nuevo dataframe que contenga las ganancias por cada segmento. Agregaremos una columna con las proporciones totales vendidas por cada segmento.\n",
    "\n",
    "El cálculo de ganancia es simplemente \n",
    "\n",
    "$$ Ganancia_{marca}= Cantidad_{barras~vendidas} \\times Precio_{barra}$$"
   ]
  },
  {
   "cell_type": "code",
   "execution_count": 33,
   "id": "059c8d05",
   "metadata": {},
   "outputs": [
    {
     "data": {
      "text/html": [
       "<div>\n",
       "<style scoped>\n",
       "    .dataframe tbody tr th:only-of-type {\n",
       "        vertical-align: middle;\n",
       "    }\n",
       "\n",
       "    .dataframe tbody tr th {\n",
       "        vertical-align: top;\n",
       "    }\n",
       "\n",
       "    .dataframe thead th {\n",
       "        text-align: right;\n",
       "    }\n",
       "</style>\n",
       "<table border=\"1\" class=\"dataframe\">\n",
       "  <thead>\n",
       "    <tr style=\"text-align: right;\">\n",
       "      <th></th>\n",
       "      <th>Segmento</th>\n",
       "      <th>Ganancia Marca 1</th>\n",
       "    </tr>\n",
       "  </thead>\n",
       "  <tbody>\n",
       "    <tr>\n",
       "      <th>0</th>\n",
       "      <td>0</td>\n",
       "      <td>2611.19</td>\n",
       "    </tr>\n",
       "    <tr>\n",
       "      <th>1</th>\n",
       "      <td>1</td>\n",
       "      <td>736.09</td>\n",
       "    </tr>\n",
       "    <tr>\n",
       "      <th>2</th>\n",
       "      <td>2</td>\n",
       "      <td>2258.90</td>\n",
       "    </tr>\n",
       "    <tr>\n",
       "      <th>3</th>\n",
       "      <td>3</td>\n",
       "      <td>699.47</td>\n",
       "    </tr>\n",
       "  </tbody>\n",
       "</table>\n",
       "</div>"
      ],
      "text/plain": [
       "   Segmento  Ganancia Marca 1\n",
       "0         0           2611.19\n",
       "1         1            736.09\n",
       "2         2           2258.90\n",
       "3         3            699.47"
      ]
     },
     "execution_count": 33,
     "metadata": {},
     "output_type": "execute_result"
    }
   ],
   "source": [
    "df_marca1 = df_compras_segmentados[df_compras_segmentados[\"Brand\"]==1][[\"ID\",\"Incidence\",\"Quantity\",\"Price_1\",\"Segmento\"]]\n",
    "df_marca1.loc[:, \"Ganancia Marca 1\"] = df_marca1[\"Price_1\"]*df_marca1[\"Quantity\"] \n",
    "df_ganancias = pd.DataFrame()\n",
    "\n",
    "df_ganancias[[\"Segmento\",\"Ganancia Marca 1\"]] = df_marca1[[\"Segmento\",\"Ganancia Marca 1\"]].groupby([\"Segmento\"], as_index = False).sum()\n",
    "df_ganancias\n"
   ]
  },
  {
   "cell_type": "code",
   "execution_count": 34,
   "id": "af7ba970",
   "metadata": {},
   "outputs": [],
   "source": [
    "marcas = df_compras_segmentados[\"Brand\"].unique()\n",
    "marcas.sort()\n",
    "marcas = marcas[1:]\n",
    "\n",
    "df_ganancias = pd.DataFrame()\n",
    "\n",
    "filtro1 = df_compras_segmentados[\"Brand\"] == 1\n",
    "filtro2 = df_compras_segmentados[\"Incidence\"] == 1\n",
    "\n",
    "for marca in marcas:\n",
    "    filtro1 = df_compras_segmentados[\"Brand\"] == marca\n",
    "    temp = df_compras_segmentados[filtro1&filtro2][[\"ID\",\"Incidence\",\"Quantity\",f\"Price_{marca}\",\"Segmento\"]]\n",
    "    temp.loc[:, f\"Ganancia Marca {marca}\"] = temp[f\"Price_{marca}\"]*temp[\"Quantity\"]\n",
    "    df_ganancias[[\"Segmento\",f\"Ganancia Marca {marca}\"]] = temp[[\"Segmento\",f\"Ganancia Marca {marca}\"]].groupby([\"Segmento\"], as_index = False).sum()\n",
    "\n",
    "\n",
    "#Agrego columna de ventas totales y proporciones vendidas por cada segmento\n",
    "df_ganancias[\"Ganancias totales\"] = df_ganancias.iloc[:,1:].sum(axis = 1)\n",
    "# df_ganancias[\"Proporciones\"] = df_ganancias.iloc[:,1:].sum(axis = 1)/df_ganancias.iloc[:,1:].sum(axis = 1).sum()\n",
    "df_ganancias[\"Proporciones Segmento\"] = propor_segmen[\"Proporciones Segmento\"]\n",
    "#seteamos los ínidices\n",
    "\n",
    "df_ganancias = df_ganancias.set_index([\"Segmento\"]).rename({0: \"Estándar\",\n",
    "                                                          1: \"Enfocados en trabajar\",\n",
    "                                                          2: \"Baja oportunidad\",\n",
    "                                                          3: \"Acomodados\"})"
   ]
  },
  {
   "cell_type": "code",
   "execution_count": 35,
   "id": "4a6b88ec",
   "metadata": {},
   "outputs": [
    {
     "data": {
      "text/html": [
       "<div>\n",
       "<style scoped>\n",
       "    .dataframe tbody tr th:only-of-type {\n",
       "        vertical-align: middle;\n",
       "    }\n",
       "\n",
       "    .dataframe tbody tr th {\n",
       "        vertical-align: top;\n",
       "    }\n",
       "\n",
       "    .dataframe thead th {\n",
       "        text-align: right;\n",
       "    }\n",
       "</style>\n",
       "<table border=\"1\" class=\"dataframe\">\n",
       "  <thead>\n",
       "    <tr style=\"text-align: right;\">\n",
       "      <th></th>\n",
       "      <th>Ganancia Marca 1</th>\n",
       "      <th>Ganancia Marca 2</th>\n",
       "      <th>Ganancia Marca 3</th>\n",
       "      <th>Ganancia Marca 4</th>\n",
       "      <th>Ganancia Marca 5</th>\n",
       "      <th>Ganancias totales</th>\n",
       "      <th>Proporciones Segmento</th>\n",
       "    </tr>\n",
       "    <tr>\n",
       "      <th>Segmento</th>\n",
       "      <th></th>\n",
       "      <th></th>\n",
       "      <th></th>\n",
       "      <th></th>\n",
       "      <th></th>\n",
       "      <th></th>\n",
       "      <th></th>\n",
       "    </tr>\n",
       "  </thead>\n",
       "  <tbody>\n",
       "    <tr>\n",
       "      <th>Estándar</th>\n",
       "      <td>2611.19</td>\n",
       "      <td>4768.52</td>\n",
       "      <td>3909.17</td>\n",
       "      <td>861.38</td>\n",
       "      <td>2439.75</td>\n",
       "      <td>14590.01</td>\n",
       "      <td>0.206</td>\n",
       "    </tr>\n",
       "    <tr>\n",
       "      <th>Enfocados en trabajar</th>\n",
       "      <td>736.09</td>\n",
       "      <td>1746.42</td>\n",
       "      <td>664.75</td>\n",
       "      <td>2363.84</td>\n",
       "      <td>19441.06</td>\n",
       "      <td>24952.16</td>\n",
       "      <td>0.220</td>\n",
       "    </tr>\n",
       "    <tr>\n",
       "      <th>Baja oportunidad</th>\n",
       "      <td>2258.90</td>\n",
       "      <td>13955.14</td>\n",
       "      <td>716.25</td>\n",
       "      <td>1629.31</td>\n",
       "      <td>2230.50</td>\n",
       "      <td>20790.10</td>\n",
       "      <td>0.378</td>\n",
       "    </tr>\n",
       "    <tr>\n",
       "      <th>Acomodados</th>\n",
       "      <td>699.47</td>\n",
       "      <td>1298.23</td>\n",
       "      <td>731.35</td>\n",
       "      <td>14185.57</td>\n",
       "      <td>5509.69</td>\n",
       "      <td>22424.31</td>\n",
       "      <td>0.196</td>\n",
       "    </tr>\n",
       "  </tbody>\n",
       "</table>\n",
       "</div>"
      ],
      "text/plain": [
       "                       Ganancia Marca 1  Ganancia Marca 2  Ganancia Marca 3  \\\n",
       "Segmento                                                                      \n",
       "Estándar                        2611.19           4768.52           3909.17   \n",
       "Enfocados en trabajar            736.09           1746.42            664.75   \n",
       "Baja oportunidad                2258.90          13955.14            716.25   \n",
       "Acomodados                       699.47           1298.23            731.35   \n",
       "\n",
       "                       Ganancia Marca 4  Ganancia Marca 5  Ganancias totales  \\\n",
       "Segmento                                                                       \n",
       "Estándar                         861.38           2439.75           14590.01   \n",
       "Enfocados en trabajar           2363.84          19441.06           24952.16   \n",
       "Baja oportunidad                1629.31           2230.50           20790.10   \n",
       "Acomodados                     14185.57           5509.69           22424.31   \n",
       "\n",
       "                       Proporciones Segmento  \n",
       "Segmento                                      \n",
       "Estándar                               0.206  \n",
       "Enfocados en trabajar                  0.220  \n",
       "Baja oportunidad                       0.378  \n",
       "Acomodados                             0.196  "
      ]
     },
     "execution_count": 35,
     "metadata": {},
     "output_type": "execute_result"
    }
   ],
   "source": [
    "df_ganancias"
   ]
  },
  {
   "cell_type": "markdown",
   "id": "8e222d5e",
   "metadata": {},
   "source": [
    "#### Analizando resultados\n",
    "\n",
    "El segmento *enfocados en trabajar* es el que más dinero ha gastado en la compra de barras de chocolate. Le siguen los segmentos *acomodados* y *baja oportunidad*. Por detrás viene el segmento de *estándar*.\n",
    "\n",
    "Ahora bien, recordemos que la columna *Proporciones por Segmento* hacen referencia a la proporción de compra que cada segmento realiza en barras de chocolate. Podemos ver que el segmento enfocado en trabajar, es el que más gasta (compran la marca más cara) y además, está en segundo lugar en cuanto a proporción de compra respecto a los otros segmentos.\n",
    "\n",
    "El segmento *estándar* es el que menos gasta, a pesar de que la proporción de compras esta en el tercer lugar. Evidentemente este segmento es el que menos contribuye en las ganancias de ventas de chocolate.\n",
    "\n",
    "Ahora bien, las personas dentro de los segmentos *baja oportunidad* y *acomodados* gastan practicamente lo mismo, pero debemos notar que el segmento de baja oportunidad prácticamente dobla en proporción de veces que compra barras de chocolate."
   ]
  }
 ],
 "metadata": {
  "kernelspec": {
   "display_name": "Python [conda env:costumeranalytics]",
   "language": "python",
   "name": "conda-env-costumeranalytics-py"
  },
  "language_info": {
   "codemirror_mode": {
    "name": "ipython",
    "version": 3
   },
   "file_extension": ".py",
   "mimetype": "text/x-python",
   "name": "python",
   "nbconvert_exporter": "python",
   "pygments_lexer": "ipython3",
   "version": "3.10.8"
  },
  "vscode": {
   "interpreter": {
    "hash": "a04268169029a6c8c242914fc5adae46e7d2251e916247388ae8472995069ae4"
   }
  }
 },
 "nbformat": 4,
 "nbformat_minor": 5
}
