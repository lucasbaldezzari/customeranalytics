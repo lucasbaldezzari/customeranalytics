{
 "cells": [
  {
   "cell_type": "markdown",
   "id": "4c23489f",
   "metadata": {},
   "source": [
    "# Análisis predictivo sobre selección de marca\n",
    "\n",
    "A continuación realizaremos una análisis **predictivo** para obtener la probabilidad de compra de cierta marca."
   ]
  },
  {
   "cell_type": "code",
   "execution_count": 1,
   "id": "9565b722",
   "metadata": {},
   "outputs": [],
   "source": [
    "import numpy as np\n",
    "import pandas as pd\n",
    "import matplotlib.pyplot as plt\n",
    "import seaborn as sns\n",
    "\n",
    "from sklearn.linear_model import LogisticRegression"
   ]
  },
  {
   "cell_type": "code",
   "execution_count": 2,
   "id": "4f3e9d3b",
   "metadata": {},
   "outputs": [
    {
     "name": "stdout",
     "output_type": "stream",
     "text": [
      "Index(['ID', 'Day', 'Incidence', 'Brand', 'Quantity', 'Last_Inc_Brand',\n",
      "       'Last_Inc_Quantity', 'Price_1', 'Price_2', 'Price_3', 'Price_4',\n",
      "       'Price_5', 'Promotion_1', 'Promotion_2', 'Promotion_3', 'Promotion_4',\n",
      "       'Promotion_5', 'Sex', 'Marital status', 'Age', 'Education', 'Income',\n",
      "       'Occupation', 'Settlement size'],\n",
      "      dtype='object')\n"
     ]
    },
    {
     "data": {
      "text/html": [
       "<div>\n",
       "<style scoped>\n",
       "    .dataframe tbody tr th:only-of-type {\n",
       "        vertical-align: middle;\n",
       "    }\n",
       "\n",
       "    .dataframe tbody tr th {\n",
       "        vertical-align: top;\n",
       "    }\n",
       "\n",
       "    .dataframe thead th {\n",
       "        text-align: right;\n",
       "    }\n",
       "</style>\n",
       "<table border=\"1\" class=\"dataframe\">\n",
       "  <thead>\n",
       "    <tr style=\"text-align: right;\">\n",
       "      <th></th>\n",
       "      <th>ID</th>\n",
       "      <th>Price_1</th>\n",
       "      <th>Price_2</th>\n",
       "      <th>Price_3</th>\n",
       "      <th>Price_4</th>\n",
       "      <th>Price_5</th>\n",
       "      <th>Sex</th>\n",
       "      <th>Marital status</th>\n",
       "      <th>Age</th>\n",
       "      <th>Marital status</th>\n",
       "      <th>Age</th>\n",
       "      <th>Education</th>\n",
       "      <th>Income</th>\n",
       "      <th>Occupation</th>\n",
       "    </tr>\n",
       "  </thead>\n",
       "  <tbody>\n",
       "    <tr>\n",
       "      <th>0</th>\n",
       "      <td>200000001</td>\n",
       "      <td>1.59</td>\n",
       "      <td>1.87</td>\n",
       "      <td>2.01</td>\n",
       "      <td>2.09</td>\n",
       "      <td>2.66</td>\n",
       "      <td>0</td>\n",
       "      <td>0</td>\n",
       "      <td>47</td>\n",
       "      <td>0</td>\n",
       "      <td>47</td>\n",
       "      <td>1</td>\n",
       "      <td>110866</td>\n",
       "      <td>1</td>\n",
       "    </tr>\n",
       "    <tr>\n",
       "      <th>1</th>\n",
       "      <td>200000001</td>\n",
       "      <td>1.51</td>\n",
       "      <td>1.89</td>\n",
       "      <td>1.99</td>\n",
       "      <td>2.09</td>\n",
       "      <td>2.66</td>\n",
       "      <td>0</td>\n",
       "      <td>0</td>\n",
       "      <td>47</td>\n",
       "      <td>0</td>\n",
       "      <td>47</td>\n",
       "      <td>1</td>\n",
       "      <td>110866</td>\n",
       "      <td>1</td>\n",
       "    </tr>\n",
       "    <tr>\n",
       "      <th>2</th>\n",
       "      <td>200000001</td>\n",
       "      <td>1.51</td>\n",
       "      <td>1.89</td>\n",
       "      <td>1.99</td>\n",
       "      <td>2.09</td>\n",
       "      <td>2.66</td>\n",
       "      <td>0</td>\n",
       "      <td>0</td>\n",
       "      <td>47</td>\n",
       "      <td>0</td>\n",
       "      <td>47</td>\n",
       "      <td>1</td>\n",
       "      <td>110866</td>\n",
       "      <td>1</td>\n",
       "    </tr>\n",
       "    <tr>\n",
       "      <th>3</th>\n",
       "      <td>200000001</td>\n",
       "      <td>1.52</td>\n",
       "      <td>1.89</td>\n",
       "      <td>1.98</td>\n",
       "      <td>2.09</td>\n",
       "      <td>2.66</td>\n",
       "      <td>0</td>\n",
       "      <td>0</td>\n",
       "      <td>47</td>\n",
       "      <td>0</td>\n",
       "      <td>47</td>\n",
       "      <td>1</td>\n",
       "      <td>110866</td>\n",
       "      <td>1</td>\n",
       "    </tr>\n",
       "    <tr>\n",
       "      <th>4</th>\n",
       "      <td>200000001</td>\n",
       "      <td>1.52</td>\n",
       "      <td>1.89</td>\n",
       "      <td>1.99</td>\n",
       "      <td>2.09</td>\n",
       "      <td>2.66</td>\n",
       "      <td>0</td>\n",
       "      <td>0</td>\n",
       "      <td>47</td>\n",
       "      <td>0</td>\n",
       "      <td>47</td>\n",
       "      <td>1</td>\n",
       "      <td>110866</td>\n",
       "      <td>1</td>\n",
       "    </tr>\n",
       "  </tbody>\n",
       "</table>\n",
       "</div>"
      ],
      "text/plain": [
       "          ID  Price_1  Price_2  Price_3  Price_4  Price_5  Sex  \\\n",
       "0  200000001     1.59     1.87     2.01     2.09     2.66    0   \n",
       "1  200000001     1.51     1.89     1.99     2.09     2.66    0   \n",
       "2  200000001     1.51     1.89     1.99     2.09     2.66    0   \n",
       "3  200000001     1.52     1.89     1.98     2.09     2.66    0   \n",
       "4  200000001     1.52     1.89     1.99     2.09     2.66    0   \n",
       "\n",
       "   Marital status  Age  Marital status  Age  Education  Income  Occupation  \n",
       "0               0   47               0   47          1  110866           1  \n",
       "1               0   47               0   47          1  110866           1  \n",
       "2               0   47               0   47          1  110866           1  \n",
       "3               0   47               0   47          1  110866           1  \n",
       "4               0   47               0   47          1  110866           1  "
      ]
     },
     "execution_count": 2,
     "metadata": {},
     "output_type": "execute_result"
    }
   ],
   "source": [
    "df_compras = pd.read_csv(\"datasets/purchase_data.csv\")\n",
    "# df_compras.head()\n",
    "print(df_compras.columns)\n",
    "df_compras[[\"ID\", 'Price_1', 'Price_2', 'Price_3', 'Price_4', 'Price_5' , 'Sex', 'Marital status', 'Age', 'Marital status', 'Age', 'Education', 'Income',\n",
    "'Occupation']].head()"
   ]
  },
  {
   "cell_type": "markdown",
   "id": "00478233",
   "metadata": {},
   "source": [
    "Queremos analizar solamente las entradas en donde las personas hayan realizado efectivamente la compra de alguna barra de chocolate, es decir, debemos quedarnos con aquellas entradas donde *incidence == 1*."
   ]
  },
  {
   "cell_type": "code",
   "execution_count": 3,
   "id": "ff3aa1e0",
   "metadata": {},
   "outputs": [],
   "source": [
    "df_compras_incidencia = df_compras[df_compras[\"Incidence\"] == 1]\n",
    "# df_compras_incidencia.head()"
   ]
  },
  {
   "cell_type": "markdown",
   "id": "f0d50ad2",
   "metadata": {},
   "source": [
    "## Regresión Logística\n",
    "\n",
    "Vamos a utilizar una [Regresión Logística](https://scikit-learn.org/stable/modules/generated/sklearn.linear_model.LogisticRegression.html) para intentar predecir la marca que se comprará.\n",
    "\n",
    "La Regresión logística es comunmente utilizada para estimar la probabilidad de que una observación/instancia pertenezca a cierta clase. En nuestro caso, lo que queremos es estimar la probabilidad de compra de alguna de las marcas de barra de chocolate por parte de cierto cliente, perteneciente a cierto segmento.\n",
    "\n",
    "La ecuación en forma vectorizada de la regresión logística para determinar la probabilidad esta dada por,\n",
    "\n",
    "$$ \\hat{p} = h_{\\theta}(\\mathbf{x}) = \\sigma \\left( \\theta^T\\mathbf{x} \\right)$$\n",
    "\n",
    "Donde $\\sigma$ representa la función *[sigmoide](https://en.wikipedia.org/wiki/Sigmoid_function)*, dada por,\n",
    "\n",
    "$$ \\sigma(t) = \\frac{1}{1+exp(-t)} $$\n",
    "\n",
    "Una vez que que se tiene la probabilidad de que una instancia pertenezca a la clase bajo estudio -**clase positiva**-, es fácil hacer una predicción para obtener $\\hat{y}$. Por ejemplo, para un umbral del $50%$, la predicción nos daría,\n",
    "\n",
    "$$ \\hat{y}= \\left\\lbrace\\begin{array}{c} 0~si~\\hat{p}<0.5  \\\\ 1~si~\\hat{p}\\geq{0.5} \\end{array}\\right. $$\n",
    "\n",
    "### Función de costo y entrenamiento\n",
    "\n",
    "Necesitamos entrenar el modelo con nuestros datos para que, ante un nuevo cliente, intentemos predecir qué marca de barra de chocolate comprará. En el caso de regresión logística, la función de costo esta dada por,\n",
    "\n",
    "$$ c(\\theta)= \\left\\lbrace\\begin{array}{c} -log(\\hat{p})~si~y=1  \\\\ -log(1-\\hat{p})~si~y=0 \\end{array}\\right. $$\n",
    "\n",
    "Ya que queremos predecir la marca que se comprará, utilizaremos la columna *Brand* como variable a predecir. Por otro lado, utilizaremos las columnas de precio de 1 a 5 como *features*."
   ]
  },
  {
   "cell_type": "code",
   "execution_count": 4,
   "id": "60139459",
   "metadata": {},
   "outputs": [],
   "source": [
    "Y = df_compras_incidencia[\"Brand\"]\n",
    "# df_compras_incidencia.columns\n",
    "features = ['Price_1', 'Price_2', 'Price_3', 'Price_4','Price_5']\n",
    "X = df_compras_incidencia[features]"
   ]
  },
  {
   "cell_type": "code",
   "execution_count": 5,
   "id": "1fa620f9",
   "metadata": {},
   "outputs": [
    {
     "data": {
      "text/plain": [
       "LogisticRegression(multi_class='multinomial', solver='sag')"
      ]
     },
     "execution_count": 5,
     "metadata": {},
     "output_type": "execute_result"
    }
   ],
   "source": [
    "lr_predictor_marca = LogisticRegression(solver = \"sag\", multi_class = \"multinomial\")\n",
    "lr_predictor_marca.fit(X,Y)"
   ]
  },
  {
   "cell_type": "markdown",
   "id": "aaaa37db",
   "metadata": {},
   "source": [
    "Analicemos qué hemos entrenado."
   ]
  },
  {
   "cell_type": "code",
   "execution_count": 6,
   "id": "3ae83b99",
   "metadata": {},
   "outputs": [
    {
     "data": {
      "text/plain": [
       "array([[-3.91593438,  0.65846917,  2.41781766,  0.70410046, -0.20207712],\n",
       "       [ 1.27461932, -1.87985253, -0.21262628, -0.20633609,  0.58787715],\n",
       "       [ 1.62414319,  0.56209123,  0.50072671,  1.03947788,  0.45273436],\n",
       "       [ 0.57454488,  0.39559103, -1.40058599, -1.24623932,  0.24935844],\n",
       "       [ 0.44262699,  0.26370109, -1.3053321 , -0.29100293, -1.08789283]])"
      ]
     },
     "execution_count": 6,
     "metadata": {},
     "output_type": "execute_result"
    }
   ],
   "source": [
    "lr_predictor_marca.coef_"
   ]
  },
  {
   "cell_type": "markdown",
   "id": "630dd168",
   "metadata": {},
   "source": [
    "Los coeficientes obtenidos luego de entrenar el algoritmo se encuentran dentro de un array de $5\\times5$. Esto esta bien, ya que tenemos 5 marcas y el algoritmo intentará predecir, para una marca vs las otras cuatro, la probabilidad de que una observación pertenezca a la clase (marca en cuestión). Es decir, tenemos una marca o *clase* positiva, versus cuatro clases negativas. Por lo tanto, para la marca 1 tenemos 5 coeficientes, para la marca 2, otros cinco, etc.\n",
    "\n",
    "Intenemos analizar qué nos están indicando estos coeficientes."
   ]
  },
  {
   "cell_type": "code",
   "execution_count": 7,
   "id": "c3354f95",
   "metadata": {},
   "outputs": [
    {
     "data": {
      "text/html": [
       "<div>\n",
       "<style scoped>\n",
       "    .dataframe tbody tr th:only-of-type {\n",
       "        vertical-align: middle;\n",
       "    }\n",
       "\n",
       "    .dataframe tbody tr th {\n",
       "        vertical-align: top;\n",
       "    }\n",
       "\n",
       "    .dataframe thead tr th {\n",
       "        text-align: left;\n",
       "    }\n",
       "</style>\n",
       "<table border=\"1\" class=\"dataframe\">\n",
       "  <thead>\n",
       "    <tr>\n",
       "      <th></th>\n",
       "      <th>CM1</th>\n",
       "      <th>CM2</th>\n",
       "      <th>CM3</th>\n",
       "      <th>CM4</th>\n",
       "      <th>CM5</th>\n",
       "    </tr>\n",
       "  </thead>\n",
       "  <tbody>\n",
       "    <tr>\n",
       "      <th>P1</th>\n",
       "      <td>-3.92</td>\n",
       "      <td>1.27</td>\n",
       "      <td>1.62</td>\n",
       "      <td>0.57</td>\n",
       "      <td>0.44</td>\n",
       "    </tr>\n",
       "    <tr>\n",
       "      <th>P2</th>\n",
       "      <td>0.66</td>\n",
       "      <td>-1.88</td>\n",
       "      <td>0.56</td>\n",
       "      <td>0.40</td>\n",
       "      <td>0.26</td>\n",
       "    </tr>\n",
       "    <tr>\n",
       "      <th>P3</th>\n",
       "      <td>2.42</td>\n",
       "      <td>-0.21</td>\n",
       "      <td>0.50</td>\n",
       "      <td>-1.40</td>\n",
       "      <td>-1.31</td>\n",
       "    </tr>\n",
       "    <tr>\n",
       "      <th>P4</th>\n",
       "      <td>0.70</td>\n",
       "      <td>-0.21</td>\n",
       "      <td>1.04</td>\n",
       "      <td>-1.25</td>\n",
       "      <td>-0.29</td>\n",
       "    </tr>\n",
       "    <tr>\n",
       "      <th>P5</th>\n",
       "      <td>-0.20</td>\n",
       "      <td>0.59</td>\n",
       "      <td>0.45</td>\n",
       "      <td>0.25</td>\n",
       "      <td>-1.09</td>\n",
       "    </tr>\n",
       "  </tbody>\n",
       "</table>\n",
       "</div>"
      ],
      "text/plain": [
       "     CM1   CM2   CM3   CM4   CM5\n",
       "P1 -3.92  1.27  1.62  0.57  0.44\n",
       "P2  0.66 -1.88  0.56  0.40  0.26\n",
       "P3  2.42 -0.21  0.50 -1.40 -1.31\n",
       "P4  0.70 -0.21  1.04 -1.25 -0.29\n",
       "P5 -0.20  0.59  0.45  0.25 -1.09"
      ]
     },
     "execution_count": 7,
     "metadata": {},
     "output_type": "execute_result"
    }
   ],
   "source": [
    "bc_coef = pd.DataFrame(lr_predictor_marca.coef_.T)\n",
    "coeficientes = [\"CM1\",\"CM2\",\"CM3\",\"CM4\",\"CM5\"] #CM = Coeficiente Marca\n",
    "bc_coef.columns = [coeficientes]\n",
    "precios = [\"P1\",\"P2\",\"P3\",\"P4\",\"P5\"] #P = Precio\n",
    "bc_coef.index = [precios]\n",
    "bc_coef = bc_coef.round(2)\n",
    "bc_coef\n"
   ]
  },
  {
   "cell_type": "markdown",
   "id": "3de700c8",
   "metadata": {},
   "source": [
    "*Nota*: al hacer la traspuesta de la matriz de coeficientes lo que obtenemos son las *features* como filas y la salida en cada columna.\n",
    "\n",
    "Recordemos que, **cuanto más alto el precio de una marca respecto de sí misma, menos probable es que sea comprada**, por lo cual tiene sentido que el coeficiente CM1 respecto de P1 sea negativo. Por otro lado, cuanto más se incrementen los precios de las marcas competidoras, más alta debería ser la probabilidad de que los clientes compren, por ejemplo, la marca 1 (aplica para las otras marcas también).\n",
    "\n",
    "No obstante, debemos tener bien en claro que la probabilidades de selección de alguna marca en base a alguna observación están correlacionadas. Estos efectos se deben a lom que se conoce como *efectos de la propia marca* y *efectos cruzados*. Es decir, que los cambios en una marca, afectan su propia probabilidad de ser elegida, pero también la de las otras marcas."
   ]
  },
  {
   "cell_type": "markdown",
   "id": "89938456",
   "metadata": {},
   "source": [
    "### Análisis de *Elasticidad de precio* en marca 5\n",
    "\n",
    "Supongamos que queremos analizar y/o predecir qué pasará con las ventas de barras de chocolate de la marca número 5 si cambiamos el precio de dicha marca o bien el precio de las marcas competidoras. El análisis se hace a través de la *elasticidad* de precio para la propia marca y las elasticidades *cruzadas*.\n",
    "\n",
    "Según [wikipedia](https://es.wikipedia.org/wiki/Elasticidad_precio_de_la_demanda),\n",
    ">   \"*la elasticidad en el precio de la demanda es una medida utilizada en economía para mostrar el grado de respuesta, o elasticidad, de la cantidad demandada de un bien o servicio a los cambios en el precio de dicho bien o servicio*\".\n",
    "\n",
    "Ahora bien, desde el punto de vista de las probabilidades de compra de un producto, podemos definirla como,\n",
    "\n",
    "> la elasticidad del precio de la probabilidad de compra es el porcentaje de cambio porcentual en la probabilidad de dicha compra y responde al cambio en $1\\%$ del respectivo cambio de precio de la categoría o producto.\n",
    "\n",
    " price elasticity of purchase probability is the percentage change in purchase probability and response to a one percent change and the respective aggregate price for the product category.\n",
    "#### Elasticidad propia\n",
    "\n",
    "\n",
    "Vamos a analizar la elasticidad solamente sobre la marca 5 respecto de sí misma, es decir, cómo se podrían comportar los clientes ante la suba y baja de precios en esta marca."
   ]
  },
  {
   "cell_type": "code",
   "execution_count": 8,
   "id": "948e6520",
   "metadata": {},
   "outputs": [
    {
     "data": {
      "text/html": [
       "<div>\n",
       "<style scoped>\n",
       "    .dataframe tbody tr th:only-of-type {\n",
       "        vertical-align: middle;\n",
       "    }\n",
       "\n",
       "    .dataframe tbody tr th {\n",
       "        vertical-align: top;\n",
       "    }\n",
       "\n",
       "    .dataframe thead th {\n",
       "        text-align: right;\n",
       "    }\n",
       "</style>\n",
       "<table border=\"1\" class=\"dataframe\">\n",
       "  <thead>\n",
       "    <tr style=\"text-align: right;\">\n",
       "      <th></th>\n",
       "      <th>Price_1</th>\n",
       "      <th>Price_2</th>\n",
       "      <th>Price_3</th>\n",
       "      <th>Price_4</th>\n",
       "      <th>Price_5</th>\n",
       "    </tr>\n",
       "  </thead>\n",
       "  <tbody>\n",
       "    <tr>\n",
       "      <th>count</th>\n",
       "      <td>14638.000000</td>\n",
       "      <td>14638.000000</td>\n",
       "      <td>14638.000000</td>\n",
       "      <td>14638.000000</td>\n",
       "      <td>14638.000000</td>\n",
       "    </tr>\n",
       "    <tr>\n",
       "      <th>mean</th>\n",
       "      <td>1.384559</td>\n",
       "      <td>1.764717</td>\n",
       "      <td>2.006694</td>\n",
       "      <td>2.159658</td>\n",
       "      <td>2.654296</td>\n",
       "    </tr>\n",
       "    <tr>\n",
       "      <th>std</th>\n",
       "      <td>0.090944</td>\n",
       "      <td>0.181667</td>\n",
       "      <td>0.046200</td>\n",
       "      <td>0.093253</td>\n",
       "      <td>0.097724</td>\n",
       "    </tr>\n",
       "    <tr>\n",
       "      <th>min</th>\n",
       "      <td>1.100000</td>\n",
       "      <td>1.260000</td>\n",
       "      <td>1.870000</td>\n",
       "      <td>1.760000</td>\n",
       "      <td>2.110000</td>\n",
       "    </tr>\n",
       "    <tr>\n",
       "      <th>25%</th>\n",
       "      <td>1.340000</td>\n",
       "      <td>1.570000</td>\n",
       "      <td>1.970000</td>\n",
       "      <td>2.120000</td>\n",
       "      <td>2.630000</td>\n",
       "    </tr>\n",
       "    <tr>\n",
       "      <th>50%</th>\n",
       "      <td>1.390000</td>\n",
       "      <td>1.880000</td>\n",
       "      <td>2.010000</td>\n",
       "      <td>2.180000</td>\n",
       "      <td>2.670000</td>\n",
       "    </tr>\n",
       "    <tr>\n",
       "      <th>75%</th>\n",
       "      <td>1.470000</td>\n",
       "      <td>1.890000</td>\n",
       "      <td>2.060000</td>\n",
       "      <td>2.240000</td>\n",
       "      <td>2.700000</td>\n",
       "    </tr>\n",
       "    <tr>\n",
       "      <th>max</th>\n",
       "      <td>1.590000</td>\n",
       "      <td>1.900000</td>\n",
       "      <td>2.140000</td>\n",
       "      <td>2.260000</td>\n",
       "      <td>2.800000</td>\n",
       "    </tr>\n",
       "  </tbody>\n",
       "</table>\n",
       "</div>"
      ],
      "text/plain": [
       "            Price_1       Price_2       Price_3       Price_4       Price_5\n",
       "count  14638.000000  14638.000000  14638.000000  14638.000000  14638.000000\n",
       "mean       1.384559      1.764717      2.006694      2.159658      2.654296\n",
       "std        0.090944      0.181667      0.046200      0.093253      0.097724\n",
       "min        1.100000      1.260000      1.870000      1.760000      2.110000\n",
       "25%        1.340000      1.570000      1.970000      2.120000      2.630000\n",
       "50%        1.390000      1.880000      2.010000      2.180000      2.670000\n",
       "75%        1.470000      1.890000      2.060000      2.240000      2.700000\n",
       "max        1.590000      1.900000      2.140000      2.260000      2.800000"
      ]
     },
     "execution_count": 8,
     "metadata": {},
     "output_type": "execute_result"
    }
   ],
   "source": [
    "#Rango de precios para las 5 marcas\n",
    "df_compras_incidencia[['Price_1', 'Price_2', 'Price_3', 'Price_4', 'Price_5']].describe()"
   ]
  },
  {
   "cell_type": "markdown",
   "id": "3b29f8ec",
   "metadata": {},
   "source": [
    "##### Rango de precios\n",
    "\n",
    "Vamos a generar un array con con diferentes valores para emular cambios de precios de la marca 5. La idea es examinar la probabilidad de compra de la marca 5 ante cambios en su precio de venta.\n",
    "\n",
    "El precio de las otras marcas las mantendremos fijas utilizando sus valores medios."
   ]
  },
  {
   "cell_type": "code",
   "execution_count": 9,
   "id": "9d992d16",
   "metadata": {},
   "outputs": [
    {
     "data": {
      "text/html": [
       "<div>\n",
       "<style scoped>\n",
       "    .dataframe tbody tr th:only-of-type {\n",
       "        vertical-align: middle;\n",
       "    }\n",
       "\n",
       "    .dataframe tbody tr th {\n",
       "        vertical-align: top;\n",
       "    }\n",
       "\n",
       "    .dataframe thead th {\n",
       "        text-align: right;\n",
       "    }\n",
       "</style>\n",
       "<table border=\"1\" class=\"dataframe\">\n",
       "  <thead>\n",
       "    <tr style=\"text-align: right;\">\n",
       "      <th></th>\n",
       "      <th>Price_1</th>\n",
       "      <th>Price_2</th>\n",
       "      <th>Price_3</th>\n",
       "      <th>Price_4</th>\n",
       "      <th>Price_5</th>\n",
       "    </tr>\n",
       "  </thead>\n",
       "  <tbody>\n",
       "    <tr>\n",
       "      <th>0</th>\n",
       "      <td>1.384559</td>\n",
       "      <td>1.764717</td>\n",
       "      <td>2.006694</td>\n",
       "      <td>2.159658</td>\n",
       "      <td>0.50</td>\n",
       "    </tr>\n",
       "    <tr>\n",
       "      <th>1</th>\n",
       "      <td>1.384559</td>\n",
       "      <td>1.764717</td>\n",
       "      <td>2.006694</td>\n",
       "      <td>2.159658</td>\n",
       "      <td>0.51</td>\n",
       "    </tr>\n",
       "    <tr>\n",
       "      <th>2</th>\n",
       "      <td>1.384559</td>\n",
       "      <td>1.764717</td>\n",
       "      <td>2.006694</td>\n",
       "      <td>2.159658</td>\n",
       "      <td>0.52</td>\n",
       "    </tr>\n",
       "    <tr>\n",
       "      <th>3</th>\n",
       "      <td>1.384559</td>\n",
       "      <td>1.764717</td>\n",
       "      <td>2.006694</td>\n",
       "      <td>2.159658</td>\n",
       "      <td>0.53</td>\n",
       "    </tr>\n",
       "    <tr>\n",
       "      <th>4</th>\n",
       "      <td>1.384559</td>\n",
       "      <td>1.764717</td>\n",
       "      <td>2.006694</td>\n",
       "      <td>2.159658</td>\n",
       "      <td>0.54</td>\n",
       "    </tr>\n",
       "    <tr>\n",
       "      <th>...</th>\n",
       "      <td>...</td>\n",
       "      <td>...</td>\n",
       "      <td>...</td>\n",
       "      <td>...</td>\n",
       "      <td>...</td>\n",
       "    </tr>\n",
       "    <tr>\n",
       "      <th>295</th>\n",
       "      <td>1.384559</td>\n",
       "      <td>1.764717</td>\n",
       "      <td>2.006694</td>\n",
       "      <td>2.159658</td>\n",
       "      <td>3.45</td>\n",
       "    </tr>\n",
       "    <tr>\n",
       "      <th>296</th>\n",
       "      <td>1.384559</td>\n",
       "      <td>1.764717</td>\n",
       "      <td>2.006694</td>\n",
       "      <td>2.159658</td>\n",
       "      <td>3.46</td>\n",
       "    </tr>\n",
       "    <tr>\n",
       "      <th>297</th>\n",
       "      <td>1.384559</td>\n",
       "      <td>1.764717</td>\n",
       "      <td>2.006694</td>\n",
       "      <td>2.159658</td>\n",
       "      <td>3.47</td>\n",
       "    </tr>\n",
       "    <tr>\n",
       "      <th>298</th>\n",
       "      <td>1.384559</td>\n",
       "      <td>1.764717</td>\n",
       "      <td>2.006694</td>\n",
       "      <td>2.159658</td>\n",
       "      <td>3.48</td>\n",
       "    </tr>\n",
       "    <tr>\n",
       "      <th>299</th>\n",
       "      <td>1.384559</td>\n",
       "      <td>1.764717</td>\n",
       "      <td>2.006694</td>\n",
       "      <td>2.159658</td>\n",
       "      <td>3.49</td>\n",
       "    </tr>\n",
       "  </tbody>\n",
       "</table>\n",
       "<p>300 rows × 5 columns</p>\n",
       "</div>"
      ],
      "text/plain": [
       "      Price_1   Price_2   Price_3   Price_4  Price_5\n",
       "0    1.384559  1.764717  2.006694  2.159658     0.50\n",
       "1    1.384559  1.764717  2.006694  2.159658     0.51\n",
       "2    1.384559  1.764717  2.006694  2.159658     0.52\n",
       "3    1.384559  1.764717  2.006694  2.159658     0.53\n",
       "4    1.384559  1.764717  2.006694  2.159658     0.54\n",
       "..        ...       ...       ...       ...      ...\n",
       "295  1.384559  1.764717  2.006694  2.159658     3.45\n",
       "296  1.384559  1.764717  2.006694  2.159658     3.46\n",
       "297  1.384559  1.764717  2.006694  2.159658     3.47\n",
       "298  1.384559  1.764717  2.006694  2.159658     3.48\n",
       "299  1.384559  1.764717  2.006694  2.159658     3.49\n",
       "\n",
       "[300 rows x 5 columns]"
      ]
     },
     "execution_count": 9,
     "metadata": {},
     "output_type": "execute_result"
    }
   ],
   "source": [
    "rango_precios = np.arange(0.5, 3.5, 0.01) #rango de precios para marca 5\n",
    "df_rango_precios = pd.DataFrame(index = np.arange(rango_precios.size))\n",
    "df_rango_precios[\"Price_1\"] = df_compras_incidencia[\"Price_1\"].mean()\n",
    "df_rango_precios[\"Price_2\"] = df_compras_incidencia[\"Price_2\"].mean()\n",
    "df_rango_precios[\"Price_3\"] = df_compras_incidencia[\"Price_3\"].mean()\n",
    "df_rango_precios[\"Price_4\"] = df_compras_incidencia[\"Price_4\"].mean()\n",
    "df_rango_precios[\"Price_5\"] = rango_precios\n",
    "df_rango_precios"
   ]
  },
  {
   "cell_type": "code",
   "execution_count": 10,
   "id": "28800e14",
   "metadata": {},
   "outputs": [
    {
     "data": {
      "text/html": [
       "<div>\n",
       "<style scoped>\n",
       "    .dataframe tbody tr th:only-of-type {\n",
       "        vertical-align: middle;\n",
       "    }\n",
       "\n",
       "    .dataframe tbody tr th {\n",
       "        vertical-align: top;\n",
       "    }\n",
       "\n",
       "    .dataframe thead th {\n",
       "        text-align: right;\n",
       "    }\n",
       "</style>\n",
       "<table border=\"1\" class=\"dataframe\">\n",
       "  <thead>\n",
       "    <tr style=\"text-align: right;\">\n",
       "      <th></th>\n",
       "      <th>Price_5</th>\n",
       "    </tr>\n",
       "  </thead>\n",
       "  <tbody>\n",
       "    <tr>\n",
       "      <th>count</th>\n",
       "      <td>300.000000</td>\n",
       "    </tr>\n",
       "    <tr>\n",
       "      <th>mean</th>\n",
       "      <td>1.995000</td>\n",
       "    </tr>\n",
       "    <tr>\n",
       "      <th>std</th>\n",
       "      <td>0.867468</td>\n",
       "    </tr>\n",
       "    <tr>\n",
       "      <th>min</th>\n",
       "      <td>0.500000</td>\n",
       "    </tr>\n",
       "    <tr>\n",
       "      <th>25%</th>\n",
       "      <td>1.247500</td>\n",
       "    </tr>\n",
       "    <tr>\n",
       "      <th>50%</th>\n",
       "      <td>1.995000</td>\n",
       "    </tr>\n",
       "    <tr>\n",
       "      <th>75%</th>\n",
       "      <td>2.742500</td>\n",
       "    </tr>\n",
       "    <tr>\n",
       "      <th>max</th>\n",
       "      <td>3.490000</td>\n",
       "    </tr>\n",
       "  </tbody>\n",
       "</table>\n",
       "</div>"
      ],
      "text/plain": [
       "          Price_5\n",
       "count  300.000000\n",
       "mean     1.995000\n",
       "std      0.867468\n",
       "min      0.500000\n",
       "25%      1.247500\n",
       "50%      1.995000\n",
       "75%      2.742500\n",
       "max      3.490000"
      ]
     },
     "execution_count": 10,
     "metadata": {},
     "output_type": "execute_result"
    }
   ],
   "source": [
    "df_rango_precios[[\"Price_5\"]].describe()"
   ]
  },
  {
   "cell_type": "markdown",
   "id": "9d0cc871",
   "metadata": {},
   "source": [
    "Escencialmente lo que vamos a hacer es **projectar las probabilidades de compra de la marca 5 para diferentes precios**.\n",
    "\n",
    "Para esto, utilizaremos el modelo de regresión lineal que hemos entrenado previamente."
   ]
  },
  {
   "cell_type": "code",
   "execution_count": 11,
   "id": "f798652a",
   "metadata": {},
   "outputs": [
    {
     "data": {
      "text/plain": [
       "array([[0.03290515, 0.02177654, 0.00543891, 0.02988807, 0.90999132],\n",
       "       [0.03315987, 0.02211916, 0.00551702, 0.03025572, 0.90894823],\n",
       "       [0.03341609, 0.02246684, 0.00559618, 0.03062744, 0.90789344],\n",
       "       ...,\n",
       "       [0.06881551, 0.47570474, 0.07953275, 0.23889474, 0.13705226],\n",
       "       [0.06852992, 0.47748757, 0.07972301, 0.23897969, 0.13527982],\n",
       "       [0.06824337, 0.47926208, 0.07991122, 0.23905721, 0.13352612]])"
      ]
     },
     "execution_count": 11,
     "metadata": {},
     "output_type": "execute_result"
    }
   ],
   "source": [
    "predictions_m5 = lr_predictor_marca.predict_proba(df_rango_precios) #predicciones marca 5\n",
    "predictions_m5"
   ]
  },
  {
   "cell_type": "markdown",
   "id": "31948155",
   "metadata": {},
   "source": [
    "Recordemos que el método *[predict_proba()](https://scikit-learn.org/stable/modules/generated/sklearn.linear_model.LogisticRegression.html#sklearn.linear_model.LogisticRegression.predict_proba)* lo que hace es estimar las probabilidades para cada clase. En este caso, estará estimando las probabilidades de compra para cada marca en base al set de datos que le hemos pasado al modelo.\n",
    "\n",
    "Ahora vamos a quedarnos con las probabilidades de compra solo de la marca 5. Guardaremos esto en una variable llamada *prob_compra_m5*."
   ]
  },
  {
   "cell_type": "code",
   "execution_count": 12,
   "id": "d8c3c139",
   "metadata": {},
   "outputs": [
    {
     "data": {
      "text/plain": [
       "array([0.90999132, 0.90894823, 0.90789344, 0.90682685, 0.90574833,\n",
       "       0.90465779, 0.9035551 , 0.90244015, 0.90131284, 0.90017305,\n",
       "       0.89902067, 0.89785559, 0.89667768, 0.89548684, 0.89428296,\n",
       "       0.89306592, 0.89183561, 0.8905919 , 0.8893347 , 0.88806388,\n",
       "       0.88677933, 0.88548094, 0.88416859, 0.88284217, 0.88150156,\n",
       "       0.88014665, 0.87877733, 0.87739348, 0.87599499, 0.87458176,\n",
       "       0.87315365, 0.87171057, 0.87025241, 0.86877904, 0.86729036,\n",
       "       0.86578627, 0.86426664, 0.86273138, 0.86118037, 0.85961351,\n",
       "       0.85803068, 0.8564318 , 0.85481673, 0.8531854 , 0.85153768,\n",
       "       0.84987349, 0.84819271, 0.84649525, 0.84478102, 0.8430499 ])"
      ]
     },
     "execution_count": 12,
     "metadata": {},
     "output_type": "execute_result"
    }
   ],
   "source": [
    "prob_compra_m5 = predictions_m5[:,4]\n",
    "prob_compra_m5[:50]"
   ]
  },
  {
   "cell_type": "markdown",
   "id": "29f21af5",
   "metadata": {},
   "source": [
    "Es interesante notar que a medida que los precios suben, la probabilidad de comprar la marca 5.\n",
    "\n",
    "A continuación usaremos la fórmula de Elasticidad de Precios para ver cómo evoluciona la probabilidad de compra de la marca 5 ante cambios de precios.\n",
    "\n",
    "$$ E = \\beta \\times precio \\times \\left(1- P(compra)\\right) $$\n",
    "\n",
    "Donde $P(compra)$ es la probabilidad de seleccionar la marca.\n",
    "\n",
    "Hasta ahora tenemos las probabilidades de compra de manera estimadas con nuestro modelo de regresión lineal y los rangos de precio, nos queda encontrar los valores para $\\beta$. No obstante, estos coeficientes ya lo tenemos calculados y se encuentran dentro de el dataframe *bc_coef*. Particularmente estamos interesados en los coeficientes para los precios de la marca 5, los cuales se encuentran en la fila 5 respecto de los precios respecto de los coeficientes de la propia marca, los cuales se encuentran en la columna última. \n",
    "\n",
    "Entonces,"
   ]
  },
  {
   "cell_type": "code",
   "execution_count": 13,
   "id": "b3f98d1a",
   "metadata": {},
   "outputs": [
    {
     "data": {
      "text/plain": [
       "-1.09"
      ]
     },
     "execution_count": 13,
     "metadata": {},
     "output_type": "execute_result"
    }
   ],
   "source": [
    "beta_m5 = bc_coef.values[4,4]\n",
    "# beta_m5 = bc_coef.loc[\"P5\"][\"CM5\"].values[0,0] #forma equivalente\n",
    "# beta_m5 = bc_coef.iloc[4,4] #forma equivalente\n",
    "beta_m5"
   ]
  },
  {
   "cell_type": "code",
   "execution_count": 14,
   "id": "a57a8a2e",
   "metadata": {},
   "outputs": [
    {
     "data": {
      "text/plain": [
       "array([-0.04905473, -0.05061568, -0.052206  , -0.05382613, -0.05547653,\n",
       "       -0.05715766, -0.05886997, -0.06061393, -0.06239002, -0.06419871,\n",
       "       -0.06604048, -0.06791582, -0.06982522, -0.07176918, -0.07374821,\n",
       "       -0.0757628 , -0.07781347, -0.07990073, -0.08202512, -0.08418716])"
      ]
     },
     "execution_count": 14,
     "metadata": {},
     "output_type": "execute_result"
    }
   ],
   "source": [
    "# Calculamos la elasticidad para la marca 5\n",
    "m5_elasticidad_propia = beta_m5*rango_precios*(1 - prob_compra_m5)\n",
    "m5_elasticidad_propia[:20]"
   ]
  },
  {
   "cell_type": "markdown",
   "id": "791a20c9",
   "metadata": {},
   "source": [
    "Vamos a generar un dataframe maestro con la información referente a la elasticidad de precio para la marca 5."
   ]
  },
  {
   "cell_type": "code",
   "execution_count": 15,
   "id": "3e76a5ec",
   "metadata": {},
   "outputs": [],
   "source": [
    "elasticidad_precios_master = pd.DataFrame(rango_precios).rename(columns = {0: \"Precio propuesto\"})\n",
    "elasticidad_precios_master[\"Elasticidad M5\"] = m5_elasticidad_propia\n",
    "# elasticidad_precios_master"
   ]
  },
  {
   "cell_type": "markdown",
   "id": "0ba8a876",
   "metadata": {},
   "source": [
    "Vamos a graficar los valores de elasticidad de la marca 5 versus el rango de precios."
   ]
  },
  {
   "cell_type": "code",
   "execution_count": 16,
   "id": "b582a25a",
   "metadata": {},
   "outputs": [
    {
     "data": {
      "image/png": "[encoded data removed]",
      "text/plain": [
       "<Figure size 720x504 with 1 Axes>"
      ]
     },
     "metadata": {
      "needs_background": "light"
     },
     "output_type": "display_data"
    }
   ],
   "source": [
    "fif, ax = plt.subplots(figsize = (10,7))\n",
    "plt.style.use(\"ggplot\")\n",
    "\n",
    "ax.set_title(\"Elasticidad de precios según probabilidad de compra para marca 5\")\n",
    "ax.set_xlabel(\"Rango de precios marca 5\")\n",
    "ax.set_ylabel(\"Elasticidad marca 5\")\n",
    "ax.plot(elasticidad_precios_master[\"Precio propuesto\"], elasticidad_precios_master[\"Elasticidad M5\"], color = \"r\")\n",
    "plt.show()\n"
   ]
  },
  {
   "cell_type": "markdown",
   "id": "98a7ff42",
   "metadata": {},
   "source": [
    "### Elasticidad de precio cruzada\n",
    "\n",
    "Vamos a comparar la elasticidad cruzada entre la marca 5 y la 4. Podemos asumir, dado el precio, de que la marca 5 es la de mejor calidad y por ende, quien le sigue es la marca 4.\n",
    "\n",
    "Debemos tener en cuenta que la elasticidad cruzada en este caso, mide la probabilidad de compra o selección de la marca 5 cuando el precio de la marca 4 cambia. Por lo tanto, debemos examinar cambios de precio en la marca 4. Por lo tanto, vamos a crear un nuevo dataframe donde vamos a dejar valores constantes en los precios de las marcas 1, 2, 3 y 5 y utilizaremos el rango de precios creados anteriormente para la columna de precios de la marca 4."
   ]
  },
  {
   "cell_type": "code",
   "execution_count": 17,
   "id": "af81b1f8",
   "metadata": {},
   "outputs": [],
   "source": [
    "df_m5_cross_m4 = pd.DataFrame(index = np.arange(rango_precios.size))\n",
    "df_m5_cross_m4[\"Price_1\"] = df_compras_incidencia[\"Price_1\"].mean()\n",
    "df_m5_cross_m4[\"Price_2\"] = df_compras_incidencia[\"Price_2\"].mean()\n",
    "df_m5_cross_m4[\"Price_3\"] = df_compras_incidencia[\"Price_3\"].mean()\n",
    "df_m5_cross_m4[\"Price_4\"] = rango_precios\n",
    "df_m5_cross_m4[\"Price_5\"] = df_compras_incidencia[\"Price_5\"].mean()"
   ]
  },
  {
   "cell_type": "markdown",
   "id": "56390e35",
   "metadata": {},
   "source": [
    "Ahora vamos a obtener las probabilidades de compra usando el modelo."
   ]
  },
  {
   "cell_type": "code",
   "execution_count": 18,
   "id": "028e8b40",
   "metadata": {},
   "outputs": [
    {
     "data": {
      "text/plain": [
       "array([[0.00996306, 0.16384114, 0.00386855, 0.60919494, 0.21313231],\n",
       "       [0.01011837, 0.16488702, 0.00394205, 0.60674127, 0.2143113 ],\n",
       "       [0.01027581, 0.1659351 , 0.00401684, 0.60428123, 0.21549102],\n",
       "       [0.01043543, 0.16698534, 0.00409294, 0.60181491, 0.21667138],\n",
       "       [0.01059723, 0.16803768, 0.00417036, 0.59934242, 0.21785231]])"
      ]
     },
     "execution_count": 18,
     "metadata": {},
     "output_type": "execute_result"
    }
   ],
   "source": [
    "prob_compra_m5_cross_m4 = lr_predictor_marca.predict_proba(df_m5_cross_m4)\n",
    "prob_compra_m5_cross_m4[:5]"
   ]
  },
  {
   "cell_type": "markdown",
   "id": "b75eec5a",
   "metadata": {},
   "source": [
    "#### Importante\n",
    "\n",
    "Para calcular la elasticidad cruzada vamos a usar una fórmula diferente a la que hemos usado antes. La ecuación para calcular elasticidad cruzada es la siguiente,\n",
    "\n",
    "$$ E_{cruzada} = -\\beta_{precio marca propia} \\times precio(marca cruzada) \\times P(marca cruzada)$$\n",
    "\n",
    "Donde,\n",
    "\n",
    "- $P(marca cruzada)$: Es la probabilidad de selección de la marca 4 ante los cambios de precios.\n",
    "- $Precio(marca cruzada)$: Es el precio de la marca cruzada, en este caso también la marca 4. "
   ]
  },
  {
   "cell_type": "code",
   "execution_count": 19,
   "id": "5c714153",
   "metadata": {},
   "outputs": [
    {
     "data": {
      "text/plain": [
       "array([0.33201124, 0.33728747, 0.3425066 , 0.34766847, 0.35277295,\n",
       "       0.35781988, 0.36280913, 0.36774056, 0.37261406, 0.3774295 ])"
      ]
     },
     "execution_count": 19,
     "metadata": {},
     "output_type": "execute_result"
    }
   ],
   "source": [
    "prob_compra_m4 = prob_compra_m5_cross_m4[:,3]\n",
    "m4_elasticidad_cruzada = -beta_m5*rango_precios*prob_compra_m4\n",
    "m4_elasticidad_cruzada[:10]"
   ]
  },
  {
   "cell_type": "markdown",
   "id": "8e1c6121",
   "metadata": {},
   "source": [
    "Agregamos esta info en nuestro dataframe maestro."
   ]
  },
  {
   "cell_type": "code",
   "execution_count": 20,
   "id": "037c997b",
   "metadata": {},
   "outputs": [
    {
     "data": {
      "text/html": [
       "<div>\n",
       "<style scoped>\n",
       "    .dataframe tbody tr th:only-of-type {\n",
       "        vertical-align: middle;\n",
       "    }\n",
       "\n",
       "    .dataframe tbody tr th {\n",
       "        vertical-align: top;\n",
       "    }\n",
       "\n",
       "    .dataframe thead th {\n",
       "        text-align: right;\n",
       "    }\n",
       "</style>\n",
       "<table border=\"1\" class=\"dataframe\">\n",
       "  <thead>\n",
       "    <tr style=\"text-align: right;\">\n",
       "      <th></th>\n",
       "      <th>Precio propuesto</th>\n",
       "      <th>Elasticidad M5</th>\n",
       "      <th>M5_cross_M4</th>\n",
       "    </tr>\n",
       "  </thead>\n",
       "  <tbody>\n",
       "    <tr>\n",
       "      <th>0</th>\n",
       "      <td>0.50</td>\n",
       "      <td>-0.049055</td>\n",
       "      <td>0.332011</td>\n",
       "    </tr>\n",
       "    <tr>\n",
       "      <th>1</th>\n",
       "      <td>0.51</td>\n",
       "      <td>-0.050616</td>\n",
       "      <td>0.337287</td>\n",
       "    </tr>\n",
       "    <tr>\n",
       "      <th>2</th>\n",
       "      <td>0.52</td>\n",
       "      <td>-0.052206</td>\n",
       "      <td>0.342507</td>\n",
       "    </tr>\n",
       "    <tr>\n",
       "      <th>3</th>\n",
       "      <td>0.53</td>\n",
       "      <td>-0.053826</td>\n",
       "      <td>0.347668</td>\n",
       "    </tr>\n",
       "    <tr>\n",
       "      <th>4</th>\n",
       "      <td>0.54</td>\n",
       "      <td>-0.055477</td>\n",
       "      <td>0.352773</td>\n",
       "    </tr>\n",
       "  </tbody>\n",
       "</table>\n",
       "</div>"
      ],
      "text/plain": [
       "   Precio propuesto  Elasticidad M5  M5_cross_M4\n",
       "0              0.50       -0.049055     0.332011\n",
       "1              0.51       -0.050616     0.337287\n",
       "2              0.52       -0.052206     0.342507\n",
       "3              0.53       -0.053826     0.347668\n",
       "4              0.54       -0.055477     0.352773"
      ]
     },
     "execution_count": 20,
     "metadata": {},
     "output_type": "execute_result"
    }
   ],
   "source": [
    "elasticidad_precios_master[\"M5_cross_M4\"] = m4_elasticidad_cruzada\n",
    "elasticidad_precios_master.head()"
   ]
  },
  {
   "cell_type": "code",
   "execution_count": 21,
   "id": "4c9740a0",
   "metadata": {},
   "outputs": [
    {
     "data": {
      "image/png": "[encoded data removed]",
      "text/plain": [
       "<Figure size 720x504 with 1 Axes>"
      ]
     },
     "metadata": {},
     "output_type": "display_data"
    }
   ],
   "source": [
    "## Graficamos\n",
    "fig, ax = plt.subplots(figsize = (10,7))\n",
    "ax.set_title = (\"Elasticidad de precios para marca 5 respecto de la marca 4\")\n",
    "ax.set_xlabel(\"Rango de precios\")\n",
    "ax.set_ylabel(\"Elasticidad\")\n",
    "ax.plot(elasticidad_precios_master[\"Precio propuesto\"], elasticidad_precios_master[\"M5_cross_M4\"], color = \"g\")\n",
    "plt.show()"
   ]
  },
  {
   "cell_type": "markdown",
   "id": "f63a0b5d",
   "metadata": {},
   "source": [
    "Podemos ver que a medida que el precio de la marca 4 aumenta, la probabilidad de compra de la marca 5 aumenta. Esto no debería sorprendernos.\n",
    "\n",
    "Ahora bien, los valores de elasticidad cruzada pueden darnos ideas de cómo se encuentra el mercado de barras de chocolate para el público que estamos analizando.\n",
    "\n",
    "- Si el valor de la elasticidad cruzada es mayor a cero, se considera que los dos productos son *sustitutos* entre si.\n",
    "$$ E(marca~cruzada)  >0 ~ sustitutas$$\n",
    "\n",
    "Esto tiene sentido ya que los productos que estamos comparando son barras de chocolate. Ahora bien, podríamos estar comparando barras de chocolate con vino y en ese caso, la elasticidad cruzada no necesariamente nos daría valores positivos.\n",
    "\n",
    "- Si el valor absoluto de la elasticidad cruzada, supera en algún punto al valor absoluto de la elasticidad de la propia marca bajo estudio, entonces se considera que la marca alternativa es una **fuerte candidata** a sustituir a la marca bajo análisis.\n",
    "\n",
    "$$ |E(marca~cruzada)| > |E(marca~bajo~estudio)| ~ Marca alternativa fuerte sustituta $$\n",
    "\n",
    "*¿Podemos decir que la marca 4 es una candidata a sustituir la marca 5?* Eso dependerá del precio que estemos evaluando."
   ]
  },
  {
   "cell_type": "code",
   "execution_count": 22,
   "id": "34f0c23f",
   "metadata": {},
   "outputs": [
    {
     "data": {
      "image/png": "[encoded data removed]",
      "text/plain": [
       "<Figure size 720x504 with 1 Axes>"
      ]
     },
     "metadata": {},
     "output_type": "display_data"
    }
   ],
   "source": [
    "## Graficamos\n",
    "fig, ax = plt.subplots(figsize = (10,7))\n",
    "ax.set_title = (\"Elasticidad de precios\")\n",
    "ax.set_xlabel(\"Rango de precios\")\n",
    "ax.set_ylabel(\"Elasticidad\")\n",
    "ax.plot(elasticidad_precios_master[\"Precio propuesto\"], np.abs(elasticidad_precios_master[\"Elasticidad M5\"].values), color = \"r\", label = \"$E(M5)$\")\n",
    "ax.plot(elasticidad_precios_master[\"Precio propuesto\"], np.abs(elasticidad_precios_master[\"M5_cross_M4\"].values), color = \"g\", label = \"$E(M5_{M4})$\")\n",
    "plt.legend()\n",
    "plt.show()"
   ]
  },
  {
   "cell_type": "markdown",
   "id": "b4251acf",
   "metadata": {},
   "source": [
    "Podemos decir que la marca 4 es una fuerte sustituta de la marca 5 para todo el rango de precios desde 0.5 hasta poco más de 1.5 (según se ve en el gráfico anterior).\n",
    "\n",
    "Si volvemos a analizar los valores medios de precios para las diferentes marcas podremos notar que la marca 4 está en el rango de 1,76USD y el de 2.26USD. Considerando la gráfica de elasticidad cruzada de la marca 5 respecto de la marca 4, podremos notar que la elasticidad es decrece lentamente, no obastante, sigue siendo positiva, indicando que la probabilidad de compra de la marca 5 sigue creciendo con el incremento de precio en la marca 4 pero a una velocidad menor.\n",
    "\n",
    "Entonces, podríamos pensar en generar estrategias de venta de la marca 5 para intentar captar clientes que compran la marca 4, ya que, como podemos ver, la marca 4 en el rango de precios que actualmente maneja, estaría dentro del rango de *sustituto débil*.\n",
    "\n",
    "De algo estamos seguros, ninguna marca hará feliz a todos los clientes, no obstante, podríamos intentar lograr que una marca intente hacer feliz a un segmento en particular.\n",
    "\n",
    "A continuación, vamos a mejorar el modelo para observar la elasticidad pero por segmentos de clientes."
   ]
  },
  {
   "cell_type": "markdown",
   "id": "953b19aa",
   "metadata": {},
   "source": [
    "### Análisis de elasticidad propia y elasticidad cruzada para la marca 5 evaluada para el segmento 3\n",
    "\n",
    "Analizaremos primero el segmento *acomodados*. Sabemos que es el que mayormente compra la marca 4 (ver la notebook *analizandoCompras*).\n",
    "\n",
    "Utilizaremos el dataframe con los segmentos encontrados luego de haber aplicado Kmeans+PCA a los datos dentro de *purchase_data.csv*."
   ]
  },
  {
   "cell_type": "code",
   "execution_count": 23,
   "id": "5f8f4e32",
   "metadata": {},
   "outputs": [
    {
     "data": {
      "text/html": [
       "<div>\n",
       "<style scoped>\n",
       "    .dataframe tbody tr th:only-of-type {\n",
       "        vertical-align: middle;\n",
       "    }\n",
       "\n",
       "    .dataframe tbody tr th {\n",
       "        vertical-align: top;\n",
       "    }\n",
       "\n",
       "    .dataframe thead th {\n",
       "        text-align: right;\n",
       "    }\n",
       "</style>\n",
       "<table border=\"1\" class=\"dataframe\">\n",
       "  <thead>\n",
       "    <tr style=\"text-align: right;\">\n",
       "      <th></th>\n",
       "      <th>ID</th>\n",
       "      <th>Day</th>\n",
       "      <th>Incidence</th>\n",
       "      <th>Brand</th>\n",
       "      <th>Quantity</th>\n",
       "      <th>Last_Inc_Brand</th>\n",
       "      <th>Last_Inc_Quantity</th>\n",
       "      <th>Price_1</th>\n",
       "      <th>Price_2</th>\n",
       "      <th>Price_3</th>\n",
       "      <th>...</th>\n",
       "      <th>Promotion_4</th>\n",
       "      <th>Promotion_5</th>\n",
       "      <th>Sex</th>\n",
       "      <th>Marital status</th>\n",
       "      <th>Age</th>\n",
       "      <th>Education</th>\n",
       "      <th>Income</th>\n",
       "      <th>Occupation</th>\n",
       "      <th>Settlement size</th>\n",
       "      <th>Segmento</th>\n",
       "    </tr>\n",
       "  </thead>\n",
       "  <tbody>\n",
       "    <tr>\n",
       "      <th>101</th>\n",
       "      <td>200000002</td>\n",
       "      <td>6</td>\n",
       "      <td>1</td>\n",
       "      <td>4</td>\n",
       "      <td>1</td>\n",
       "      <td>0</td>\n",
       "      <td>0</td>\n",
       "      <td>1.59</td>\n",
       "      <td>1.87</td>\n",
       "      <td>2.01</td>\n",
       "      <td>...</td>\n",
       "      <td>0</td>\n",
       "      <td>0</td>\n",
       "      <td>1</td>\n",
       "      <td>1</td>\n",
       "      <td>52</td>\n",
       "      <td>2</td>\n",
       "      <td>159052</td>\n",
       "      <td>2</td>\n",
       "      <td>1</td>\n",
       "      <td>3</td>\n",
       "    </tr>\n",
       "    <tr>\n",
       "      <th>115</th>\n",
       "      <td>200000002</td>\n",
       "      <td>100</td>\n",
       "      <td>1</td>\n",
       "      <td>4</td>\n",
       "      <td>2</td>\n",
       "      <td>0</td>\n",
       "      <td>0</td>\n",
       "      <td>1.47</td>\n",
       "      <td>1.90</td>\n",
       "      <td>1.95</td>\n",
       "      <td>...</td>\n",
       "      <td>1</td>\n",
       "      <td>0</td>\n",
       "      <td>1</td>\n",
       "      <td>1</td>\n",
       "      <td>52</td>\n",
       "      <td>2</td>\n",
       "      <td>159052</td>\n",
       "      <td>2</td>\n",
       "      <td>1</td>\n",
       "      <td>3</td>\n",
       "    </tr>\n",
       "    <tr>\n",
       "      <th>138</th>\n",
       "      <td>200000002</td>\n",
       "      <td>283</td>\n",
       "      <td>1</td>\n",
       "      <td>4</td>\n",
       "      <td>3</td>\n",
       "      <td>0</td>\n",
       "      <td>0</td>\n",
       "      <td>1.37</td>\n",
       "      <td>1.89</td>\n",
       "      <td>2.00</td>\n",
       "      <td>...</td>\n",
       "      <td>0</td>\n",
       "      <td>0</td>\n",
       "      <td>1</td>\n",
       "      <td>1</td>\n",
       "      <td>52</td>\n",
       "      <td>2</td>\n",
       "      <td>159052</td>\n",
       "      <td>2</td>\n",
       "      <td>1</td>\n",
       "      <td>3</td>\n",
       "    </tr>\n",
       "    <tr>\n",
       "      <th>141</th>\n",
       "      <td>200000002</td>\n",
       "      <td>307</td>\n",
       "      <td>1</td>\n",
       "      <td>4</td>\n",
       "      <td>1</td>\n",
       "      <td>0</td>\n",
       "      <td>0</td>\n",
       "      <td>1.34</td>\n",
       "      <td>1.89</td>\n",
       "      <td>2.01</td>\n",
       "      <td>...</td>\n",
       "      <td>1</td>\n",
       "      <td>0</td>\n",
       "      <td>1</td>\n",
       "      <td>1</td>\n",
       "      <td>52</td>\n",
       "      <td>2</td>\n",
       "      <td>159052</td>\n",
       "      <td>2</td>\n",
       "      <td>1</td>\n",
       "      <td>3</td>\n",
       "    </tr>\n",
       "    <tr>\n",
       "      <th>153</th>\n",
       "      <td>200000002</td>\n",
       "      <td>422</td>\n",
       "      <td>1</td>\n",
       "      <td>4</td>\n",
       "      <td>1</td>\n",
       "      <td>0</td>\n",
       "      <td>0</td>\n",
       "      <td>1.34</td>\n",
       "      <td>1.89</td>\n",
       "      <td>2.02</td>\n",
       "      <td>...</td>\n",
       "      <td>1</td>\n",
       "      <td>0</td>\n",
       "      <td>1</td>\n",
       "      <td>1</td>\n",
       "      <td>52</td>\n",
       "      <td>2</td>\n",
       "      <td>159052</td>\n",
       "      <td>2</td>\n",
       "      <td>1</td>\n",
       "      <td>3</td>\n",
       "    </tr>\n",
       "  </tbody>\n",
       "</table>\n",
       "<p>5 rows × 25 columns</p>\n",
       "</div>"
      ],
      "text/plain": [
       "            ID  Day  Incidence  Brand  Quantity  Last_Inc_Brand  \\\n",
       "101  200000002    6          1      4         1               0   \n",
       "115  200000002  100          1      4         2               0   \n",
       "138  200000002  283          1      4         3               0   \n",
       "141  200000002  307          1      4         1               0   \n",
       "153  200000002  422          1      4         1               0   \n",
       "\n",
       "     Last_Inc_Quantity  Price_1  Price_2  Price_3  ...  Promotion_4  \\\n",
       "101                  0     1.59     1.87     2.01  ...            0   \n",
       "115                  0     1.47     1.90     1.95  ...            1   \n",
       "138                  0     1.37     1.89     2.00  ...            0   \n",
       "141                  0     1.34     1.89     2.01  ...            1   \n",
       "153                  0     1.34     1.89     2.02  ...            1   \n",
       "\n",
       "     Promotion_5  Sex  Marital status  Age  Education  Income  Occupation  \\\n",
       "101            0    1               1   52          2  159052           2   \n",
       "115            0    1               1   52          2  159052           2   \n",
       "138            0    1               1   52          2  159052           2   \n",
       "141            0    1               1   52          2  159052           2   \n",
       "153            0    1               1   52          2  159052           2   \n",
       "\n",
       "     Settlement size  Segmento  \n",
       "101                1         3  \n",
       "115                1         3  \n",
       "138                1         3  \n",
       "141                1         3  \n",
       "153                1         3  \n",
       "\n",
       "[5 rows x 25 columns]"
      ]
     },
     "execution_count": 23,
     "metadata": {},
     "output_type": "execute_result"
    }
   ],
   "source": [
    "purchase_data_segmentado = pd.read_csv(\"datasets/purchase_data_segmentado.csv\") #cargamos archivo\n",
    "purchase_data_segmentado = purchase_data_segmentado[purchase_data_segmentado[\"Incidence\"] == 1] #sólo nos quedamos con las observaciones que hayan tendio una compra\n",
    "purchase_data_segmentado = purchase_data_segmentado[purchase_data_segmentado[\"Segmento\"] == 3] #nos quedamos con el segmento 3, o \"acomodados\"\n",
    "purchase_data_segmentado.head()"
   ]
  },
  {
   "cell_type": "code",
   "execution_count": 24,
   "id": "23f62221",
   "metadata": {},
   "outputs": [
    {
     "data": {
      "text/html": [
       "<div>\n",
       "<style scoped>\n",
       "    .dataframe tbody tr th:only-of-type {\n",
       "        vertical-align: middle;\n",
       "    }\n",
       "\n",
       "    .dataframe tbody tr th {\n",
       "        vertical-align: top;\n",
       "    }\n",
       "\n",
       "    .dataframe thead tr th {\n",
       "        text-align: left;\n",
       "    }\n",
       "</style>\n",
       "<table border=\"1\" class=\"dataframe\">\n",
       "  <thead>\n",
       "    <tr>\n",
       "      <th></th>\n",
       "      <th>CM1</th>\n",
       "      <th>CM2</th>\n",
       "      <th>CM3</th>\n",
       "      <th>CM4</th>\n",
       "      <th>CM5</th>\n",
       "    </tr>\n",
       "  </thead>\n",
       "  <tbody>\n",
       "    <tr>\n",
       "      <th>P1</th>\n",
       "      <td>-2.15</td>\n",
       "      <td>1.33</td>\n",
       "      <td>0.82</td>\n",
       "      <td>0.12</td>\n",
       "      <td>-0.11</td>\n",
       "    </tr>\n",
       "    <tr>\n",
       "      <th>P2</th>\n",
       "      <td>-0.96</td>\n",
       "      <td>-1.38</td>\n",
       "      <td>1.29</td>\n",
       "      <td>0.78</td>\n",
       "      <td>0.27</td>\n",
       "    </tr>\n",
       "    <tr>\n",
       "      <th>P3</th>\n",
       "      <td>2.01</td>\n",
       "      <td>-1.65</td>\n",
       "      <td>-0.49</td>\n",
       "      <td>0.03</td>\n",
       "      <td>0.11</td>\n",
       "    </tr>\n",
       "    <tr>\n",
       "      <th>P4</th>\n",
       "      <td>2.52</td>\n",
       "      <td>0.96</td>\n",
       "      <td>-0.25</td>\n",
       "      <td>-1.90</td>\n",
       "      <td>-1.33</td>\n",
       "    </tr>\n",
       "    <tr>\n",
       "      <th>P5</th>\n",
       "      <td>-0.99</td>\n",
       "      <td>-0.30</td>\n",
       "      <td>1.17</td>\n",
       "      <td>0.56</td>\n",
       "      <td>-0.44</td>\n",
       "    </tr>\n",
       "  </tbody>\n",
       "</table>\n",
       "</div>"
      ],
      "text/plain": [
       "     CM1   CM2   CM3   CM4   CM5\n",
       "P1 -2.15  1.33  0.82  0.12 -0.11\n",
       "P2 -0.96 -1.38  1.29  0.78  0.27\n",
       "P3  2.01 -1.65 -0.49  0.03  0.11\n",
       "P4  2.52  0.96 -0.25 -1.90 -1.33\n",
       "P5 -0.99 -0.30  1.17  0.56 -0.44"
      ]
     },
     "execution_count": 24,
     "metadata": {},
     "output_type": "execute_result"
    }
   ],
   "source": [
    "Y = purchase_data_segmentado[\"Brand\"]\n",
    "# pd.get_dummies(purchase_data_segmentado, columns=[\"Brand\"], prefix=\"Brand\", prefix_sep=\"_\")\n",
    "X = purchase_data_segmentado[features]\n",
    "\n",
    "lr_segmento3 = LogisticRegression(solver = \"sag\", multi_class = \"multinomial\", max_iter = 300)\n",
    "lr_segmento3.fit(X, Y)\n",
    "\n",
    "#Tabla de coeficientes para segmento 3\n",
    "bc_coef_s3 = pd.DataFrame(lr_segmento3.coef_.T)\n",
    "bc_coef_s3.columns = [coeficientes]\n",
    "bc_coef_s3.index = [precios]\n",
    "bc_coef_s3 = bc_coef_s3.round(2)\n",
    "bc_coef_s3"
   ]
  },
  {
   "cell_type": "markdown",
   "id": "671b203c",
   "metadata": {},
   "source": [
    "#### Elasticidad en precio para marca 5 consigo misma (own brand)"
   ]
  },
  {
   "cell_type": "code",
   "execution_count": 25,
   "id": "4bc4c79d",
   "metadata": {},
   "outputs": [],
   "source": [
    "df_m5_s3 = pd.DataFrame(index = np.arange(rango_precios.size))\n",
    "df_m5_s3[\"Price_1\"] = purchase_data_segmentado[\"Price_1\"].mean()\n",
    "df_m5_s3[\"Price_2\"] = purchase_data_segmentado[\"Price_2\"].mean()\n",
    "df_m5_s3[\"Price_3\"] = purchase_data_segmentado[\"Price_3\"].mean()\n",
    "df_m5_s3[\"Price_4\"] = purchase_data_segmentado[\"Price_4\"].mean()\n",
    "df_m5_s3[\"Price_5\"] = rango_precios\n",
    "\n",
    "#predecimos probabilidades\n",
    "predicciones_s3 = lr_segmento3.predict_proba(df_m5_s3) #probabilidades de selección para la marca 5, segmento 3\n",
    "prob_compra_m5_s3 = predicciones_s3[:,4]\n",
    "# prob_compra_m5_s3[:10]\n",
    "\n",
    "# beta_m5_s3 = bc_coef_s3.iloc[4,4]\n",
    "\n",
    "m5_s3_elasticidad_propia = beta_m5*rango_precios*(1-prob_compra_m5_s3)\n",
    "elasticidad_precios_master[\"M5 S3\"] = m5_s3_elasticidad_propia"
   ]
  },
  {
   "cell_type": "markdown",
   "id": "28952092",
   "metadata": {},
   "source": [
    "#### Elasticidad cruzada - Marca 5 respecto de marca 4 para **segmento 3**"
   ]
  },
  {
   "cell_type": "code",
   "execution_count": 26,
   "id": "3817c4ef",
   "metadata": {},
   "outputs": [],
   "source": [
    "df_m5_cross_m4_s3 = pd.DataFrame(index = np.arange(rango_precios.size))\n",
    "df_m5_cross_m4_s3[\"Price_1\"] = purchase_data_segmentado[\"Price_1\"].mean()\n",
    "df_m5_cross_m4_s3[\"Price_2\"] = purchase_data_segmentado[\"Price_2\"].mean()\n",
    "df_m5_cross_m4_s3[\"Price_3\"] = purchase_data_segmentado[\"Price_3\"].mean()\n",
    "df_m5_cross_m4_s3[\"Price_4\"] = rango_precios\n",
    "df_m5_cross_m4_s3[\"Price_5\"] = purchase_data_segmentado[\"Price_5\"].mean()\n",
    "\n",
    "#predecimos probabilidades\n",
    "predicciones_m5_cross_m4_s3 = lr_segmento3.predict_proba(df_m5_cross_m4_s3) #probabilidades de selección para la marca 4, segmento 3\n",
    "prob_compra_m5_cross_m4_s3 = predicciones_m5_cross_m4_s3[:,3]\n",
    "# prob_compra_m5_s3[:10]\n",
    "\n",
    "elasticidad_m5_cross_m4_s3 = -beta_m5*rango_precios*prob_compra_m5_cross_m4_s3\n",
    "# elasticidad_m5_cross_m4_s3[:10]\n",
    "\n",
    "elasticidad_precios_master[\"M5_cross_M4_S3\"] = elasticidad_m5_cross_m4_s3"
   ]
  },
  {
   "cell_type": "code",
   "execution_count": 27,
   "id": "7779d0cd",
   "metadata": {},
   "outputs": [
    {
     "data": {
      "text/html": [
       "<div>\n",
       "<style scoped>\n",
       "    .dataframe tbody tr th:only-of-type {\n",
       "        vertical-align: middle;\n",
       "    }\n",
       "\n",
       "    .dataframe tbody tr th {\n",
       "        vertical-align: top;\n",
       "    }\n",
       "\n",
       "    .dataframe thead th {\n",
       "        text-align: right;\n",
       "    }\n",
       "</style>\n",
       "<table border=\"1\" class=\"dataframe\">\n",
       "  <thead>\n",
       "    <tr style=\"text-align: right;\">\n",
       "      <th></th>\n",
       "      <th>Precio propuesto</th>\n",
       "      <th>Elasticidad M5</th>\n",
       "      <th>M5_cross_M4</th>\n",
       "      <th>M5 S3</th>\n",
       "      <th>M5_cross_M4_S3</th>\n",
       "    </tr>\n",
       "  </thead>\n",
       "  <tbody>\n",
       "    <tr>\n",
       "      <th>0</th>\n",
       "      <td>0.50</td>\n",
       "      <td>-0.049055</td>\n",
       "      <td>0.332011</td>\n",
       "      <td>-0.297331</td>\n",
       "      <td>0.482421</td>\n",
       "    </tr>\n",
       "    <tr>\n",
       "      <th>1</th>\n",
       "      <td>0.51</td>\n",
       "      <td>-0.050616</td>\n",
       "      <td>0.337287</td>\n",
       "      <td>-0.303377</td>\n",
       "      <td>0.491726</td>\n",
       "    </tr>\n",
       "    <tr>\n",
       "      <th>2</th>\n",
       "      <td>0.52</td>\n",
       "      <td>-0.052206</td>\n",
       "      <td>0.342507</td>\n",
       "      <td>-0.309434</td>\n",
       "      <td>0.501016</td>\n",
       "    </tr>\n",
       "    <tr>\n",
       "      <th>3</th>\n",
       "      <td>0.53</td>\n",
       "      <td>-0.053826</td>\n",
       "      <td>0.347668</td>\n",
       "      <td>-0.315501</td>\n",
       "      <td>0.510290</td>\n",
       "    </tr>\n",
       "    <tr>\n",
       "      <th>4</th>\n",
       "      <td>0.54</td>\n",
       "      <td>-0.055477</td>\n",
       "      <td>0.352773</td>\n",
       "      <td>-0.321579</td>\n",
       "      <td>0.519548</td>\n",
       "    </tr>\n",
       "    <tr>\n",
       "      <th>...</th>\n",
       "      <td>...</td>\n",
       "      <td>...</td>\n",
       "      <td>...</td>\n",
       "      <td>...</td>\n",
       "      <td>...</td>\n",
       "    </tr>\n",
       "    <tr>\n",
       "      <th>295</th>\n",
       "      <td>3.45</td>\n",
       "      <td>-3.231572</td>\n",
       "      <td>0.162235</td>\n",
       "      <td>-3.337314</td>\n",
       "      <td>0.157493</td>\n",
       "    </tr>\n",
       "    <tr>\n",
       "      <th>296</th>\n",
       "      <td>3.46</td>\n",
       "      <td>-3.247765</td>\n",
       "      <td>0.160335</td>\n",
       "      <td>-3.350644</td>\n",
       "      <td>0.152071</td>\n",
       "    </tr>\n",
       "    <tr>\n",
       "      <th>297</th>\n",
       "      <td>3.47</td>\n",
       "      <td>-3.263927</td>\n",
       "      <td>0.158449</td>\n",
       "      <td>-3.363971</td>\n",
       "      <td>0.146815</td>\n",
       "    </tr>\n",
       "    <tr>\n",
       "      <th>298</th>\n",
       "      <td>3.48</td>\n",
       "      <td>-3.280057</td>\n",
       "      <td>0.156578</td>\n",
       "      <td>-3.377295</td>\n",
       "      <td>0.141719</td>\n",
       "    </tr>\n",
       "    <tr>\n",
       "      <th>299</th>\n",
       "      <td>3.49</td>\n",
       "      <td>-3.296153</td>\n",
       "      <td>0.154721</td>\n",
       "      <td>-3.390616</td>\n",
       "      <td>0.136782</td>\n",
       "    </tr>\n",
       "  </tbody>\n",
       "</table>\n",
       "<p>300 rows × 5 columns</p>\n",
       "</div>"
      ],
      "text/plain": [
       "     Precio propuesto  Elasticidad M5  M5_cross_M4     M5 S3  M5_cross_M4_S3\n",
       "0                0.50       -0.049055     0.332011 -0.297331        0.482421\n",
       "1                0.51       -0.050616     0.337287 -0.303377        0.491726\n",
       "2                0.52       -0.052206     0.342507 -0.309434        0.501016\n",
       "3                0.53       -0.053826     0.347668 -0.315501        0.510290\n",
       "4                0.54       -0.055477     0.352773 -0.321579        0.519548\n",
       "..                ...             ...          ...       ...             ...\n",
       "295              3.45       -3.231572     0.162235 -3.337314        0.157493\n",
       "296              3.46       -3.247765     0.160335 -3.350644        0.152071\n",
       "297              3.47       -3.263927     0.158449 -3.363971        0.146815\n",
       "298              3.48       -3.280057     0.156578 -3.377295        0.141719\n",
       "299              3.49       -3.296153     0.154721 -3.390616        0.136782\n",
       "\n",
       "[300 rows x 5 columns]"
      ]
     },
     "execution_count": 27,
     "metadata": {},
     "output_type": "execute_result"
    }
   ],
   "source": [
    "elasticidad_precios_master"
   ]
  },
  {
   "cell_type": "code",
   "execution_count": 28,
   "id": "fb7aff83",
   "metadata": {},
   "outputs": [
    {
     "data": {
      "image/png": "[encoded data removed]",
      "text/plain": [
       "<Figure size 1008x504 with 2 Axes>"
      ]
     },
     "metadata": {},
     "output_type": "display_data"
    }
   ],
   "source": [
    "fig, ax = plt.subplots(1,2,figsize = (14,7))\n",
    "plt.style.use(\"ggplot\")\n",
    "\n",
    "ax[0].set_title(\"Segmento Acomodado - Elassticidad Marca 5\")\n",
    "ax[0].set_xlabel(\"Precio 5\")\n",
    "ax[0].set_ylabel(\"Elasticidad\")\n",
    "ax[0].plot(rango_precios, elasticidad_precios_master[\"M5 S3\"], color = \"k\")\n",
    "ax[0].axvspan(2.11, 2.8, color='red', alpha=0.3)\n",
    "\n",
    "ax[1].set_title(\"Segmento Acomodado - Elassticidad cruzada M5 respectgo M4\")\n",
    "ax[1].set_xlabel(\"Precio 4\")\n",
    "ax[1].set_ylabel(\"Elasticidad\")\n",
    "ax[1].plot(rango_precios, elasticidad_precios_master[\"M5_cross_M4_S3\"], color = \"k\")\n",
    "ax[1].axvspan(1.76, 2.29, color='blue', alpha=0.3)\n",
    "\n",
    "plt.show()\n"
   ]
  },
  {
   "cell_type": "markdown",
   "id": "afd4fef8",
   "metadata": {},
   "source": [
    "NOTA: Debemos tener en cuenta que los precios en los ejes x de los gráficos representan los cambios en los precios para la marca 5 y marca 4, respectivamente.\n",
    "\n",
    "Recordemos que,\n",
    "\n",
    "- Rango de precios marca 5: entre 2.11USD y 2.8USD\n",
    "- Rango de precios marca 4: entre 1.76USD y 2.29USD\n",
    "\n",
    "Estos rangos están marcados en los gráficos anteriores.\n",
    "\n",
    "**Elasticidad marca 5 consigo misma**\n",
    "Según la gráfica de la izquierda, en el rango de precios de la marca 5, el segmento de *acomodados* es elástico respecto a la marca (own brand). Esto es esperable, ya que como vimos, este segmente se inclina mayoritariamente por la marca 4, por lo tanto, aumentos de precios en la marca 5 haría que la probabilidad de selección de la marca 5 sea aún menor.\n",
    "\n",
    "**Elasticidad cruzada de marca 5 respecto marca 4 - segmento 3**\n",
    "Podemos ver que la elasticidad cruzada para el segmento 3 son todos valores positivos, por ende, la marca 4 es claramente una sustituta de la marca 5."
   ]
  },
  {
   "cell_type": "markdown",
   "id": "0020dd99",
   "metadata": {},
   "source": [
    "### Cambios de precios en la marca competidora\n",
    "\n",
    "¿Qué pasaría si la competencia decrementa el precio de las barras de chocolate de marca 4 en $1\\%$?\n",
    "\n",
    "Podemos determinar si la probabilidad, de que el segmento de *acomodados* compre o no la marca 5, aumentará o disminuirá con este decremento de precio.\n",
    "\n",
    "Veamos esto con un ejemplo, supongamos un precio para la marca 4 es 2USD. Necesitamos saber qué valor tiene la columna *M5_cross_M4_S3* referente a los valores de elasticidad cruzada de la marca 5 respecto de la marca 4."
   ]
  },
  {
   "cell_type": "code",
   "execution_count": 29,
   "id": "424c3e1f",
   "metadata": {},
   "outputs": [
    {
     "data": {
      "text/plain": [
       "Precio propuesto    2.000000\n",
       "Elasticidad M5     -0.924586\n",
       "M5_cross_M4         0.513361\n",
       "M5 S3              -1.505517\n",
       "M5_cross_M4_S3      1.527730\n",
       "Name: 150, dtype: float64"
      ]
     },
     "execution_count": 29,
     "metadata": {},
     "output_type": "execute_result"
    }
   ],
   "source": [
    "elasticidad_precios_master.loc[150]"
   ]
  },
  {
   "cell_type": "markdown",
   "id": "e23dd0f7",
   "metadata": {},
   "source": [
    "Podemos ver que para un precio de 2USD, la elasticidad cruzada *M5_cross_M4_S3* es de $1.52$. Por lo tanto, si el precio de la marca 4 cae en $1\\%$, la probabilidad de que el segmento de personas *acomodadas* compre la marca 5 **¡decaerá en 1.5%!**.\n",
    "\n",
    "¿Qué hacemos entonces? Podríamos también decrementar el precio de nuestro producto en $1\\%$. ¿Cómo impactaría esto en la probabilidad de compra del segmento 3 en la marca 5?\n",
    "\n",
    "Veamos qué valor posee la elasticidad para los 2USD en los valores de elasticidad de la marca 5."
   ]
  },
  {
   "cell_type": "code",
   "execution_count": 30,
   "id": "6f85b7a9",
   "metadata": {},
   "outputs": [
    {
     "data": {
      "text/html": [
       "<div>\n",
       "<style scoped>\n",
       "    .dataframe tbody tr th:only-of-type {\n",
       "        vertical-align: middle;\n",
       "    }\n",
       "\n",
       "    .dataframe tbody tr th {\n",
       "        vertical-align: top;\n",
       "    }\n",
       "\n",
       "    .dataframe thead th {\n",
       "        text-align: right;\n",
       "    }\n",
       "</style>\n",
       "<table border=\"1\" class=\"dataframe\">\n",
       "  <thead>\n",
       "    <tr style=\"text-align: right;\">\n",
       "      <th></th>\n",
       "      <th>Precio propuesto</th>\n",
       "      <th>Elasticidad M5</th>\n",
       "      <th>M5_cross_M4</th>\n",
       "      <th>M5 S3</th>\n",
       "      <th>M5_cross_M4_S3</th>\n",
       "    </tr>\n",
       "  </thead>\n",
       "  <tbody>\n",
       "    <tr>\n",
       "      <th>189</th>\n",
       "      <td>2.39</td>\n",
       "      <td>-1.463606</td>\n",
       "      <td>0.421704</td>\n",
       "      <td>-1.955974</td>\n",
       "      <td>1.440504</td>\n",
       "    </tr>\n",
       "    <tr>\n",
       "      <th>190</th>\n",
       "      <td>2.40</td>\n",
       "      <td>-1.478977</td>\n",
       "      <td>0.419101</td>\n",
       "      <td>-1.968160</td>\n",
       "      <td>1.433270</td>\n",
       "    </tr>\n",
       "    <tr>\n",
       "      <th>191</th>\n",
       "      <td>2.41</td>\n",
       "      <td>-1.494412</td>\n",
       "      <td>0.416491</td>\n",
       "      <td>-1.980373</td>\n",
       "      <td>1.425748</td>\n",
       "    </tr>\n",
       "    <tr>\n",
       "      <th>192</th>\n",
       "      <td>2.42</td>\n",
       "      <td>-1.509910</td>\n",
       "      <td>0.413873</td>\n",
       "      <td>-1.992613</td>\n",
       "      <td>1.417938</td>\n",
       "    </tr>\n",
       "  </tbody>\n",
       "</table>\n",
       "</div>"
      ],
      "text/plain": [
       "     Precio propuesto  Elasticidad M5  M5_cross_M4     M5 S3  M5_cross_M4_S3\n",
       "189              2.39       -1.463606     0.421704 -1.955974        1.440504\n",
       "190              2.40       -1.478977     0.419101 -1.968160        1.433270\n",
       "191              2.41       -1.494412     0.416491 -1.980373        1.425748\n",
       "192              2.42       -1.509910     0.413873 -1.992613        1.417938"
      ]
     },
     "execution_count": 30,
     "metadata": {},
     "output_type": "execute_result"
    }
   ],
   "source": [
    "elasticidad_precios_master.loc[189:192]"
   ]
  }
 ],
 "metadata": {
  "kernelspec": {
   "display_name": "Python 3 (ipykernel)",
   "language": "python",
   "name": "python3"
  },
  "language_info": {
   "codemirror_mode": {
    "name": "ipython",
    "version": 3
   },
   "file_extension": ".py",
   "mimetype": "text/x-python",
   "name": "python",
   "nbconvert_exporter": "python",
   "pygments_lexer": "ipython3",
   "version": "3.10.8 | packaged by conda-forge | (main, Nov 24 2022, 14:07:00) [MSC v.1916 64 bit (AMD64)]"
  },
  "vscode": {
   "interpreter": {
    "hash": "a04268169029a6c8c242914fc5adae46e7d2251e916247388ae8472995069ae4"
   }
  }
 },
 "nbformat": 4,
 "nbformat_minor": 5
}
