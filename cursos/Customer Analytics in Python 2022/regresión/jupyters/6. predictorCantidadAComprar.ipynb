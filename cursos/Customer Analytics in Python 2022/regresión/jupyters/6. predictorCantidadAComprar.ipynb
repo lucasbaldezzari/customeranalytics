{
 "cells": [
  {
   "cell_type": "markdown",
   "metadata": {},
   "source": [
    "# Prediciendo la cantidad de barras de chocolates que se comprará\n",
    "\n",
    "En esta oportunidad vamos a entrenar un modelo de [Regresión Lineal](https://en.wikipedia.org/wiki/Linear_regression) para intentar predecir la cantidad de barras de chocolate, de una cierta marca, que comprará un cliente. Priermo lo haremos considerando un cliente promedio y luego analizaremos por segmento.\n",
    "\n",
    "Utilizaremos la clase [LinearRegression](https://scikit-learn.org/stable/modules/generated/sklearn.linear_model.LinearRegression.html) de Scikit-Learn."
   ]
  },
  {
   "cell_type": "code",
   "execution_count": 1,
   "metadata": {},
   "outputs": [],
   "source": [
    "### Librerías\n",
    "\n",
    "import numpy as np\n",
    "import pandas as pd\n",
    "\n",
    "from sklearn.preprocessing import StandardScaler\n",
    "from sklearn.decomposition import PCA\n",
    "from sklearn.cluster import KMeans\n",
    "\n",
    "import pickle\n",
    "\n",
    "from sklearn.linear_model import LogisticRegression, LinearRegression\n",
    "\n",
    "import matplotlib.pyplot as plt\n",
    "import matplotlib.axes as axs\n",
    "import seaborn as sns\n",
    "sns.set()\n",
    "\n",
    "from utils import elasticidadPropia\n",
    "from utils import elasticidadCruzada, getPricesDF"
   ]
  },
  {
   "cell_type": "markdown",
   "metadata": {},
   "source": [
    "Al igual que hicimos antes, cargaremos los datos y los procesaremos."
   ]
  },
  {
   "cell_type": "code",
   "execution_count": 2,
   "metadata": {},
   "outputs": [],
   "source": [
    "#Cargamos los datos crudos\n",
    "df_compras = pd.read_csv(\"datasets/purchase_data.csv\")\n",
    "# df_compras.head()\n",
    "# print(df_compras.columns)\n",
    "\n",
    "# Cargamos el modelo de escalamiento o scaler que entrenamos anteriormente.\n",
    "scaler = pickle.load(open('models/scaler.pickle', 'rb'))\n",
    "\n",
    "#  Cargamos el modelo de PCA\n",
    "pca = pickle.load(open('models/pca.pickle', 'rb'))\n",
    "\n",
    "# Cargamos el modelo PCA\n",
    "kmeans_pca = pickle.load(open('models/kmeans_pca.pickle', 'rb'))\n",
    "\n",
    "## Aplicamos estandarización\n",
    "\n",
    "features = df_compras[['Sex', 'Marital status', 'Age', 'Education', 'Income', 'Occupation', 'Settlement size']]\n",
    "df_compras_std = scaler.transform(features)\n",
    "\n",
    "# Aplicamos PCA a los datos estandarizados\n",
    "df_compras_pca = pca.transform(df_compras_std)\n",
    "\n",
    "# Segmentamos los datos usando el modelo de KMeans entrenado previamente\n",
    "segmentos = kmeans_pca.predict(df_compras_pca)\n",
    "\n",
    "# Creamos una copia del dataframe original para trabajar sin modificar los datos del set original.\n",
    "df_compras_predictor = df_compras.copy()\n",
    "\n",
    "# Agregamos labels\n",
    "df_compras_predictor[\"Segmento\"] = segmentos"
   ]
  },
  {
   "cell_type": "markdown",
   "metadata": {},
   "source": [
    "### Seleccionando datos\n",
    "\n",
    "Ahora que tenemos creados los segmentos, lo que haremos es seleccionar un subset de datos.\n",
    "\n",
    "Estamos interesados en predecir la cantidad de barras de chocolate que una persona realizará, entonces nos vamos a quedar con los datos en donde *Incidence* sea igual a 1."
   ]
  },
  {
   "cell_type": "code",
   "execution_count": 3,
   "metadata": {},
   "outputs": [
    {
     "data": {
      "text/plain": [
       "Index(['ID', 'Day', 'Incidence', 'Brand', 'Quantity', 'Last_Inc_Brand',\n",
       "       'Last_Inc_Quantity', 'Price_1', 'Price_2', 'Price_3', 'Price_4',\n",
       "       'Price_5', 'Promotion_1', 'Promotion_2', 'Promotion_3', 'Promotion_4',\n",
       "       'Promotion_5', 'Sex', 'Marital status', 'Age', 'Education', 'Income',\n",
       "       'Occupation', 'Settlement size', 'Segmento'],\n",
       "      dtype='object')"
      ]
     },
     "execution_count": 3,
     "metadata": {},
     "output_type": "execute_result"
    }
   ],
   "source": [
    "df_comprados = df_compras_predictor[df_compras_predictor[\"Incidence\"] == 1] #data frame con datos en donde sí se compró una barra de chocolate\n",
    "df_comprados.columns"
   ]
  },
  {
   "cell_type": "markdown",
   "metadata": {},
   "source": [
    "### Features a elegir\n",
    "\n",
    "Debemos seleccionar las columnas (*features*) que usaremos para entrenar el modelo. Con estas características el modelo *aprenderá* e intentara arrojar una **cantidad** de barras de chocolates."
   ]
  },
  {
   "cell_type": "code",
   "execution_count": 4,
   "metadata": {},
   "outputs": [
    {
     "data": {
      "text/plain": [
       "count    14638.000000\n",
       "mean         2.774559\n",
       "std          1.796736\n",
       "min          1.000000\n",
       "25%          2.000000\n",
       "50%          2.000000\n",
       "75%          3.000000\n",
       "max         15.000000\n",
       "Name: Quantity, dtype: float64"
      ]
     },
     "execution_count": 4,
     "metadata": {},
     "output_type": "execute_result"
    }
   ],
   "source": [
    "df_comprados[\"Quantity\"].describe()"
   ]
  },
  {
   "cell_type": "markdown",
   "metadata": {},
   "source": [
    "Analizando los datos anteriores, vemos que la media de barras de chocolate compradas es de 2.77, con un desvío estandar de 1.796."
   ]
  },
  {
   "cell_type": "markdown",
   "metadata": {},
   "source": [
    "#### Creando dummies\n",
    "\n",
    "La columna *Brand* nos informa qué marca de chocolate fue comprada, es una variable categórica. Para poder utilizar dicha variable como una feature, debemos crear lo que se llama variables *dummies*."
   ]
  },
  {
   "cell_type": "code",
   "execution_count": 5,
   "metadata": {},
   "outputs": [],
   "source": [
    "df_comprados = pd.get_dummies(df_comprados, columns = ['Brand'], prefix = 'Brand', prefix_sep = '_')\n",
    "# df_comprados.head()"
   ]
  },
  {
   "cell_type": "markdown",
   "metadata": {},
   "source": [
    "Analizando las columnas que contiene nuestro set de datos, esta claro que hay algunas que impactarán fuertemente en la cantidad de barras de chocolate que un cliente comprará. Entre estas podemos mencionar las columnas de precios y las de promociones. También podríamos utilizar la columna que hace referencia a la última marca comprada y la cantidad. No obstante, para estas dos últimas deberíamos procesar un poco más los datos.\n",
    "\n",
    "Vamos a utilizar las columnas de precios, de promociones y las columnas de dummies que hemos creado para generar una nueva columna que contenga el precio con el cual se compró cierta marca de barra de chocolate y usaremos la columna promociones y las dummies para ver si para una cierta compra, de una marca en particular, había o no promoción (0 - sin promo, 1 - con promo)"
   ]
  },
  {
   "cell_type": "code",
   "execution_count": 6,
   "metadata": {},
   "outputs": [],
   "source": [
    "precios = ['Price_1', 'Price_2', 'Price_3', 'Price_4', 'Price_5']\n",
    "marcas = ['Brand_1', 'Brand_2', 'Brand_3', 'Brand_4', 'Brand_5']\n",
    "promociones = ['Promotion_1', 'Promotion_2', 'Promotion_3', 'Promotion_4','Promotion_5']\n",
    "df_comprados[\"Precio_comprado\"] = 0\n",
    "\n",
    "for precio, marca in zip(precios, marcas):\n",
    "    temp = df_comprados[precio]*df_comprados[marca]\n",
    "    df_comprados[\"Precio_comprado\"] += temp\n",
    "\n",
    "df_comprados[\"Con_sin_promo\"] = 0\n",
    "\n",
    "for marca, promo in zip(marcas, promociones):\n",
    "    temp = df_comprados[marca]*df_comprados[promo]\n",
    "    df_comprados[\"Con_sin_promo\"] += temp"
   ]
  },
  {
   "cell_type": "markdown",
   "metadata": {},
   "source": [
    "## Entrenando modelo\n",
    "\n",
    "Ahora vamos a crear una instancia de LinearRegression() y la entrenaremos. Prestar atención a las variables independientes y dependientes que usaremos."
   ]
  },
  {
   "cell_type": "code",
   "execution_count": 7,
   "metadata": {},
   "outputs": [],
   "source": [
    "X = df_comprados[[\"Precio_comprado\", \"Con_sin_promo\"]]\n",
    "Y = df_comprados[\"Quantity\"]"
   ]
  },
  {
   "cell_type": "code",
   "execution_count": 8,
   "metadata": {},
   "outputs": [
    {
     "data": {
      "text/html": [
       "<style>#sk-container-id-1 {color: black;background-color: white;}#sk-container-id-1 pre{padding: 0;}#sk-container-id-1 div.sk-toggleable {background-color: white;}#sk-container-id-1 label.sk-toggleable__label {cursor: pointer;display: block;width: 100%;margin-bottom: 0;padding: 0.3em;box-sizing: border-box;text-align: center;}#sk-container-id-1 label.sk-toggleable__label-arrow:before {content: \"▸\";float: left;margin-right: 0.25em;color: #696969;}#sk-container-id-1 label.sk-toggleable__label-arrow:hover:before {color: black;}#sk-container-id-1 div.sk-estimator:hover label.sk-toggleable__label-arrow:before {color: black;}#sk-container-id-1 div.sk-toggleable__content {max-height: 0;max-width: 0;overflow: hidden;text-align: left;background-color: #f0f8ff;}#sk-container-id-1 div.sk-toggleable__content pre {margin: 0.2em;color: black;border-radius: 0.25em;background-color: #f0f8ff;}#sk-container-id-1 input.sk-toggleable__control:checked~div.sk-toggleable__content {max-height: 200px;max-width: 100%;overflow: auto;}#sk-container-id-1 input.sk-toggleable__control:checked~label.sk-toggleable__label-arrow:before {content: \"▾\";}#sk-container-id-1 div.sk-estimator input.sk-toggleable__control:checked~label.sk-toggleable__label {background-color: #d4ebff;}#sk-container-id-1 div.sk-label input.sk-toggleable__control:checked~label.sk-toggleable__label {background-color: #d4ebff;}#sk-container-id-1 input.sk-hidden--visually {border: 0;clip: rect(1px 1px 1px 1px);clip: rect(1px, 1px, 1px, 1px);height: 1px;margin: -1px;overflow: hidden;padding: 0;position: absolute;width: 1px;}#sk-container-id-1 div.sk-estimator {font-family: monospace;background-color: #f0f8ff;border: 1px dotted black;border-radius: 0.25em;box-sizing: border-box;margin-bottom: 0.5em;}#sk-container-id-1 div.sk-estimator:hover {background-color: #d4ebff;}#sk-container-id-1 div.sk-parallel-item::after {content: \"\";width: 100%;border-bottom: 1px solid gray;flex-grow: 1;}#sk-container-id-1 div.sk-label:hover label.sk-toggleable__label {background-color: #d4ebff;}#sk-container-id-1 div.sk-serial::before {content: \"\";position: absolute;border-left: 1px solid gray;box-sizing: border-box;top: 0;bottom: 0;left: 50%;z-index: 0;}#sk-container-id-1 div.sk-serial {display: flex;flex-direction: column;align-items: center;background-color: white;padding-right: 0.2em;padding-left: 0.2em;position: relative;}#sk-container-id-1 div.sk-item {position: relative;z-index: 1;}#sk-container-id-1 div.sk-parallel {display: flex;align-items: stretch;justify-content: center;background-color: white;position: relative;}#sk-container-id-1 div.sk-item::before, #sk-container-id-1 div.sk-parallel-item::before {content: \"\";position: absolute;border-left: 1px solid gray;box-sizing: border-box;top: 0;bottom: 0;left: 50%;z-index: -1;}#sk-container-id-1 div.sk-parallel-item {display: flex;flex-direction: column;z-index: 1;position: relative;background-color: white;}#sk-container-id-1 div.sk-parallel-item:first-child::after {align-self: flex-end;width: 50%;}#sk-container-id-1 div.sk-parallel-item:last-child::after {align-self: flex-start;width: 50%;}#sk-container-id-1 div.sk-parallel-item:only-child::after {width: 0;}#sk-container-id-1 div.sk-dashed-wrapped {border: 1px dashed gray;margin: 0 0.4em 0.5em 0.4em;box-sizing: border-box;padding-bottom: 0.4em;background-color: white;}#sk-container-id-1 div.sk-label label {font-family: monospace;font-weight: bold;display: inline-block;line-height: 1.2em;}#sk-container-id-1 div.sk-label-container {text-align: center;}#sk-container-id-1 div.sk-container {/* jupyter's `normalize.less` sets `[hidden] { display: none; }` but bootstrap.min.css set `[hidden] { display: none !important; }` so we also need the `!important` here to be able to override the default hidden behavior on the sphinx rendered scikit-learn.org. See: https://github.com/scikit-learn/scikit-learn/issues/21755 */display: inline-block !important;position: relative;}#sk-container-id-1 div.sk-text-repr-fallback {display: none;}</style><div id=\"sk-container-id-1\" class=\"sk-top-container\"><div class=\"sk-text-repr-fallback\"><pre>LinearRegression()</pre><b>In a Jupyter environment, please rerun this cell to show the HTML representation or trust the notebook. <br />On GitHub, the HTML representation is unable to render, please try loading this page with nbviewer.org.</b></div><div class=\"sk-container\" hidden><div class=\"sk-item\"><div class=\"sk-estimator sk-toggleable\"><input class=\"sk-toggleable__control sk-hidden--visually\" id=\"sk-estimator-id-1\" type=\"checkbox\" checked><label for=\"sk-estimator-id-1\" class=\"sk-toggleable__label sk-toggleable__label-arrow\">LinearRegression</label><div class=\"sk-toggleable__content\"><pre>LinearRegression()</pre></div></div></div></div></div>"
      ],
      "text/plain": [
       "LinearRegression()"
      ]
     },
     "execution_count": 8,
     "metadata": {},
     "output_type": "execute_result"
    }
   ],
   "source": [
    "# Instanciamos modelo\n",
    "linearreg_predictor = LinearRegression()\n",
    "\n",
    "#entrenamos modelo\n",
    "linearreg_predictor.fit(X,Y)"
   ]
  },
  {
   "cell_type": "markdown",
   "metadata": {},
   "source": [
    "Veamos los coeficientes ontenidos."
   ]
  },
  {
   "cell_type": "code",
   "execution_count": 9,
   "metadata": {},
   "outputs": [
    {
     "data": {
      "text/plain": [
       "array([-0.8173651 , -0.10504673])"
      ]
     },
     "execution_count": 9,
     "metadata": {},
     "output_type": "execute_result"
    }
   ],
   "source": [
    "linearreg_predictor.coef_"
   ]
  },
  {
   "cell_type": "markdown",
   "metadata": {},
   "source": [
    "Los coeficientes nos dan la relación entre el precio y la promoción respecto de la cantidad de barras de chocolates compradas.\n",
    "\n",
    "Podemos ver que el coeficiente para precio es de $-0.817$ y el de promoción es de $-0.105$. En el caso del primer coeficiente, tiene sentido, ya que es esperable que haya una relación inversa entre el precio y la cantidad de barras compradas. Por ejemplo, por cada 1USD de aumento, esperamos un decrecimiento de 0.81 en la compra de barras de chocolate.\n",
    "\n",
    "En el caso del coeficiente para promociones, es más complejo, ya que al parecer, cuando hay promociones, la cantidad de barras de chocolates que un cliente promedio puede comprar, decrece. Esto puede deberse a varios factores, entre estos,\n",
    "\n",
    "- Falta de datos.\n",
    "- Estamos evaluando la inforamción completa, es decir, cliente promedio. Recordemos que del análisis cualitativo que hemos realizado, algunos clientes, según el segmento al que pertenecen, tenían  preferencia para una marca en particular, entonces, podría darse que la promoción en cierta marca lograse que se inclinen a una marca diferente."
   ]
  },
  {
   "cell_type": "markdown",
   "metadata": {},
   "source": [
    "### Elasticidad con promoción\n",
    "\n",
    "Vamos a ver la elasticidad de la demanda de un cliente promedio en los casos donde tengamos promoción."
   ]
  },
  {
   "cell_type": "code",
   "execution_count": 10,
   "metadata": {},
   "outputs": [],
   "source": [
    "rango_precios = pd.DataFrame(np.arange(0.5, 3.5, 0.01), columns = [\"precio\"]).round(2)\n",
    "\n",
    "df_precios_con_promo = pd.DataFrame(index = np.arange(rango_precios.size))\n",
    "df_precios_con_promo['Precio_comprado'] = rango_precios\n",
    "df_precios_con_promo['Con_sin_promo'] = 1\n",
    "# df_precios_con_promo.head()"
   ]
  },
  {
   "cell_type": "markdown",
   "metadata": {},
   "source": [
    "Ahora predecimos usando *df_precios_con_promo*"
   ]
  },
  {
   "cell_type": "code",
   "execution_count": 11,
   "metadata": {},
   "outputs": [],
   "source": [
    "predicciones_compra_con_promo = linearreg_predictor.predict(df_precios_con_promo)"
   ]
  },
  {
   "cell_type": "markdown",
   "metadata": {},
   "source": [
    "#### Fórmula de elasticidad\n",
    "\n",
    "Para el cálculo de elasticidad utilizando el regresor lineal, la fórmula nos queda,\n",
    "\n",
    "$$ E = \\frac{\\frac{\\Delta Cantidad(comprada)}{Cantidad(comprada)}}{\\frac{\\Delta Pecio}{Precio}} = beta\\times \\frac{Precio}{Cantidad(comprada)}$$"
   ]
  },
  {
   "cell_type": "code",
   "execution_count": 12,
   "metadata": {},
   "outputs": [],
   "source": [
    "beta_cantidad = linearreg_predictor.coef_[0]\n",
    "pe_elasticidad_compras_con_promo = beta_cantidad * rango_precios[\"precio\"] / predicciones_compra_con_promo"
   ]
  },
  {
   "cell_type": "markdown",
   "metadata": {},
   "source": [
    "### Elasticidad sin promoción\n",
    "\n",
    "Calcularemos ahora la elasticidad en la demanda pero para el caso sin promoción."
   ]
  },
  {
   "cell_type": "code",
   "execution_count": 13,
   "metadata": {},
   "outputs": [],
   "source": [
    "df_precios_sin_promo = pd.DataFrame(index = np.arange(rango_precios.size))\n",
    "df_precios_sin_promo['Precio_comprado'] = rango_precios\n",
    "df_precios_sin_promo['Con_sin_promo'] = 0\n",
    "\n",
    "# Predecimos\n",
    "predicciones_compra_sin_promo = linearreg_predictor.predict(df_precios_sin_promo)\n",
    "\n",
    "#Calculamos la elasticidad para estas predicciones\n",
    "pe_elasticidad_compras_sin_promo = beta_cantidad * rango_precios[\"precio\"] / predicciones_compra_sin_promo"
   ]
  },
  {
   "cell_type": "markdown",
   "metadata": {},
   "source": [
    "Generamos un dataframe maestro con los datos que generamos."
   ]
  },
  {
   "cell_type": "code",
   "execution_count": 14,
   "metadata": {},
   "outputs": [],
   "source": [
    "master_elasticidades = pd.DataFrame(rango_precios[\"precio\"].values, columns = [\"precio\"]) #dataframe con los valores de elasticidad\n",
    "master_elasticidades[\"pe_elasticidad_compras_con_promo\"] = pe_elasticidad_compras_con_promo\n",
    "master_elasticidades[\"pe_elasticidad_compras_sin_promo\"] = pe_elasticidad_compras_sin_promo"
   ]
  },
  {
   "cell_type": "markdown",
   "metadata": {},
   "source": [
    "#### Graficamos ambas elasticidades"
   ]
  },
  {
   "cell_type": "code",
   "execution_count": 15,
   "metadata": {},
   "outputs": [
    {
     "data": {
      "image/png": "[encoded data removed]",
      "text/plain": [
       "<Figure size 720x504 with 1 Axes>"
      ]
     },
     "metadata": {
      "needs_background": "light"
     },
     "output_type": "display_data"
    }
   ],
   "source": [
    "fig, ax = plt.subplots(figsize = (10,7))\n",
    "ax.set_xlabel(\"Precios\")\n",
    "ax.set_ylabel(\"Elasticidades\")\n",
    "ax.set_title(\"Elasticidad de precio de la cantidad de compra - Cliente promedio\")\n",
    "ax.plot(master_elasticidades[\"precio\"], master_elasticidades[\"pe_elasticidad_compras_con_promo\"], label = \"Elasticidades con promo\")\n",
    "ax.plot(master_elasticidades[\"precio\"], master_elasticidades[\"pe_elasticidad_compras_sin_promo\"], label = \"Elasticidades sin promo\")\n",
    "\n",
    "plt.legend()\n",
    "plt.show()"
   ]
  },
  {
   "cell_type": "markdown",
   "metadata": {},
   "source": [
    "### Analisis\n",
    "\n",
    "- Las elasticidades con promoción y sin promoción son inelásticas hasta alrededor de 2.6USD.\n",
    "- Al paracer, el hecho de que los productos tengan promociones no afectaría la cantidad de compras que la persona realice -las líneas se solapan en un rango de precios grande-. Esto puede deberse a que usamos features que no sean las adecuadas para predecir las compras o bien la metología de cálculo no esta bien. Por otro lado, debemos recordar que estamos analizando al cliente promedio, tal vez analizando por segmento tendremos mayor información ya que sabemos que cada segmento se comporta de manera diferente en cuanto a las compras de barras de chocolate.\n",
    "\n",
    "Como dijimos, podemos realizar las predicciones por segmento o también podríamos analizar las elasticidades por marca, si quisiéramos analizar la marca 5 lo que deberíamos hacer es filtrar todas las transacciones relacionadas a la marca 5, y de manera similar, para las otras marcas."
   ]
  }
 ],
 "metadata": {
  "kernelspec": {
   "display_name": "Python [conda env:costumeranalytics]",
   "language": "python",
   "name": "conda-env-costumeranalytics-py"
  },
  "language_info": {
   "codemirror_mode": {
    "name": "ipython",
    "version": 3
   },
   "file_extension": ".py",
   "mimetype": "text/x-python",
   "name": "python",
   "nbconvert_exporter": "python",
   "pygments_lexer": "ipython3",
   "version": "3.10.8"
  },
  "vscode": {
   "interpreter": {
    "hash": "a04268169029a6c8c242914fc5adae46e7d2251e916247388ae8472995069ae4"
   }
  }
 },
 "nbformat": 4,
 "nbformat_minor": 2
}
