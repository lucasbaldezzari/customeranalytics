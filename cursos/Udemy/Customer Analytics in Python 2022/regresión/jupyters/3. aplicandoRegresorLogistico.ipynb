{
 "cells": [
  {
   "cell_type": "markdown",
   "metadata": {},
   "source": [
    "# Analizando el modelo de *regresión logística*\n",
    "\n",
    "Antes de estudiar las probabilidades de compra de las barras de chocolate para cada segmento y para diferentes variaciones de precios, vamos a resumer qué es la *Regresión Logística*. Afortunadamente existe mucha bibliografía al respecto.\n",
    "\n",
    "Luego aplicaremos un modelo de regresión para predecir la compra o no compra de las barras de chocolate. Entrenaremos el modelo considerando el precio *promedio* obtenido a partir de los datos que ya tenemos en las hojas csv."
   ]
  },
  {
   "cell_type": "markdown",
   "metadata": {},
   "source": [
    "## Regresión Logística\n",
    "\n",
    "Vamos a utilizar la clase [Regresión Logística](https://scikit-learn.org/stable/modules/generated/sklearn.linear_model.LogisticRegression.html) de scikit-learn.\n",
    "\n",
    "La Regresión logística es comunmente utilizada para *estimar la probabilidad de que una observación/instancia pertenezca a cierta clase*. En nuestro caso, lo que queremos es estimar *la probabilidad de compra de alguna de las marcas de barra de chocolate por parte de cierto cliente, perteneciente a cierto segmento en función del precio de la barra de chocolate*.\n",
    "\n",
    "La ecuación en forma vectorizada de la regresión logística para determinar la probabilidad esta dada por,\n",
    "\n",
    "$$ \\hat{p} = h_{\\theta}(\\mathbf{x}) = \\sigma \\left( \\theta^T\\mathbf{x} \\right)$$\n",
    "\n",
    "Donde $\\sigma$ representa la función *[sigmoide](https://en.wikipedia.org/wiki/Sigmoid_function)*, dada por,\n",
    "\n",
    "$$ \\sigma(t) = \\frac{1}{1+exp(-t)} $$\n",
    "\n",
    "Una vez que que se tiene la probabilidad de que una instancia pertenezca a la clase bajo estudio -**clase positiva**-, es fácil hacer una predicción para obtener $\\hat{y}$. Por ejemplo, para un umbral del $50%$, la predicción nos daría,\n",
    "\n",
    "$$ \\hat{y}= \\left\\lbrace\\begin{array}{c} 0~si~\\hat{p}<0.5  \\\\ 1~si~\\hat{p}\\geq{0.5} \\end{array}\\right. $$\n",
    "\n",
    "### Función de costo y entrenamiento\n",
    "\n",
    "Necesitamos entrenar el modelo con nuestros datos para que, ante un nuevo cliente, intentemos predecir qué marca de barra de chocolate comprará. En el caso de regresión logística, la función de costo esta dada por,\n",
    "\n",
    "$$ c(\\theta)= \\left\\lbrace\\begin{array}{c} -log(\\hat{p})~si~y=1  \\\\ -log(1-\\hat{p})~si~y=0 \\end{array}\\right. $$"
   ]
  },
  {
   "cell_type": "markdown",
   "metadata": {},
   "source": [
    "#### Librerías a utilizar"
   ]
  },
  {
   "cell_type": "code",
   "execution_count": 1,
   "metadata": {},
   "outputs": [],
   "source": [
    "import numpy as np\n",
    "import pandas as pd\n",
    "\n",
    "from sklearn.preprocessing import StandardScaler\n",
    "from sklearn.decomposition import PCA\n",
    "from sklearn.cluster import KMeans\n",
    "\n",
    "import pickle\n",
    "\n",
    "from sklearn.linear_model import LogisticRegression \n",
    "\n",
    "import matplotlib.pyplot as plt\n",
    "import matplotlib.axes as axs\n",
    "import seaborn as sns\n",
    "sns.set()\n",
    "\n",
    "from sklearn.linear_model import LinearRegression"
   ]
  },
  {
   "cell_type": "markdown",
   "metadata": {},
   "source": [
    "### Preparando datos\n",
    "\n",
    "Antes que nada, debemos preparar o *pre-procesasr* los datos según hemos trabajado anteriormente. La idea de esto es poder procesar los datos para poder segmentar los clientes en las cuatro categorías que hemos visto y utilizarlos para el análisis."
   ]
  },
  {
   "cell_type": "code",
   "execution_count": 2,
   "metadata": {},
   "outputs": [],
   "source": [
    "#Cargamos los datos crudos\n",
    "df_compras = pd.read_csv(\"datasets/purchase_data.csv\")\n",
    "# df_compras.head()\n",
    "# print(df_compras.columns)\n",
    "\n",
    "# Cargamos el modelo de escalamiento o scaler que entrenamos anteriormente.\n",
    "scaler = pickle.load(open('models/scaler.pickle', 'rb'))\n",
    "\n",
    "#  Cargamos el modelo de PCA\n",
    "pca = pickle.load(open('models/pca.pickle', 'rb'))\n",
    "\n",
    "# Cargamos el modelo PCA\n",
    "kmeans_pca = pickle.load(open('models/kmeans_pca.pickle', 'rb'))"
   ]
  },
  {
   "cell_type": "markdown",
   "metadata": {},
   "source": [
    "Ahora que tenemos los modelos cargados, vamos a procesar los datos."
   ]
  },
  {
   "cell_type": "code",
   "execution_count": 3,
   "metadata": {},
   "outputs": [],
   "source": [
    "## Aplicamos estandarización\n",
    "\n",
    "features = df_compras[['Sex', 'Marital status', 'Age', 'Education', 'Income', 'Occupation', 'Settlement size']]\n",
    "df_compras_std = scaler.transform(features)\n",
    "\n",
    "# Aplicamos PCA a los datos estandarizados\n",
    "df_compras_pca = pca.transform(df_compras_std)\n",
    "\n",
    "# Segmentamos los datos usando el modelo de KMeans entrenado previamente\n",
    "segmentos = kmeans_pca.predict(df_compras_pca)\n",
    "\n",
    "# Creamos una copia del dataframe original para trabajar sin modificar los datos del set original.\n",
    "df_compras_predictor = df_compras.copy()\n",
    "\n",
    "# Agregamos labels\n",
    "df_compras_predictor[\"Segmento\"] = segmentos\n",
    "\n",
    "segmentos_dummies = pd.get_dummies(segmentos, prefix = 'Segmento', prefix_sep = '_')\n",
    "df_compras_predictor = pd.concat([df_compras_predictor, segmentos_dummies], axis = 1)\n",
    "\n",
    "# df_compras_predictor.head()"
   ]
  },
  {
   "cell_type": "markdown",
   "metadata": {},
   "source": [
    "##### Importante\n",
    "Es conveniente usar el método [Pipline](https://scikit-learn.org/stable/modules/generated/sklearn.pipeline.Pipeline.html) de Scikit-learn para el procesamiento de los datos."
   ]
  },
  {
   "cell_type": "markdown",
   "metadata": {},
   "source": [
    "## Modelo para predicción de compras\n",
    "\n",
    "Bien, para entrenar un modelo necesitamos una (o más) variable independiente y una (o más) variable dependiente.\n",
    "\n",
    "En nuestro caso, sabemos que las compras de cierta barra se dió si la columna *Incidence* es igual a uno. Usaremos dicha columna como $Y$, es decir, variable dependiente. Por otro lado, vamos a usar el *promedio de precios* (desde precio 1 a precio 5) para utilizarlo como variable independiente, es decir, $X$. Con esto, intentaremos predecir la compra o no de una barra de chocolate para un rango de precios que definiremos y así estimar el comportamiento de un cliente *promedio* ante la compra de barras de chocolates en función de las 5 marcas dentro del set de datos."
   ]
  },
  {
   "cell_type": "code",
   "execution_count": 4,
   "metadata": {},
   "outputs": [
    {
     "data": {
      "text/html": [
       "<div>\n",
       "<style scoped>\n",
       "    .dataframe tbody tr th:only-of-type {\n",
       "        vertical-align: middle;\n",
       "    }\n",
       "\n",
       "    .dataframe tbody tr th {\n",
       "        vertical-align: top;\n",
       "    }\n",
       "\n",
       "    .dataframe thead th {\n",
       "        text-align: right;\n",
       "    }\n",
       "</style>\n",
       "<table border=\"1\" class=\"dataframe\">\n",
       "  <thead>\n",
       "    <tr style=\"text-align: right;\">\n",
       "      <th></th>\n",
       "      <th>precio</th>\n",
       "    </tr>\n",
       "  </thead>\n",
       "  <tbody>\n",
       "    <tr>\n",
       "      <th>0</th>\n",
       "      <td>2.044</td>\n",
       "    </tr>\n",
       "    <tr>\n",
       "      <th>1</th>\n",
       "      <td>2.028</td>\n",
       "    </tr>\n",
       "    <tr>\n",
       "      <th>2</th>\n",
       "      <td>2.028</td>\n",
       "    </tr>\n",
       "    <tr>\n",
       "      <th>3</th>\n",
       "      <td>2.028</td>\n",
       "    </tr>\n",
       "    <tr>\n",
       "      <th>4</th>\n",
       "      <td>2.030</td>\n",
       "    </tr>\n",
       "  </tbody>\n",
       "</table>\n",
       "</div>"
      ],
      "text/plain": [
       "   precio\n",
       "0   2.044\n",
       "1   2.028\n",
       "2   2.028\n",
       "3   2.028\n",
       "4   2.030"
      ]
     },
     "execution_count": 4,
     "metadata": {},
     "output_type": "execute_result"
    }
   ],
   "source": [
    "# Variable dependiente\n",
    "Y = df_compras_predictor[\"Incidence\"]\n",
    "\n",
    "# Variable independiente\n",
    "X = pd.DataFrame(df_compras_predictor[['Price_1', 'Price_2', 'Price_3', 'Price_4','Price_5']].mean(axis=1), columns = [\"precio\"])\n",
    "X.head()"
   ]
  },
  {
   "cell_type": "code",
   "execution_count": 5,
   "metadata": {},
   "outputs": [
    {
     "data": {
      "text/html": [
       "<style>#sk-container-id-1 {color: black;background-color: white;}#sk-container-id-1 pre{padding: 0;}#sk-container-id-1 div.sk-toggleable {background-color: white;}#sk-container-id-1 label.sk-toggleable__label {cursor: pointer;display: block;width: 100%;margin-bottom: 0;padding: 0.3em;box-sizing: border-box;text-align: center;}#sk-container-id-1 label.sk-toggleable__label-arrow:before {content: \"▸\";float: left;margin-right: 0.25em;color: #696969;}#sk-container-id-1 label.sk-toggleable__label-arrow:hover:before {color: black;}#sk-container-id-1 div.sk-estimator:hover label.sk-toggleable__label-arrow:before {color: black;}#sk-container-id-1 div.sk-toggleable__content {max-height: 0;max-width: 0;overflow: hidden;text-align: left;background-color: #f0f8ff;}#sk-container-id-1 div.sk-toggleable__content pre {margin: 0.2em;color: black;border-radius: 0.25em;background-color: #f0f8ff;}#sk-container-id-1 input.sk-toggleable__control:checked~div.sk-toggleable__content {max-height: 200px;max-width: 100%;overflow: auto;}#sk-container-id-1 input.sk-toggleable__control:checked~label.sk-toggleable__label-arrow:before {content: \"▾\";}#sk-container-id-1 div.sk-estimator input.sk-toggleable__control:checked~label.sk-toggleable__label {background-color: #d4ebff;}#sk-container-id-1 div.sk-label input.sk-toggleable__control:checked~label.sk-toggleable__label {background-color: #d4ebff;}#sk-container-id-1 input.sk-hidden--visually {border: 0;clip: rect(1px 1px 1px 1px);clip: rect(1px, 1px, 1px, 1px);height: 1px;margin: -1px;overflow: hidden;padding: 0;position: absolute;width: 1px;}#sk-container-id-1 div.sk-estimator {font-family: monospace;background-color: #f0f8ff;border: 1px dotted black;border-radius: 0.25em;box-sizing: border-box;margin-bottom: 0.5em;}#sk-container-id-1 div.sk-estimator:hover {background-color: #d4ebff;}#sk-container-id-1 div.sk-parallel-item::after {content: \"\";width: 100%;border-bottom: 1px solid gray;flex-grow: 1;}#sk-container-id-1 div.sk-label:hover label.sk-toggleable__label {background-color: #d4ebff;}#sk-container-id-1 div.sk-serial::before {content: \"\";position: absolute;border-left: 1px solid gray;box-sizing: border-box;top: 0;bottom: 0;left: 50%;z-index: 0;}#sk-container-id-1 div.sk-serial {display: flex;flex-direction: column;align-items: center;background-color: white;padding-right: 0.2em;padding-left: 0.2em;position: relative;}#sk-container-id-1 div.sk-item {position: relative;z-index: 1;}#sk-container-id-1 div.sk-parallel {display: flex;align-items: stretch;justify-content: center;background-color: white;position: relative;}#sk-container-id-1 div.sk-item::before, #sk-container-id-1 div.sk-parallel-item::before {content: \"\";position: absolute;border-left: 1px solid gray;box-sizing: border-box;top: 0;bottom: 0;left: 50%;z-index: -1;}#sk-container-id-1 div.sk-parallel-item {display: flex;flex-direction: column;z-index: 1;position: relative;background-color: white;}#sk-container-id-1 div.sk-parallel-item:first-child::after {align-self: flex-end;width: 50%;}#sk-container-id-1 div.sk-parallel-item:last-child::after {align-self: flex-start;width: 50%;}#sk-container-id-1 div.sk-parallel-item:only-child::after {width: 0;}#sk-container-id-1 div.sk-dashed-wrapped {border: 1px dashed gray;margin: 0 0.4em 0.5em 0.4em;box-sizing: border-box;padding-bottom: 0.4em;background-color: white;}#sk-container-id-1 div.sk-label label {font-family: monospace;font-weight: bold;display: inline-block;line-height: 1.2em;}#sk-container-id-1 div.sk-label-container {text-align: center;}#sk-container-id-1 div.sk-container {/* jupyter's `normalize.less` sets `[hidden] { display: none; }` but bootstrap.min.css set `[hidden] { display: none !important; }` so we also need the `!important` here to be able to override the default hidden behavior on the sphinx rendered scikit-learn.org. See: https://github.com/scikit-learn/scikit-learn/issues/21755 */display: inline-block !important;position: relative;}#sk-container-id-1 div.sk-text-repr-fallback {display: none;}</style><div id=\"sk-container-id-1\" class=\"sk-top-container\"><div class=\"sk-text-repr-fallback\"><pre>LogisticRegression(solver=&#x27;sag&#x27;)</pre><b>In a Jupyter environment, please rerun this cell to show the HTML representation or trust the notebook. <br />On GitHub, the HTML representation is unable to render, please try loading this page with nbviewer.org.</b></div><div class=\"sk-container\" hidden><div class=\"sk-item\"><div class=\"sk-estimator sk-toggleable\"><input class=\"sk-toggleable__control sk-hidden--visually\" id=\"sk-estimator-id-1\" type=\"checkbox\" checked><label for=\"sk-estimator-id-1\" class=\"sk-toggleable__label sk-toggleable__label-arrow\">LogisticRegression</label><div class=\"sk-toggleable__content\"><pre>LogisticRegression(solver=&#x27;sag&#x27;)</pre></div></div></div></div></div>"
      ],
      "text/plain": [
       "LogisticRegression(solver='sag')"
      ]
     },
     "execution_count": 5,
     "metadata": {},
     "output_type": "execute_result"
    }
   ],
   "source": [
    "lr_predictor = LogisticRegression(solver = \"sag\")\n",
    "lr_predictor.fit(X,Y) #entrenamos el modelo"
   ]
  },
  {
   "cell_type": "markdown",
   "metadata": {},
   "source": [
    "La clase *LogisticRegression()* nos estima la probabilidad de compra.\n",
    "\n",
    "Uno de los atributos dentro del objeto *lr_predictor* es *coef_*. El mismo representa el (o los coeficientes) que obtuvo el modelo al entrenarse con los datos dentro de $X$. Dicho coeficiente es parte de la ecuación que hemos mencionado arriba y se obtiene al resolver y disminuir la función de costo.\n",
    "\n",
    "En nuestro caso, el coeficiente representa el *precio medio* de compra de las cinco marcas de barras de chocolate que utiliza el modelo para realizar las etimaciones (cálculo de probabilidades)."
   ]
  },
  {
   "cell_type": "code",
   "execution_count": 6,
   "metadata": {},
   "outputs": [
    {
     "data": {
      "text/plain": [
       "array([[-2.34794675]])"
      ]
     },
     "execution_count": 6,
     "metadata": {},
     "output_type": "execute_result"
    }
   ],
   "source": [
    "lr_predictor.coef_"
   ]
  },
  {
   "cell_type": "markdown",
   "metadata": {},
   "source": [
    "Vemos que el valor del coeficiente es $-2.34$ lo cual implica que **un decremento en el precio implica un incremento en la probabilidad de compra**. Esto último no nos aporta nada nuevo, es algo intuitivo.\n",
    "\n",
    "No obstante, es importante que tengamos en cuenta que este modelo cuantifica la relación entre el *precio* y la *probabilidad de compra*.\n",
    "\n",
    "Veamos la dirección (si aumenta o disminuye) y la magnitud de cambio en la probabilidad de compra al cambiar el precio."
   ]
  },
  {
   "cell_type": "markdown",
   "metadata": {},
   "source": [
    "## Elasticidad de precio respecto de la probabilidad de compra\n",
    "\n",
    "Aquí se dejan algunos artículos acerca de qué es la elasticidad de precio.\n",
    "\n",
    "- [What Is Price Elasticity?](https://365datascience.com/trending/price-elasticity/)\n",
    "- [Step By Step Analyzing Price Elasticity With Promotion Feature Against Purchase Probability](https://medium.com/@miradzji/purchase-probability-analysis-in-certain-market-segments-with-python-b346654ea5ec)\n",
    "- [Price Elasticity: How Vulnerable Is Your Product In The Market?](https://affine.ai/price-elasticity-how-vulnerable-is-your-product-in-the-market/)\n",
    "\n",
    "Según [wikipedia](https://es.wikipedia.org/wiki/Elasticidad_precio_de_la_demanda),\n",
    ">   \"*la elasticidad en el precio de la demanda es una medida utilizada en economía para mostrar el grado de respuesta, o elasticidad, de la cantidad demandada de un bien o servicio a los cambios en el precio de dicho bien o servicio*\".\n",
    "\n",
    "### Fórmula de elassticidad\n",
    "\n",
    "Recordemos que la elasticidad está definida matemáticamente cómo,\n",
    "\n",
    "$$ E = \\frac{\\frac{\\Delta~P(compra)}{P(compra)}}{\\frac{\\Delta~Precio}{Precio}} = \\frac{\\Delta~P(compra)}{{\\Delta~Precio}}\\times\\frac{Precio}{P(compra)}$$\n",
    "\n",
    "Donde $\\Delta$ implica una *diferencia* y $P(compra)$ es la *probabilidad de compra*. Por ejemplo, $\\Delta Precio = Precio_{t} - Precio_{t-1}$\n",
    "\n",
    "Ahora bien, si trabajamos matemáticamente la fórmula anterior podemos llegar a la siguiente,\n",
    "\n",
    "$$ E = \\beta \\times precio \\times \\left(1- P(compra)\\right) $$\n",
    "\n",
    "Donde $\\beta$ es el coeficiente (o coeficientes) obtenido a partir del modelo.\n",
    "\n",
    "#### Importancia en la elasticidad de precios\n",
    "\n",
    "- Es importante el análisis de la elasticidad de precio porque nos puede decir cuánto decrecerá la probabilidad de compra de cierto producto cuando su precio varía.\n",
    "\n",
    "- Podríamos extender el análisis para intentar determinar la probabilidad de selección de una u otra marca en base a variaciones de precio de la marca competidora, por ejemplo.\n",
    "\n",
    "- Y finalmente, podríamos usar la elasticidad de precios para intentar estimar la cantidad de unidades a venderse según las variaciones en los precios."
   ]
  },
  {
   "cell_type": "markdown",
   "metadata": {},
   "source": [
    "#### Rango de precios para estimar probabilidades de compra\n",
    "\n",
    "Sabemos que podemos estimar (con el modelo de regresión lineal) la probabilidad de compra de una barra de chocolate dado un precio. Vamos a generar un listado de precios para evaluar las probabilidades de compra.\n",
    "\n",
    "Veamos cual es el rango de precios que tenemos en nuestro set de datos."
   ]
  },
  {
   "cell_type": "code",
   "execution_count": 7,
   "metadata": {},
   "outputs": [
    {
     "data": {
      "text/html": [
       "<div>\n",
       "<style scoped>\n",
       "    .dataframe tbody tr th:only-of-type {\n",
       "        vertical-align: middle;\n",
       "    }\n",
       "\n",
       "    .dataframe tbody tr th {\n",
       "        vertical-align: top;\n",
       "    }\n",
       "\n",
       "    .dataframe thead th {\n",
       "        text-align: right;\n",
       "    }\n",
       "</style>\n",
       "<table border=\"1\" class=\"dataframe\">\n",
       "  <thead>\n",
       "    <tr style=\"text-align: right;\">\n",
       "      <th></th>\n",
       "      <th>Price_1</th>\n",
       "      <th>Price_2</th>\n",
       "      <th>Price_3</th>\n",
       "      <th>Price_4</th>\n",
       "      <th>Price_5</th>\n",
       "    </tr>\n",
       "  </thead>\n",
       "  <tbody>\n",
       "    <tr>\n",
       "      <th>count</th>\n",
       "      <td>14638.000000</td>\n",
       "      <td>14638.000000</td>\n",
       "      <td>14638.000000</td>\n",
       "      <td>14638.000000</td>\n",
       "      <td>14638.000000</td>\n",
       "    </tr>\n",
       "    <tr>\n",
       "      <th>mean</th>\n",
       "      <td>1.384559</td>\n",
       "      <td>1.764717</td>\n",
       "      <td>2.006694</td>\n",
       "      <td>2.159658</td>\n",
       "      <td>2.654296</td>\n",
       "    </tr>\n",
       "    <tr>\n",
       "      <th>std</th>\n",
       "      <td>0.090944</td>\n",
       "      <td>0.181667</td>\n",
       "      <td>0.046200</td>\n",
       "      <td>0.093253</td>\n",
       "      <td>0.097724</td>\n",
       "    </tr>\n",
       "    <tr>\n",
       "      <th>min</th>\n",
       "      <td>1.100000</td>\n",
       "      <td>1.260000</td>\n",
       "      <td>1.870000</td>\n",
       "      <td>1.760000</td>\n",
       "      <td>2.110000</td>\n",
       "    </tr>\n",
       "    <tr>\n",
       "      <th>25%</th>\n",
       "      <td>1.340000</td>\n",
       "      <td>1.570000</td>\n",
       "      <td>1.970000</td>\n",
       "      <td>2.120000</td>\n",
       "      <td>2.630000</td>\n",
       "    </tr>\n",
       "    <tr>\n",
       "      <th>50%</th>\n",
       "      <td>1.390000</td>\n",
       "      <td>1.880000</td>\n",
       "      <td>2.010000</td>\n",
       "      <td>2.180000</td>\n",
       "      <td>2.670000</td>\n",
       "    </tr>\n",
       "    <tr>\n",
       "      <th>75%</th>\n",
       "      <td>1.470000</td>\n",
       "      <td>1.890000</td>\n",
       "      <td>2.060000</td>\n",
       "      <td>2.240000</td>\n",
       "      <td>2.700000</td>\n",
       "    </tr>\n",
       "    <tr>\n",
       "      <th>max</th>\n",
       "      <td>1.590000</td>\n",
       "      <td>1.900000</td>\n",
       "      <td>2.140000</td>\n",
       "      <td>2.260000</td>\n",
       "      <td>2.800000</td>\n",
       "    </tr>\n",
       "  </tbody>\n",
       "</table>\n",
       "</div>"
      ],
      "text/plain": [
       "            Price_1       Price_2       Price_3       Price_4       Price_5\n",
       "count  14638.000000  14638.000000  14638.000000  14638.000000  14638.000000\n",
       "mean       1.384559      1.764717      2.006694      2.159658      2.654296\n",
       "std        0.090944      0.181667      0.046200      0.093253      0.097724\n",
       "min        1.100000      1.260000      1.870000      1.760000      2.110000\n",
       "25%        1.340000      1.570000      1.970000      2.120000      2.630000\n",
       "50%        1.390000      1.880000      2.010000      2.180000      2.670000\n",
       "75%        1.470000      1.890000      2.060000      2.240000      2.700000\n",
       "max        1.590000      1.900000      2.140000      2.260000      2.800000"
      ]
     },
     "execution_count": 7,
     "metadata": {},
     "output_type": "execute_result"
    }
   ],
   "source": [
    "#Rango de precios para las 5 marcas\n",
    "df_compras_predictor[df_compras_predictor[\"Incidence\"]==1][['Price_1', 'Price_2', 'Price_3', 'Price_4', 'Price_5']].describe()"
   ]
  },
  {
   "cell_type": "markdown",
   "metadata": {},
   "source": [
    "El precio mínimo corresponde a *Price_1* y es de 1.1USD. El precio máximo corresponde a *Price_5* y es de 2.8USD. "
   ]
  },
  {
   "cell_type": "code",
   "execution_count": 8,
   "metadata": {},
   "outputs": [],
   "source": [
    "rango_precios = pd.DataFrame(np.arange(0.5, 3.5, 0.01), columns = [\"precio\"]).round(2)\n",
    "# rango_precios.head()"
   ]
  },
  {
   "cell_type": "markdown",
   "metadata": {},
   "source": [
    "Ahora bien, ya tenemos un rango de precios. Por lo tanto, lo que vamos a hacer es utilizar nuestro modelo de regresión lineal para estimar las probabilidades de compra según los precios que hemos generado."
   ]
  },
  {
   "cell_type": "code",
   "execution_count": 9,
   "metadata": {},
   "outputs": [
    {
     "data": {
      "text/plain": [
       "array([[0.08211039, 0.91788961],\n",
       "       [0.08389745, 0.91610255],\n",
       "       [0.08571977, 0.91428023],\n",
       "       [0.08757789, 0.91242211],\n",
       "       [0.08947234, 0.91052766],\n",
       "       [0.09140367, 0.90859633],\n",
       "       [0.09337242, 0.90662758],\n",
       "       [0.09537912, 0.90462088],\n",
       "       [0.09742431, 0.90257569],\n",
       "       [0.09950853, 0.90049147]])"
      ]
     },
     "execution_count": 9,
     "metadata": {},
     "output_type": "execute_result"
    }
   ],
   "source": [
    "probabilidades = lr_predictor.predict_proba(rango_precios)\n",
    "probabilidades[:10]"
   ]
  },
  {
   "attachments": {},
   "cell_type": "markdown",
   "metadata": {},
   "source": [
    "Recordemos que el método *[predict_proba()](https://scikit-learn.org/stable/modules/generated/sklearn.linear_model.LogisticRegression.html#sklearn.linear_model.LogisticRegression.predict_proba)* lo que hace es estimar las probabilidades para cada clase. En este caso, estará estimando las probabilidades de compra para cada marca en base al set de datos que le hemos pasado al modelo."
   ]
  },
  {
   "cell_type": "markdown",
   "metadata": {},
   "source": [
    "#### ¿Qué nos dicen estos números?\n",
    "\n",
    "Recordemos que el modelo de regresión lineal nos arroja *la probabilidad de que NO se compre un producto o de que SI se compre un producto*.\n",
    "\n",
    "En este caso, vemos para cada precio propuesto, dos valores. Los valores de la columna izquierda representa la probabilidad de que NO se compre una barra de chocolate, mientras que la columna de la derecha representa la probabilidad de que SI se compra una barra de chocolate.\n",
    "\n",
    "Podemos ver que a medida que el precio crece, la probabilidad de compra disminuye, lo cual como hemos dicho, es intuitivo.\n",
    "\n",
    "Ya que estamos interesados en la probabilidad de compra vamos a quedarnos con la columna de la derecha."
   ]
  },
  {
   "cell_type": "code",
   "execution_count": 10,
   "metadata": {},
   "outputs": [],
   "source": [
    "proba_compra = probabilidades[:,1]"
   ]
  },
  {
   "cell_type": "markdown",
   "metadata": {},
   "source": [
    "### Elasticidad\n",
    "\n",
    "Vamos a calcular la elasticidad en base a los valores que tenemos ahora para ver cómo se comporta la compra de barras de chocolate según la variación de precios."
   ]
  },
  {
   "cell_type": "code",
   "execution_count": 11,
   "metadata": {},
   "outputs": [],
   "source": [
    "beta = lr_predictor.coef_[0][0] #beta\n",
    "elasticidad_media = beta*rango_precios[\"precio\"].values*(1 - proba_compra)\n",
    "# elasticidad_media[:10]"
   ]
  },
  {
   "cell_type": "code",
   "execution_count": 12,
   "metadata": {},
   "outputs": [],
   "source": [
    "master_elasticidades = pd.DataFrame(rango_precios) #dataframe con los valores de elasticidad\n",
    "master_elasticidades[\"elasticidad media\"] = elasticidad_media\n",
    "# master_elasticidades.head()"
   ]
  },
  {
   "cell_type": "markdown",
   "metadata": {},
   "source": [
    "Los valores de elasticidad dentro de *Elasticidad Media* nos permitirán **estimar el comportamiento de compra del cliente medio**."
   ]
  },
  {
   "cell_type": "code",
   "execution_count": 13,
   "metadata": {},
   "outputs": [],
   "source": [
    "# pd.options.display.max_rows = None\n",
    "# master_elasticidades"
   ]
  },
  {
   "cell_type": "markdown",
   "metadata": {},
   "source": [
    "#### Graficando elasticidad"
   ]
  },
  {
   "cell_type": "code",
   "execution_count": 14,
   "metadata": {},
   "outputs": [
    {
     "data": {
      "image/png": "[encoded data removed]",
      "text/plain": [
       "<Figure size 720x576 with 1 Axes>"
      ]
     },
     "metadata": {
      "needs_background": "light"
     },
     "output_type": "display_data"
    }
   ],
   "source": [
    "fig, ax = plt.subplots(figsize = (10,8))\n",
    "ax.set_title(\"Elasticidad de precios para Probabilidad de Compra\", fontsize = 14)\n",
    "ax.set_xlabel(\"Precio\")\n",
    "ax.set_ylabel(\"Elasticidad\")\n",
    "ax.axvspan(0.5, 1.1, color = \"#005500\", alpha=0.2, label = \"caida lenta\")\n",
    "ax.axvspan(1.1, 3.49, color = \"#0055ff\", alpha=0.2, label = \"caida rápida\")\n",
    "ax.plot(master_elasticidades[\"precio\"],master_elasticidades[\"elasticidad media\"], color = \"#0055ff\",label = \"Elasticidad\")\n",
    "plt.legend()\n",
    "plt.show()"
   ]
  },
  {
   "cell_type": "markdown",
   "metadata": {},
   "source": [
    "%%latex\n",
    "\n",
    "#### Comentarios sobre gráfico de elasticidad para la probabilidad de compra\n",
    "\n",
    "- A medida que el precio crece, la probabilidad de compra de barras de chocolate decrece (nada nuevo por ahora).\n",
    "- La caida en la probabilidad de compra sucede *a diferentes velocidades* según el precio. Por ejemplo, entre 0.5USD y 1.1USD la caída es lenta (superficie en verde), mientras que desde 1.1USD en adelante, la caída en la probabilida de compra empieza a caer rápidamente (superficie en azul).\n",
    "- Los valores de elasticidad son todos negativos. En este caso particular, vimos que el coeficiente obtenido por el modelo era de $-2.35$, lo cual genera una pendiente negativa en el gráfico. Esto nos dice que la relación entre precios y probabilidad de compra es una relación *inversamente proporcional*. No obstante, debemos tener en cuenta que **no siempre** tendremos valores negativos de elasticidad, como veremos más adelante.\n",
    "\n",
    "En escencia,\n",
    "\n",
    "\\textcolor[HTML]{0055ff}{la elasticidad mide el \\emph{cambio porcentual} en la \\textbf{variable de salida}, que en nuestro caso es la \\textbf{probabilidad de compra}, dado un \\emph{cambio porcentual} en la \\textbf{variable de entrada}, que en nuestro caso es el \\textbf{precio de las barras de chocolate}}\n",
    "\n",
    "Ahora bien, si el cambio porcentual es **mayor al $100\\%$** decimos que la salida (probabilidad de compra) es **elástica**, sino decimos que es **inelástica**. Es decir,\n",
    "\n",
    "$$ |E| < 1 ~ Inelástico $$\n",
    "$$ |E| > 1 ~ Elástico $$\n",
    "\n",
    "Analicemos esto con valores numéricos.\n",
    "\n",
    "- *Rango inelástico*: Tomemos el caso del precio en 1.1USD. ¿Cuánta será la variación en la probabilidad de compra?"
   ]
  },
  {
   "cell_type": "code",
   "execution_count": 15,
   "metadata": {},
   "outputs": [
    {
     "data": {
      "text/html": [
       "<div>\n",
       "<style scoped>\n",
       "    .dataframe tbody tr th:only-of-type {\n",
       "        vertical-align: middle;\n",
       "    }\n",
       "\n",
       "    .dataframe tbody tr th {\n",
       "        vertical-align: top;\n",
       "    }\n",
       "\n",
       "    .dataframe thead th {\n",
       "        text-align: right;\n",
       "    }\n",
       "</style>\n",
       "<table border=\"1\" class=\"dataframe\">\n",
       "  <thead>\n",
       "    <tr style=\"text-align: right;\">\n",
       "      <th></th>\n",
       "      <th>precio</th>\n",
       "      <th>elasticidad media</th>\n",
       "    </tr>\n",
       "  </thead>\n",
       "  <tbody>\n",
       "    <tr>\n",
       "      <th>60</th>\n",
       "      <td>1.1</td>\n",
       "      <td>-0.691946</td>\n",
       "    </tr>\n",
       "  </tbody>\n",
       "</table>\n",
       "</div>"
      ],
      "text/plain": [
       "    precio  elasticidad media\n",
       "60     1.1          -0.691946"
      ]
     },
     "execution_count": 15,
     "metadata": {},
     "output_type": "execute_result"
    }
   ],
   "source": [
    "master_elasticidades[master_elasticidades[\"precio\"] == 1.1]"
   ]
  },
  {
   "cell_type": "markdown",
   "metadata": {},
   "source": [
    "Podemos ver que cuando el precio de la barra de chocolate es de 1.1USD, el valor de elasticidad es de $-0.691$. Esto implica que **por cada cambio en 1% del precio, la probabilidad de compra cambiará en un valor de $-0.691\\%$**. Por lo tanto, esperamos una caída en la probabilidad de compra de $-0.691\\%$."
   ]
  },
  {
   "cell_type": "markdown",
   "metadata": {},
   "source": [
    "- *Rango elástico*:  Tomemos el caso del precio en 1.5USD. ¿Cuánta será la variación en la probabilidad de compra?"
   ]
  },
  {
   "cell_type": "code",
   "execution_count": 16,
   "metadata": {},
   "outputs": [
    {
     "data": {
      "text/html": [
       "<div>\n",
       "<style scoped>\n",
       "    .dataframe tbody tr th:only-of-type {\n",
       "        vertical-align: middle;\n",
       "    }\n",
       "\n",
       "    .dataframe tbody tr th {\n",
       "        vertical-align: top;\n",
       "    }\n",
       "\n",
       "    .dataframe thead th {\n",
       "        text-align: right;\n",
       "    }\n",
       "</style>\n",
       "<table border=\"1\" class=\"dataframe\">\n",
       "  <thead>\n",
       "    <tr style=\"text-align: right;\">\n",
       "      <th></th>\n",
       "      <th>precio</th>\n",
       "      <th>elasticidad media</th>\n",
       "    </tr>\n",
       "  </thead>\n",
       "  <tbody>\n",
       "    <tr>\n",
       "      <th>100</th>\n",
       "      <td>1.5</td>\n",
       "      <td>-1.702812</td>\n",
       "    </tr>\n",
       "  </tbody>\n",
       "</table>\n",
       "</div>"
      ],
      "text/plain": [
       "     precio  elasticidad media\n",
       "100     1.5          -1.702812"
      ]
     },
     "execution_count": 16,
     "metadata": {},
     "output_type": "execute_result"
    }
   ],
   "source": [
    "master_elasticidades[master_elasticidades[\"precio\"] == 1.5]"
   ]
  },
  {
   "cell_type": "markdown",
   "metadata": {},
   "source": [
    "Para el precio en 1.5USD la elasticidad es de $-1.70$. Esto implica que **por cada cambio en 1% del precio, la probabilidad de compra cambiará en un valor de $-1.70\\%$**. Por lo tanto, esperamos una caida de casi $2\\%$ en la probabilidad de compra."
   ]
  },
  {
   "cell_type": "markdown",
   "metadata": {},
   "source": [
    "### ¿Por qué es importante la distinción entre rango *inelástico* y el rango *elástico*?\n",
    "\n",
    "Cuando los valores de elasticidad son inelásticos, la recomendación general es **incrementar los precios** ya que se espera que dicho incremento no cause un significativo decrecimiento en la variable de salida, es decir, en la probabilidad de compra.\n",
    "\n",
    "Por otro lado, cuando los valores de elasticidad son elásticos (valores más grandes que 1 en valor absoluto), la recomendación es **disminuir** los precios.\n",
    "\n",
    "¿En qué punto los valores pasan de ser inelásticos a elásticos en nuestro set de datos?"
   ]
  },
  {
   "cell_type": "code",
   "execution_count": 17,
   "metadata": {},
   "outputs": [
    {
     "data": {
      "text/html": [
       "<div>\n",
       "<style scoped>\n",
       "    .dataframe tbody tr th:only-of-type {\n",
       "        vertical-align: middle;\n",
       "    }\n",
       "\n",
       "    .dataframe tbody tr th {\n",
       "        vertical-align: top;\n",
       "    }\n",
       "\n",
       "    .dataframe thead th {\n",
       "        text-align: right;\n",
       "    }\n",
       "</style>\n",
       "<table border=\"1\" class=\"dataframe\">\n",
       "  <thead>\n",
       "    <tr style=\"text-align: right;\">\n",
       "      <th></th>\n",
       "      <th>precio</th>\n",
       "      <th>elasticidad media</th>\n",
       "    </tr>\n",
       "  </thead>\n",
       "  <tbody>\n",
       "    <tr>\n",
       "      <th>75</th>\n",
       "      <td>1.25</td>\n",
       "      <td>-1.004634</td>\n",
       "    </tr>\n",
       "  </tbody>\n",
       "</table>\n",
       "</div>"
      ],
      "text/plain": [
       "    precio  elasticidad media\n",
       "75    1.25          -1.004634"
      ]
     },
     "execution_count": 17,
     "metadata": {},
     "output_type": "execute_result"
    }
   ],
   "source": [
    "# np.abs(master_elasticidades[np.abs(master_elasticidades[\"elasticidad media\"]) < 1.].iloc[-1])\n",
    "master_elasticidades[np.round(np.abs(master_elasticidades[\"elasticidad media\"]),2) == 1.]"
   ]
  },
  {
   "cell_type": "markdown",
   "metadata": {},
   "source": [
    "Para nuestros datos, el precio cuando se cumple $|E|<1$ es de 1.25USD.\n",
    "\n",
    "Esto nos deja la siguiente conclusión.\n",
    "\n",
    "> Para precios por debajo de 1.25USD podríamos incrementar el valor de una barra de chocolate sin perder mucho en términos de probabilidad de compra. Por otro lado, para precios por encima de 1.25USD, podríamos ganar al reducir los precios.\n",
    "\n",
    "En el siguiente gráfico vemos las regiones inelásticas y elásticas en colores verde y rojo, respectivamente."
   ]
  },
  {
   "cell_type": "code",
   "execution_count": 18,
   "metadata": {},
   "outputs": [
    {
     "data": {
      "image/png": "[encoded data removed]",
      "text/plain": [
       "<Figure size 720x576 with 1 Axes>"
      ]
     },
     "metadata": {
      "needs_background": "light"
     },
     "output_type": "display_data"
    }
   ],
   "source": [
    "fig, ax = plt.subplots(figsize = (10,8))\n",
    "ax.set_title(\"Elasticidad de precios para Probabilidad de Compra\", fontsize = 14)\n",
    "ax.set_xlabel(\"Precio\")\n",
    "ax.set_ylabel(\"Elasticidad\")\n",
    "ax.axvspan(0.5, 1.25, color = \"#005500\", alpha=0.2, label = \"Región inelástica\")\n",
    "ax.axvspan(1.25, 3.49, color = \"#ff0000\", alpha=0.2, label = \"Región elástica\")\n",
    "ax.plot(master_elasticidades[\"precio\"],master_elasticidades[\"elasticidad media\"], color = \"#0055ff\", label = \"Elasticidad\")\n",
    "plt.legend()\n",
    "plt.show()"
   ]
  },
  {
   "cell_type": "markdown",
   "metadata": {},
   "source": [
    "### Conclusiones\n",
    "\n",
    "Hemos utilizado la definición de elasticidad para analizar en que dirección y con qué magnitud puede cambiar la probabilidad de compra de las barras de chocolate. Recordemos que el análisis esta referido al cliente *promedio* ya que hemos entrenado el modelo de regresión lineal sobre los valores medios de precios considerando la compra de cualquiera de las 5 marcas.\n",
    "\n",
    "No obstante, sería interesante observar los cambios en la probabilidad de compra de barras de chocolates ante cambios de precios en una marca en particular -*own-price elasticity*- y al mismo tiempo, evaluada para im segmento de cliente. Y mejor aún, comparar elasticidades respecto de una marca, por ejemplo, marca 5, versus una marca diferente y así sacar conclusiones de si el cambio en el precio de por ejemplo, la marca 4, tendría un impacto positivo o negativo en la probabilida de compra de la marca 5 en el segmento 3."
   ]
  }
 ],
 "metadata": {
  "kernelspec": {
   "display_name": "costumeranalytics",
   "language": "python",
   "name": "python3"
  },
  "language_info": {
   "codemirror_mode": {
    "name": "ipython",
    "version": 3
   },
   "file_extension": ".py",
   "mimetype": "text/x-python",
   "name": "python",
   "nbconvert_exporter": "python",
   "pygments_lexer": "ipython3",
   "version": "3.10.8 | packaged by conda-forge | (main, Nov 24 2022, 14:07:00) [MSC v.1916 64 bit (AMD64)]"
  },
  "vscode": {
   "interpreter": {
    "hash": "a04268169029a6c8c242914fc5adae46e7d2251e916247388ae8472995069ae4"
   }
  }
 },
 "nbformat": 4,
 "nbformat_minor": 2
}
